{
 "cells": [
  {
   "cell_type": "code",
   "execution_count": 1,
   "id": "94c2e993",
   "metadata": {},
   "outputs": [],
   "source": [
    "import cv2\n",
    "import gym\n",
    "from collections import deque\n",
    "import numpy as np\n",
    "import matplotlib.pyplot as plt\n",
    "from sys import getsizeof\n",
    "import time\n",
    "import torch \n",
    "import torch.nn as nn\n",
    "import torch.nn.functional as F\n",
    "import torch.optim as optim\n",
    "from torch.distributions import Normal\n",
    "from tqdm import tqdm\n",
    "import wandb"
   ]
  },
  {
   "cell_type": "code",
   "execution_count": 2,
   "id": "78e7ea3a",
   "metadata": {},
   "outputs": [],
   "source": [
    "from causal_world.task_generators.task import generate_task\n",
    "from causal_world.envs.causalworld import CausalWorld\n"
   ]
  },
  {
   "cell_type": "code",
   "execution_count": 3,
   "id": "87b0fb10",
   "metadata": {},
   "outputs": [],
   "source": [
    "class FrameStack(gym.Wrapper):\n",
    "    \n",
    "    \"\"\"\n",
    "    stack multiple frames together \n",
    "    as done in the Nature paper and later work.\n",
    "    allow for single goal observation, i.e,\n",
    "    get a single frame of goal obs for each view, \n",
    "    because the consecutive frames of goal obs does not provide\n",
    "    dynamic information to the agent, i.e, goal object doesn't move\n",
    "    \n",
    "    \n",
    "\n",
    "    :param env: Environment to wrap\n",
    "    :param k: frames that stack together\n",
    "    :param single_goal_obs: flag that control how many \n",
    "     frames of goal obs to stack\n",
    "    \"\"\"\n",
    "    def __init__(self, env, k, single_goal_obs = True):\n",
    "        gym.Wrapper.__init__(self, env)\n",
    "        self._k = k\n",
    "        self.single_goal_obs = single_goal_obs\n",
    "        self._frames = deque([], maxlen=k)\n",
    "        self.shp = env.observation_space.shape\n",
    "        self.num_view = int(self.shp[0]/2)\n",
    "        # default channel is 1 (for Grayscale obs)\n",
    "        self.num_channel = 1                   \n",
    "        \n",
    "        # reshape of the obs if it's RGB and \n",
    "        # change the number of channel \n",
    "        if len(self.shp) == 4:\n",
    "            self.shp = (self.shp[0] * self.shp[-1], self.shp[1], self.shp[2])\n",
    "            self.num_channel = 3\n",
    "            \n",
    "        if self.single_goal_obs:\n",
    "            shape = ((self.num_view * self.num_channel * (k + 1),) + self.shp[1:])\n",
    "        else:\n",
    "            shape = ((self.shp[0] * k,) + self.shp[1:])\n",
    "        self.observation_space = gym.spaces.Box(\n",
    "            low=0,\n",
    "            high=1,\n",
    "            shape=shape,\n",
    "            dtype=env.observation_space.dtype\n",
    "        )\n",
    "        \n",
    "\n",
    "    def reset(self):\n",
    "        obs = self.env.reset()\n",
    "        # reshape the initial obs\n",
    "        obs = obs.reshape(self.shp)\n",
    "        for _ in range(self._k):\n",
    "            self._frames.append(obs)\n",
    "        return self._get_obs()\n",
    "\n",
    "    def step(self, action):\n",
    "        obs, reward, done, info = self.env.step(action)\n",
    "         # reshape the obs\n",
    "        obs = obs.reshape(self.shp)\n",
    "        self._frames.append(obs)\n",
    "        return self._get_obs(), reward, done, info\n",
    "\n",
    "    def _get_obs(self):\n",
    "        assert len(self._frames) == self._k\n",
    "        \n",
    "        frames_target = []\n",
    "        frames_goal = []\n",
    "        # extract the target obs and goal obs to seperate list \n",
    "        for i in range(self._k):\n",
    "            for j in range(self.shp[0]):\n",
    "                if j < self.shp[0]/2:\n",
    "                    frames_target.append(self._frames[i][j])\n",
    "                else:\n",
    "                    frames_goal.append(self._frames[i][j])\n",
    "        # merge the two target obs list and goal obs list\n",
    "        # each element in the list is multiple views of the object \n",
    "        last_frames = []\n",
    "        if self.single_goal_obs:\n",
    "            # only merge one frame from different view of goal\n",
    "            for i in range(int(len(frames_goal)/self._k)):\n",
    "                last_frames.append(frames_goal[i])\n",
    "        else:\n",
    "            last_frames = frames_goal\n",
    "        return np.concatenate((frames_target,last_frames), axis=0)"
   ]
  },
  {
   "cell_type": "code",
   "execution_count": 4,
   "id": "57e970a5-7a4d-48a6-9737-26fd7fa5030e",
   "metadata": {},
   "outputs": [],
   "source": [
    "class ResizeFrame(gym.ObservationWrapper):\n",
    "    \"\"\"\n",
    "    warp frames to 84x84 (default)\n",
    "    as done in the Nature paper and later work.\n",
    "\n",
    "    :param env: Environment to wrap\n",
    "    :param width: New frame width\n",
    "    :param height: New frame height\n",
    "    \"\"\"\n",
    "\n",
    "    def __init__(self, env: gym.Env, max_episode_length, width: int = 84, height: int = 84) -> None:\n",
    "        super().__init__(env)\n",
    "        self.width = width\n",
    "        self.height = height\n",
    "        assert isinstance(env.observation_space, gym.spaces.Box), f\"Expected Box space, got {env.observation_space}\"\n",
    "        #self._max_episode_steps = max_episode_length\n",
    "        if len(env.observation_space.shape) == 4:\n",
    "            self.observation_space = gym.spaces.Box(\n",
    "                low=0,\n",
    "                high=1,\n",
    "                shape=(env.observation_space.shape[0], self.height, self.width, env.observation_space.shape[-1]),\n",
    "                dtype=env.observation_space.dtype,  # type: ignore[arg-type]\n",
    "            )\n",
    "        if len(env.observation_space.shape) == 3:\n",
    "            self.observation_space = gym.spaces.Box(\n",
    "                low=0,\n",
    "                high=1,\n",
    "                shape=(env.observation_space.shape[0], self.height, self.width),\n",
    "                dtype=env.observation_space.dtype,  # type: ignore[arg-type]\n",
    "            )\n",
    "        \n",
    "\n",
    "    def observation(self, frame: np.ndarray) -> np.ndarray:\n",
    "        \"\"\"\n",
    "        returns the current observation from a frame\n",
    "\n",
    "        :param frame: environment frame\n",
    "        :return: the observation\n",
    "        \"\"\"\n",
    "        assert cv2 is not None, \"OpenCV is not installed, you can do `pip install opencv-python`\"\n",
    "        \n",
    "        new_frame = np.empty(self.observation_space.shape, dtype = self.observation_space.dtype)\n",
    "        for i in range(len(frame)):\n",
    "            new_frame[i] = cv2.resize(frame[i], (self.width, self.height), interpolation=cv2.INTER_AREA)\n",
    "        return new_frame"
   ]
  },
  {
   "cell_type": "code",
   "execution_count": 5,
   "id": "6524b28b-cde2-4bf1-ae5f-818467dd3059",
   "metadata": {},
   "outputs": [],
   "source": [
    "class GrayFrame(gym.ObservationWrapper):\n",
    "    \"\"\"\n",
    "    Convert frames to gray scale (default)\n",
    "    as done in the Nature paper and later work.\n",
    "\n",
    "    :param env: Environment to wrap\n",
    "    :param width: New frame width\n",
    "    :param height: New frame height\n",
    "    \"\"\"\n",
    "\n",
    "    def __init__(self, env: gym.Env, max_episode_length) -> None:\n",
    "        super().__init__(env)\n",
    "        assert isinstance(env.observation_space, gym.spaces.Box), f\"Expected Box space, got {env.observation_space}\"\n",
    "        \n",
    "        #self._max_episode_steps = max_episode_length\n",
    "        if len(env.observation_space.shape) == 3:\n",
    "            return\n",
    "        self.observation_space = gym.spaces.Box(\n",
    "            low=0,\n",
    "            high=1,\n",
    "            shape= env.observation_space.shape[:3],\n",
    "            dtype=env.observation_space.dtype,  # type: ignore[arg-type]\n",
    "        )\n",
    "        \n",
    "\n",
    "    def observation(self, frame: np.ndarray) -> np.ndarray:\n",
    "        \"\"\"\n",
    "        returns the current observation from a frame\n",
    "\n",
    "        :param frame: environment frame\n",
    "        :return: the observation\n",
    "        \"\"\"\n",
    "        assert cv2 is not None, \"OpenCV is not installed, you can do `pip install opencv-python`\"\n",
    "        \n",
    "        if self.observation_space.dtype != 'uint8':\n",
    "            frame = np.float32(frame)\n",
    "        new_frame = np.empty(self.observation_space.shape, dtype = self.observation_space.dtype)\n",
    "        for i in range(len(frame)):\n",
    "            new_frame[i] = cv2.cvtColor(frame[i], cv2.COLOR_RGB2GRAY) \n",
    "\n",
    "\n",
    "        return new_frame    "
   ]
  },
  {
   "cell_type": "code",
   "execution_count": 6,
   "id": "9d3a64f8-1f79-43e1-8b2d-d2afe52bda48",
   "metadata": {},
   "outputs": [],
   "source": [
    "# adapted from stable_baselines3/common/atari_wrappers.py\n",
    "\n",
    "class DtypeChange(gym.ObservationWrapper):\n",
    "    \"\"\"\n",
    "    Convert data type to uint8 (default)\n",
    "\n",
    "    :param env: Environment to wrap\n",
    "    :param type: data type\n",
    "\n",
    "    \"\"\"\n",
    "\n",
    "    def __init__(self, env: gym.Env, dtype = 'uint8') -> None:\n",
    "        super().__init__(env)\n",
    "        assert isinstance(env.observation_space, gym.spaces.Box), f\"Expected Box space, got {env.observation_space}\"\n",
    "        \n",
    "        if len(env.observation_space.shape) == 3:\n",
    "            return\n",
    "        self.observation_space = gym.spaces.Box(\n",
    "            low=0,\n",
    "            high=1,\n",
    "            shape= env.observation_space.shape,\n",
    "            dtype=dtype,  # type: ignore[arg-type]\n",
    "        )\n",
    "        \n",
    "\n",
    "    def observation(self, frame: np.ndarray) -> np.ndarray:\n",
    "        \"\"\"\n",
    "        returns the current observation from a frame\n",
    "\n",
    "        :param frame: environment frame\n",
    "        :return: the observation\n",
    "        \"\"\"\n",
    "        assert cv2 is not None, \"OpenCV is not installed, you can do `pip install opencv-python`\"\n",
    "        \n",
    "        frame = frame * 255\n",
    "        frame = frame.astype(np.uint8)\n",
    "\n",
    "        return frame"
   ]
  },
  {
   "cell_type": "code",
   "execution_count": 7,
   "id": "178ee886-ac80-42be-a449-cbc0cfdea516",
   "metadata": {},
   "outputs": [],
   "source": [
    "def make_env(task_name, skip_frame, seed, maximum_episode_length, observation_mode, capture_video, run_name):\n",
    "    def thunk():\n",
    "        \n",
    "        task = generate_task(task_generator_id=task_name,dense_reward_weights=np.array([2500, 2500, 0]),\n",
    "                      fractional_reward_weight=100)\n",
    "        \n",
    "        #piking task\n",
    "        #task = generate_task(task_generator_id=task_name,\n",
    "        #                  dense_reward_weights=np.array(\n",
    "        #                      [250, 0, 125, 0, 750, 0, 0, 0.005]),\n",
    "        #                  fractional_reward_weight=1,\n",
    "        #                  tool_block_mass=0.02)\n",
    "        if capture_video:\n",
    "            env = CausalWorld(task=task, skip_frame=skip_frame, seed=seed, max_episode_length = maximum_episode_length, observation_mode = observation_mode, render_mode=\"rgb_array\")\n",
    "            # record the video every 250 episode\n",
    "            env = gym.wrappers.RecordVideo(env, f\"video/{run_name}\", episode_trigger = lambda x: x % 250 == 0)\n",
    "        else:\n",
    "            env = CausalWorld(task=task, skip_frame=skip_frame, seed=seed,  max_episode_length = maximum_episode_length, observation_mode = observation_mode, camera_indicies = [0])\n",
    "        env = gym.wrappers.RecordEpisodeStatistics(env)\n",
    "        env = DtypeChange(env)\n",
    "        #env = GrayFrame(env, max_episode_length=maximum_episode_length)\n",
    "        env = ResizeFrame(env, max_episode_length=maximum_episode_length, width=84, height=84)\n",
    "        env = FrameStack(env, k=3, single_goal_obs=True)\n",
    "        \n",
    "\n",
    "        #env.seed(seed)\n",
    "        # sample random action in exploration phase\n",
    "        #env.action_space.seed(seed)\n",
    "        #env.observation_space.seed(seed)\n",
    "        return env\n",
    "    return thunk"
   ]
  },
  {
   "cell_type": "code",
   "execution_count": 8,
   "id": "9808c73f-46e4-461e-a67e-c49866d5ed96",
   "metadata": {},
   "outputs": [],
   "source": [
    "class replayBuffer():\n",
    "    def __init__(self, obs_space, obs_dim, act_space, act_dim, capacity, device):\n",
    "        self.device = device\n",
    "        self.capacity = capacity\n",
    "        self.obs_space = obs_space\n",
    "        self.act_space = act_space\n",
    "        self.obs_buffer = np.zeros((tuple([capacity]) + obs_dim), dtype=self.obs_space)\n",
    "        self.next_obs_buffer = np.zeros((tuple([capacity]) + obs_dim), dtype=self.obs_space)\n",
    "        self.act_buffer = np.zeros((capacity, act_dim), dtype=self.act_space)\n",
    "        self.r_buffer = np.zeros(capacity, dtype=np.float32)\n",
    "        self.done_buffer = np.zeros(capacity, dtype=np.float32)\n",
    "\n",
    "        self.ptr = 0\n",
    "        self.current_size = 0\n",
    "\n",
    "    def store(self, obs, act, r, next_obs, done):\n",
    "        \n",
    "        # flattent the observation \n",
    "        # doesn't support parallel envs\n",
    "        #obs.flatten()\n",
    "        #next_obs.flatten()\n",
    "\n",
    "        self.obs_buffer[self.ptr] = obs\n",
    "        self.act_buffer[self.ptr] = act\n",
    "        self.r_buffer[self.ptr] = r\n",
    "        self.next_obs_buffer[self.ptr] = next_obs\n",
    "        self.done_buffer[self.ptr] = done\n",
    "        self.ptr = (self.ptr + 1) % self.capacity\n",
    "        self.current_size = min(self.current_size + 1, self.capacity)\n",
    "\n",
    "    def sample(self, batch_size=32):\n",
    "        idx = np.random.randint(0, self.current_size, size=batch_size)\n",
    "        # the reward is rescaled\n",
    "        batch = dict(\n",
    "            obs = self.obs_buffer[idx],\n",
    "            act = self.act_buffer[idx],\n",
    "            r = self.r_buffer[idx],\n",
    "            next_obs = self.next_obs_buffer[idx],\n",
    "            done = self.done_buffer[idx]\n",
    "        )   \n",
    "        \n",
    "        return batch\n",
    "    \n",
    "    def shuffle(self):\n",
    "        # Generate a shuffled index array\n",
    "        idx = np.arange(self.current_size)\n",
    "        np.random.shuffle(idx)\n",
    "\n",
    "        # Reorder all buffers according to the shuffled indices\n",
    "        self.obs_buffer[:self.current_size] = self.obs_buffer[idx]\n",
    "        self.next_obs_buffer[:self.current_size] = self.next_obs_buffer[idx]\n",
    "        self.act_buffer[:self.current_size] = self.act_buffer[idx]\n",
    "        self.r_buffer[:self.current_size] = self.r_buffer[idx]\n",
    "        self.done_buffer[:self.current_size] = self.done_buffer[idx]"
   ]
  },
  {
   "cell_type": "code",
   "execution_count": 20,
   "id": "513772a4-c740-4134-b0e3-6a784493c135",
   "metadata": {},
   "outputs": [],
   "source": [
    "def plot_obs(obs, num_view, RGB=False):\n",
    "    print(obs.shape)\n",
    "    fig = plt.figure(figsize=(10, 15)) \n",
    "    if len(obs.shape)==4:\n",
    "        obs = obs[0]\n",
    "    if RGB:\n",
    "        num_fig = int(obs.shape[0] / 3)\n",
    "        obs = obs.reshape(num_fig, 84, 84, 3)\n",
    "    else:\n",
    "        num_fig = obs.shape[0]\n",
    "    \n",
    "    rows = int(num_fig / num_view)\n",
    "    columns = num_view\n",
    "\n",
    "    for i in range(num_fig):\n",
    "        fig.add_subplot(rows, columns, i+1)\n",
    "        plt.imshow(obs[i])"
   ]
  },
  {
   "cell_type": "code",
   "execution_count": 10,
   "id": "638bba38-5f1d-4063-ab75-d1075fa41a97",
   "metadata": {},
   "outputs": [],
   "source": [
    "envs = gym.vector.SyncVectorEnv([make_env('pushing', 3, i, 600, 'pixel', False, 'dump') for i in range(1)]) "
   ]
  },
  {
   "cell_type": "code",
   "execution_count": null,
   "id": "42dd7f92-8602-468a-b163-4cc7fd99da21",
   "metadata": {},
   "outputs": [],
   "source": [
    "envs.observation_space"
   ]
  },
  {
   "cell_type": "markdown",
   "id": "4893ca7f-bc77-4b4c-ac0e-d52367a3457d",
   "metadata": {
    "jp-MarkdownHeadingCollapsed": true,
    "tags": []
   },
   "source": [
    "## check the replay buffer"
   ]
  },
  {
   "cell_type": "code",
   "execution_count": null,
   "id": "02685a32-0908-4443-b417-07cec04c604f",
   "metadata": {},
   "outputs": [],
   "source": [
    "start = time.time()\n",
    "obs = envs.reset()\n",
    "print(f\"size of single observation: {getsizeof(obs)}\")\n",
    "\n",
    "rep_buffer = replayBuffer(envs.single_observation_space.dtype, envs.single_observation_space.shape, \n",
    "                          envs.single_action_space.dtype, envs.single_action_space.shape[0],\n",
    "                          capacity=1000, device='cpu')\n",
    "final_obs = []\n",
    "for i in range(100):\n",
    "    a = np.array([envs.single_action_space.sample()])\n",
    "    next_obs, r, done,infos = envs.step(a)\n",
    "   \n",
    "    \n",
    "    #handle the terminal observation\n",
    "    real_next_obs = next_obs.copy()\n",
    "    for idx, d in enumerate(done):\n",
    "        if d:\n",
    "            real_next_obs[idx] = infos[\"final_observation\"][idx]\n",
    "            final_obs.append(real_next_obs)\n",
    "    \n",
    "    rep_buffer.store(obs, a,r, real_next_obs, done)\n",
    "            \n",
    "    obs = next_obs\n",
    "end = time.time()\n",
    "\n",
    "time_cost = end-start\n",
    "buffer_size = getsizeof(rep_buffer.obs_buffer) + getsizeof(rep_buffer.next_obs_buffer)\n",
    "print(f\"Runing time: {time_cost}\")\n",
    "print(f\"observation buffer size: {buffer_size/1024/1024}MB\")"
   ]
  },
  {
   "cell_type": "code",
   "execution_count": null,
   "id": "cadf0135-5eaf-462c-a82d-49b6dfef9ea2",
   "metadata": {},
   "outputs": [],
   "source": [
    "print(f\"buffer size: {getsizeof(rep_buffer.obs_buffer)}\")"
   ]
  },
  {
   "cell_type": "code",
   "execution_count": null,
   "id": "00634d3d-91d3-4cb0-9abb-f2a468364310",
   "metadata": {},
   "outputs": [],
   "source": [
    "print(f\"buffer size: {getsizeof(rep_buffer.obs_buffer)}\")"
   ]
  },
  {
   "cell_type": "code",
   "execution_count": null,
   "id": "a9a4c154-a7c6-4414-a8e7-437f1b6e9bf5",
   "metadata": {},
   "outputs": [],
   "source": [
    "dones = rep_buffer.done_buffer\n",
    "done_index = []\n",
    "for i in range(len(dones)):\n",
    "    if dones[i]:\n",
    "        done_index.append(i)\n",
    "\n"
   ]
  },
  {
   "cell_type": "code",
   "execution_count": null,
   "id": "58f88610-cf94-403d-a7cd-5c7c4ea81a81",
   "metadata": {},
   "outputs": [],
   "source": [
    "obs = rep_buffer.obs_buffer\n",
    "next_obs = rep_buffer.next_obs_buffer\n",
    "print(obs[2].shape)\n",
    "#plot_obs(obs[done_index[1]+1], 1)"
   ]
  },
  {
   "cell_type": "code",
   "execution_count": null,
   "id": "ca8a1ef6-35a7-40a1-a586-d04388d4c000",
   "metadata": {},
   "outputs": [],
   "source": [
    "batch = rep_buffer.sample(10)\n",
    "obs = batch['next_obs']\n",
    "print(obs.shape)\n"
   ]
  },
  {
   "cell_type": "code",
   "execution_count": null,
   "id": "6ad99c13-b05f-4230-84f7-d835dfdd13a8",
   "metadata": {},
   "outputs": [],
   "source": [
    "plot_obs(obs[5], 2)"
   ]
  },
  {
   "cell_type": "code",
   "execution_count": null,
   "id": "c3a62653-3e45-4ab2-9e1b-82aa575cbda5",
   "metadata": {},
   "outputs": [],
   "source": [
    "\n",
    "task = generate_task(task_generator_id=\"pushing\",dense_reward_weights=np.array([2500, 2500, 0]),\n",
    "                      fractional_reward_weight=100)\n",
    "\n",
    "env = CausalWorld(task=task, skip_frame=5, observation_mode = \"pixel\", camera_indicies = [0, 2])\n",
    "\n",
    "env = GrayFrame(env)\n",
    "env = WarpFrame(env)\n",
    "env = FrameStack(env, k=3, single_goal_obs = True)\n",
    "\n",
    "\n"
   ]
  },
  {
   "cell_type": "code",
   "execution_count": null,
   "id": "34a951c3-fb77-4d13-9241-da2b3f4c3ae7",
   "metadata": {},
   "outputs": [],
   "source": [
    "print(envs.single_observation_space)"
   ]
  },
  {
   "cell_type": "markdown",
   "id": "b73d495c-d4fb-4766-917c-5f7646e7a016",
   "metadata": {
    "jp-MarkdownHeadingCollapsed": true,
    "tags": []
   },
   "source": [
    "## initialize the env"
   ]
  },
  {
   "cell_type": "code",
   "execution_count": null,
   "id": "9b1fedf0-0503-42b2-8a06-8b8b80f14e26",
   "metadata": {},
   "outputs": [],
   "source": [
    "obs = envs.reset()\n",
    "print(s.shape)\n",
    "print(envs.observation_space.dtype)\n"
   ]
  },
  {
   "cell_type": "code",
   "execution_count": null,
   "id": "74fb309c-d768-422b-beb6-03e36b630101",
   "metadata": {},
   "outputs": [],
   "source": [
    "plot_obs(obs, 1, True)"
   ]
  },
  {
   "cell_type": "markdown",
   "id": "7a1a4177-8cba-4df9-b911-b083043c7b61",
   "metadata": {
    "jp-MarkdownHeadingCollapsed": true,
    "tags": []
   },
   "source": [
    "## run random policy"
   ]
  },
  {
   "cell_type": "code",
   "execution_count": null,
   "id": "c69913b3-8773-4095-acbc-0f2bbcda8a6e",
   "metadata": {},
   "outputs": [],
   "source": [
    "for i in range(100):\n",
    "    a = envs.action_space.sample()\n",
    "    obs,_,_,_ = envs.step(a)"
   ]
  },
  {
   "cell_type": "code",
   "execution_count": null,
   "id": "16ff5100-cdb8-4d50-acbb-eca8bbf58a48",
   "metadata": {},
   "outputs": [],
   "source": [
    "print(a)"
   ]
  },
  {
   "cell_type": "code",
   "execution_count": null,
   "id": "2692c3d9-d018-47a7-af09-fb74fc201c7f",
   "metadata": {},
   "outputs": [],
   "source": [
    "plot_obs(obs, 1, True)"
   ]
  },
  {
   "cell_type": "code",
   "execution_count": null,
   "id": "bd7efc5f-dcb8-411e-9f93-f7c56cfb98f2",
   "metadata": {},
   "outputs": [],
   "source": [
    "s = s.reshape(6, 128, 128, 3)\n",
    "\n",
    "fig = plt.figure(figsize=(10, 7)) \n",
    "\n",
    "rows = 3\n",
    "columns = 3\n",
    "index = 1\n",
    "for i in range(18):\n",
    "    \n",
    "    if (i+1)%6 == 1 or (i+1)%6==2 or (i+1)%6==3:\n",
    "        fig.add_subplot(rows, columns, index)\n",
    "        plt.imshow(s[i])\n",
    "        index += 1"
   ]
  },
  {
   "cell_type": "markdown",
   "id": "39481065-db95-416a-9b06-24cb8e252b14",
   "metadata": {
    "tags": []
   },
   "source": [
    "## VAE"
   ]
  },
  {
   "cell_type": "code",
   "execution_count": 27,
   "id": "b7c12ac0-8151-4d6b-b932-87e27ae55985",
   "metadata": {},
   "outputs": [
    {
     "name": "stdout",
     "output_type": "stream",
     "text": [
      "size of single observation: 84832\n"
     ]
    },
    {
     "name": "stderr",
     "output_type": "stream",
     "text": [
      "100%|██████████| 90000/90000 [41:59<00:00, 35.73it/s] "
     ]
    },
    {
     "name": "stdout",
     "output_type": "stream",
     "text": [
      "Runing time: 2519.3060417175293\n",
      "observation buffer size: 17764.89288330078MB\n"
     ]
    },
    {
     "name": "stderr",
     "output_type": "stream",
     "text": [
      "\n"
     ]
    }
   ],
   "source": [
    "start = time.time()\n",
    "obs = envs.reset()\n",
    "print(f\"size of single observation: {getsizeof(obs)}\")\n",
    "\n",
    "#rep_buffer = replayBuffer(envs.single_observation_space.dtype, envs.single_observation_space.shape, \n",
    "#                          envs.single_action_space.dtype, envs.single_action_space.shape[0],\n",
    "#                          capacity=110000, device='cpu')\n",
    "final_obs = []\n",
    "for i in tqdm(range(90000)):\n",
    "    a = np.array([envs.single_action_space.sample()])\n",
    "    next_obs, r, done,infos = envs.step(a)\n",
    "   \n",
    "    \n",
    "    #handle the terminal observation\n",
    "    real_next_obs = next_obs.copy()\n",
    "    for idx, d in enumerate(done):\n",
    "        if d:\n",
    "            real_next_obs[idx] = infos[\"final_observation\"][idx]\n",
    "            final_obs.append(real_next_obs)\n",
    "    \n",
    "    rep_buffer.store(obs, a,r, real_next_obs, done)\n",
    "            \n",
    "    obs = next_obs\n",
    "end = time.time()\n",
    "\n",
    "time_cost = end-start\n",
    "buffer_size = getsizeof(rep_buffer.obs_buffer) + getsizeof(rep_buffer.next_obs_buffer)\n",
    "print(f\"Runing time: {time_cost}\")\n",
    "print(f\"observation buffer size: {buffer_size/1024/1024}MB\")"
   ]
  },
  {
   "cell_type": "code",
   "execution_count": null,
   "id": "6892dbdf-bff4-4ae0-816d-8176f4464ffc",
   "metadata": {},
   "outputs": [],
   "source": []
  },
  {
   "cell_type": "code",
   "execution_count": 28,
   "id": "13d8d179-e88d-487e-8763-096578d632fd",
   "metadata": {},
   "outputs": [
    {
     "name": "stdout",
     "output_type": "stream",
     "text": [
      "90000\n"
     ]
    }
   ],
   "source": [
    "obs = rep_buffer.obs_buffer\n",
    "#rep_buffer.shuffle()\n",
    "#new_obs = rep_buffer.obs_buffer\n",
    "train_obs = obs[0: 90000]\n",
    "eval_obs = obs[90000: 100000]\n",
    "print(len(train_obs))"
   ]
  },
  {
   "cell_type": "markdown",
   "id": "03986148-dd50-482d-a719-ca188aa40152",
   "metadata": {},
   "source": [
    "### Utility functions"
   ]
  },
  {
   "cell_type": "code",
   "execution_count": 67,
   "id": "63fd224a-f482-4ec5-a04e-43312445b6ad",
   "metadata": {},
   "outputs": [],
   "source": [
    "def loss_VAE(x_hat, x, mu, logvar, beta):\n",
    "    # preprocessing image to [0, 1]\n",
    "    #x = x/255.0\n",
    "    recon_loss = ((x - x_hat)**2).sum()\n",
    "    kl_loss = -0.5 * torch.sum(1 + logvar - mu**2 -  logvar.exp()).sum()\n",
    "    #print(\"kl_loss: \", kl_loss)\n",
    "    #print(\"recon_loss: \", recon_loss)\n",
    "    loss = recon_loss + (beta * kl_loss)\n",
    "    \n",
    "    return loss\n",
    "\n",
    "def evaluation(encoder, decoder, eval_obs, obs_layer):\n",
    "    encoder.eval()\n",
    "    decoder.eval()\n",
    "    \n",
    "    x = torch.FloatTensor(eval_obs).to(device) /255\n",
    "          \n",
    "    x = x.view(-1,obs_layer, 128,128)           #with shape batchsize x 3 x 84 x 84\n",
    "\n",
    "\n",
    "    z, _, _ = encoder(x)\n",
    "    x_hat = decoder(z)\n",
    "    \n",
    "    loss = ((x - x_hat)**2).mean()\n",
    "    return loss\n",
    "\n",
    "def weight_init(m):\n",
    "    \"\"\"Custom weight init for Conv2D and Linear layers.\"\"\"\n",
    "    if isinstance(m, nn.Linear):\n",
    "        nn.init.orthogonal_(m.weight.data)\n",
    "        m.bias.data.fill_(0.0)\n",
    "    elif isinstance(m, nn.Conv2d) or isinstance(m, nn.ConvTranspose2d):\n",
    "        # delta-orthogonal init from https://arxiv.org/pdf/1806.05393.pdf\n",
    "        assert m.weight.size(2) == m.weight.size(3)\n",
    "        m.weight.data.fill_(0.0)\n",
    "        m.bias.data.fill_(0.0)\n",
    "        mid = m.weight.size(2) // 2\n",
    "        gain = nn.init.calculate_gain('relu')\n",
    "        nn.init.orthogonal_(m.weight.data[:, :, mid, mid], gain)"
   ]
  },
  {
   "cell_type": "markdown",
   "id": "8c0c35b8-7136-469e-94f6-8678b8330b81",
   "metadata": {},
   "source": [
    "### Network Architecture"
   ]
  },
  {
   "cell_type": "code",
   "execution_count": 71,
   "id": "8f3ed3bb-2784-4c1e-a4da-377aaac2d72b",
   "metadata": {},
   "outputs": [],
   "source": [
    "class Encoder(nn.Module):\n",
    "    def __init__(self, obs_shape, latent_dims):\n",
    "        super().__init__()\n",
    "        \n",
    "        self.input_channel = obs_shape[0]\n",
    "        self.latent_dims = latent_dims\n",
    "\n",
    "        self.enCNN = nn.Sequential(\n",
    "            nn.Conv2d(self.input_channel, 32, 3, stride = 2),\n",
    "            nn.ReLU(),\n",
    "            nn.Conv2d(32, 32, 3, stride = 1),\n",
    "            nn.ReLU(),\n",
    "            nn.Flatten()\n",
    "        )\n",
    "\n",
    "        with torch.inference_mode():\n",
    "            self.fc_dims = self.enCNN(torch.zeros(1, *obs_shape)).shape[1]\n",
    "\n",
    "        self.fc_mu = nn.Linear(self.fc_dims, self.latent_dims)\n",
    "        self.fc_logvar = nn.Linear(self.fc_dims, self.latent_dims)\n",
    "        \n",
    "\n",
    "        self.apply(weight_init)\n",
    "\n",
    "    def reparameterize(self, mu, logvar):\n",
    "        std = torch.exp(0.5 * logvar)\n",
    "        eps = torch.rand_like(std)\n",
    "        z = mu + std * eps\n",
    "        return z\n",
    "\n",
    "    def forward(self, x):\n",
    "        x = self.enCNN(x)\n",
    "        mu = self.fc_mu(x)\n",
    "        logvar = self.fc_logvar(x)\n",
    "        \n",
    "        z = self.reparameterize(mu, logvar)\n",
    "        return z, mu, logvar\n",
    "\n",
    "class Decoder(nn.Module):\n",
    "    def __init__(self, obs_shape, latent_dims, fc_dims):\n",
    "        super().__init__()\n",
    "        self.output_channel = obs_shape[0]\n",
    "        self.fc_input = nn.Linear(latent_dims, fc_dims)\n",
    "        self.deCNN = nn.Sequential(\n",
    "            nn.ConvTranspose2d(32, 32, 3, stride = 1),\n",
    "            nn.ReLU(),\n",
    "            nn.ConvTranspose2d(32, self.output_channel, 3, stride = 2, output_padding=1),\n",
    "        )\n",
    "\n",
    "        self.apply(weight_init)\n",
    "\n",
    "    def forward(self, z):\n",
    "        z = self.fc_input(z)\n",
    "        z = z.view(-1, 32, 39, 39)\n",
    "        x = self.deCNN(z)\n",
    "        assert x.shape == (x.shape[0], self.output_channel, 84, 84), f'reconstructed image dimension wrong, {x.shape}'\n",
    "        return x"
   ]
  },
  {
   "cell_type": "code",
   "execution_count": null,
   "id": "6a91824c-4e7a-414e-81eb-2b2a5f3391e3",
   "metadata": {},
   "outputs": [],
   "source": [
    "class Encoder(nn.Module):\n",
    "    def __init__(self, input_channel, latent_dims):\n",
    "        super().__init__()\n",
    "        \n",
    "        self.latent_dims = latent_dims\n",
    "        self.enCNN = nn.Sequential(\n",
    "            nn.Conv2d(input_channel, 32, 4, stride = 2),\n",
    "            nn.ReLU(),\n",
    "            nn.Conv2d(32, 64, 4, stride = 2),\n",
    "            nn.ReLU(),\n",
    "            nn.Conv2d(64, 128, 4, stride = 2),\n",
    "            nn.ReLU(),\n",
    "            nn.Conv2d(128, 256, 3, stride = 2),\n",
    "            nn.Flatten(),\n",
    "            nn.ReLU()\n",
    "        )\n",
    "\n",
    "        self.fc_mu = nn.Linear(256 * 3 * 3, self.latent_dims)\n",
    "        self.fc_logvar = nn.Linear(256 * 3 * 3, self.latent_dims)\n",
    "        \n",
    "\n",
    "        self.apply(weight_init)\n",
    "\n",
    "    def reparameterize(self, mu, logvar):\n",
    "        std = torch.exp(0.5 * logvar)\n",
    "        eps = torch.rand_like(std)\n",
    "        z = mu + std * eps\n",
    "        return z\n",
    "\n",
    "    def forward(self, x):\n",
    "        x = x/255.0\n",
    "        x = self.enCNN(x)\n",
    "        mu = self.fc_mu(x)\n",
    "        logvar = self.fc_logvar(x)\n",
    "        \n",
    "        z = self.reparameterize(mu, logvar)\n",
    "\n",
    "        return z, mu, logvar\n",
    "\n",
    "class Decoder(nn.Module):\n",
    "    def __init__(self, output_channel, latent_dims):\n",
    "        super().__init__()\n",
    "\n",
    "        self.fc_input = nn.Linear(latent_dims, 256 * 3 * 3)\n",
    "        self.deCNN = nn.Sequential(\n",
    "            nn.ConvTranspose2d(256, 128, 4, stride = 2),\n",
    "            nn.ReLU(),\n",
    "            nn.ConvTranspose2d(128, 64, 5, stride = 2),\n",
    "            nn.ReLU(),\n",
    "            nn.ConvTranspose2d(64, 32, 4, stride = 2),\n",
    "            nn.ReLU(),\n",
    "            nn.ConvTranspose2d(32, output_channel, 6, stride = 2),\n",
    "        )\n",
    "\n",
    "        self.apply(weight_init)\n",
    "\n",
    "    def forward(self, z):\n",
    "        z = self.fc_input(z)\n",
    "        z = z.view(-1, 256, 3, 3)\n",
    "        x = self.deCNN(z)\n",
    "        return x\n"
   ]
  },
  {
   "cell_type": "code",
   "execution_count": 29,
   "id": "4604691b-f4ea-4cf8-9df5-b15e946e54b4",
   "metadata": {},
   "outputs": [],
   "source": [
    "class Encoder(nn.Module):\n",
    "    def __init__(self, input_channel, latent_dims):\n",
    "        super().__init__()\n",
    "        \n",
    "        self.latent_dims = latent_dims\n",
    "        self.enCNN = nn.Sequential(\n",
    "            nn.Conv2d(input_channel, 32, 4, stride = 2),\n",
    "            nn.ReLU(),\n",
    "            nn.Conv2d(32, 64, 4, stride = 2),\n",
    "            nn.ReLU(),\n",
    "            nn.Conv2d(64, 128, 4, stride = 2),\n",
    "            nn.ReLU(),\n",
    "            nn.Conv2d(128, 256, 3, stride = 2),\n",
    "            nn.ReLU(),\n",
    "            nn.Conv2d(256, 256, 3, stride = 2),\n",
    "            nn.Flatten(),\n",
    "            nn.ReLU()\n",
    "        )\n",
    "\n",
    "        self.fc_mu = nn.Linear(256 * 1 * 1, self.latent_dims)\n",
    "        self.fc_logvar = nn.Linear(256 * 1 * 1, self.latent_dims)\n",
    "        \n",
    "\n",
    "        self.apply(weight_init)\n",
    "\n",
    "    def reparameterize(self, mu, logvar):\n",
    "        std = torch.exp(0.5 * logvar)\n",
    "        eps = torch.rand_like(std)\n",
    "        z = mu + std * eps\n",
    "        return z\n",
    "\n",
    "    def forward(self, x):\n",
    "        x = x/255.0\n",
    "        x = self.enCNN(x)\n",
    "        mu = self.fc_mu(x)\n",
    "        logvar = self.fc_logvar(x)\n",
    "        \n",
    "        z = self.reparameterize(mu, logvar)\n",
    "\n",
    "        z \n",
    "        return z, mu, logvar\n",
    "\n",
    "class Decoder(nn.Module):\n",
    "    def __init__(self, output_channel, latent_dims):\n",
    "        super().__init__()\n",
    "\n",
    "        self.fc_input = nn.Linear(latent_dims, 256 * 1 * 1)\n",
    "        self.deCNN = nn.Sequential(\n",
    "            nn.ConvTranspose2d(256, 256, 3, stride = 2),\n",
    "            nn.ReLU(),\n",
    "            nn.ConvTranspose2d(256, 128, 4, stride = 2),\n",
    "            nn.ReLU(),\n",
    "            nn.ConvTranspose2d(128, 64, 5, stride = 2),\n",
    "            nn.ReLU(),\n",
    "            nn.ConvTranspose2d(64, 32, 4, stride = 2),\n",
    "            nn.ReLU(),\n",
    "            nn.ConvTranspose2d(32, output_channel, 6, stride = 2),\n",
    "        )\n",
    "\n",
    "        self.apply(weight_init)\n",
    "\n",
    "    def forward(self, z):\n",
    "        z = self.fc_input(z)\n",
    "        z = z.view(-1, 256, 1, 1)\n",
    "        x = self.deCNN(z)\n",
    "        return x"
   ]
  },
  {
   "cell_type": "code",
   "execution_count": 76,
   "id": "a465bbd2-4be6-4dbd-b909-c3526c53fa5e",
   "metadata": {},
   "outputs": [],
   "source": [
    "def Pretrain_VAE(train_obs, eval_obs, encoder, decoder, obs_layer, lr,wandb = False, epoch = 100, batch_size = 64, beta = 1):\n",
    "    encoder_optimizer = optim.Adam(encoder.parameters(), lr = lr)\n",
    "    decoder_optimizer = optim.Adam(decoder.parameters(), lr = lr)\n",
    "    \n",
    "    for i in range(epoch):\n",
    "        print(\"Epoch: \", i + 1)\n",
    "        np.random.shuffle(train_obs)\n",
    "        for start in tqdm(range(0, len(train_obs), batch_size)):\n",
    "            end = start + batch_size\n",
    "\n",
    "            batch = train_obs[start:end]          #with shape batchsize x 84 x 84 x 3\n",
    "\n",
    "            # normalize the batch\n",
    "            batch = torch.FloatTensor(batch).to(device)/255.0\n",
    "          \n",
    "            batch = batch.view(-1,obs_layer, batch.shape[-2],batch.shape[-1])           #with shape batchsize x 3 x 84 x 84\n",
    "\n",
    "\n",
    "            z, mu, logvar = encoder(batch)\n",
    "            batch_hat = decoder(z)\n",
    "            \n",
    "            encoder_optimizer.zero_grad()\n",
    "            decoder_optimizer.zero_grad()\n",
    "            \n",
    "            loss = loss_VAE(batch_hat, batch, mu, logvar, beta)\n",
    "            loss.backward()\n",
    "            \n",
    "            encoder_optimizer.step()\n",
    "            decoder_optimizer.step()\n",
    "            \n",
    "        #eval_loss = evaluation(encoder, decoder, eval_obs, obs_layer)\n",
    "        encoder.train()\n",
    "        decoder.train()\n",
    "        if wandb:\n",
    "            wandb.log({\n",
    "                \"Trainning loss\": loss.item()\n",
    "                #\"Evaluation loss:\", eval_loss.item()\n",
    "            })\n",
    "        print(\"Current trainning loss is: \", loss.item()/batch_size)\n",
    "        #print(\"Current evaluation loss is: \", eval_loss.item())\n",
    "\n",
    "        "
   ]
  },
  {
   "cell_type": "code",
   "execution_count": 77,
   "id": "288e20f1-7127-4bec-b188-8e7deeb7ecfa",
   "metadata": {},
   "outputs": [
    {
     "name": "stdout",
     "output_type": "stream",
     "text": [
      "Epoch:  1\n"
     ]
    },
    {
     "name": "stderr",
     "output_type": "stream",
     "text": [
      "100%|██████████| 704/704 [00:11<00:00, 62.94it/s]\n"
     ]
    },
    {
     "name": "stdout",
     "output_type": "stream",
     "text": [
      "Current trainning loss is:  104.76220703125\n",
      "Epoch:  2\n"
     ]
    },
    {
     "name": "stderr",
     "output_type": "stream",
     "text": [
      "100%|██████████| 704/704 [00:11<00:00, 63.78it/s]\n"
     ]
    },
    {
     "name": "stdout",
     "output_type": "stream",
     "text": [
      "Current trainning loss is:  77.19334411621094\n",
      "Epoch:  3\n"
     ]
    },
    {
     "name": "stderr",
     "output_type": "stream",
     "text": [
      "100%|██████████| 704/704 [00:11<00:00, 63.72it/s]\n"
     ]
    },
    {
     "name": "stdout",
     "output_type": "stream",
     "text": [
      "Current trainning loss is:  65.0280532836914\n",
      "Epoch:  4\n"
     ]
    },
    {
     "name": "stderr",
     "output_type": "stream",
     "text": [
      "100%|██████████| 704/704 [00:11<00:00, 62.79it/s]\n"
     ]
    },
    {
     "name": "stdout",
     "output_type": "stream",
     "text": [
      "Current trainning loss is:  56.7125358581543\n",
      "Epoch:  5\n"
     ]
    },
    {
     "name": "stderr",
     "output_type": "stream",
     "text": [
      "100%|██████████| 704/704 [00:11<00:00, 62.22it/s]\n"
     ]
    },
    {
     "name": "stdout",
     "output_type": "stream",
     "text": [
      "Current trainning loss is:  50.5888786315918\n",
      "Epoch:  6\n"
     ]
    },
    {
     "name": "stderr",
     "output_type": "stream",
     "text": [
      "100%|██████████| 704/704 [00:11<00:00, 63.00it/s]\n"
     ]
    },
    {
     "name": "stdout",
     "output_type": "stream",
     "text": [
      "Current trainning loss is:  43.214744567871094\n",
      "Epoch:  7\n"
     ]
    },
    {
     "name": "stderr",
     "output_type": "stream",
     "text": [
      "100%|██████████| 704/704 [00:11<00:00, 62.89it/s]\n"
     ]
    },
    {
     "name": "stdout",
     "output_type": "stream",
     "text": [
      "Current trainning loss is:  39.80043411254883\n",
      "Epoch:  8\n"
     ]
    },
    {
     "name": "stderr",
     "output_type": "stream",
     "text": [
      "100%|██████████| 704/704 [00:11<00:00, 62.93it/s]\n"
     ]
    },
    {
     "name": "stdout",
     "output_type": "stream",
     "text": [
      "Current trainning loss is:  35.361839294433594\n",
      "Epoch:  9\n"
     ]
    },
    {
     "name": "stderr",
     "output_type": "stream",
     "text": [
      "100%|██████████| 704/704 [00:11<00:00, 62.94it/s]\n"
     ]
    },
    {
     "name": "stdout",
     "output_type": "stream",
     "text": [
      "Current trainning loss is:  32.88564682006836\n",
      "Epoch:  10\n"
     ]
    },
    {
     "name": "stderr",
     "output_type": "stream",
     "text": [
      "100%|██████████| 704/704 [00:11<00:00, 63.40it/s]\n"
     ]
    },
    {
     "name": "stdout",
     "output_type": "stream",
     "text": [
      "Current trainning loss is:  30.50077247619629\n",
      "Epoch:  11\n"
     ]
    },
    {
     "name": "stderr",
     "output_type": "stream",
     "text": [
      "100%|██████████| 704/704 [00:11<00:00, 62.28it/s]\n"
     ]
    },
    {
     "name": "stdout",
     "output_type": "stream",
     "text": [
      "Current trainning loss is:  27.098834991455078\n",
      "Epoch:  12\n"
     ]
    },
    {
     "name": "stderr",
     "output_type": "stream",
     "text": [
      "100%|██████████| 704/704 [00:11<00:00, 63.08it/s]\n"
     ]
    },
    {
     "name": "stdout",
     "output_type": "stream",
     "text": [
      "Current trainning loss is:  28.496109008789062\n",
      "Epoch:  13\n"
     ]
    },
    {
     "name": "stderr",
     "output_type": "stream",
     "text": [
      "100%|██████████| 704/704 [00:11<00:00, 62.51it/s]\n"
     ]
    },
    {
     "name": "stdout",
     "output_type": "stream",
     "text": [
      "Current trainning loss is:  25.632732391357422\n",
      "Epoch:  14\n"
     ]
    },
    {
     "name": "stderr",
     "output_type": "stream",
     "text": [
      "100%|██████████| 704/704 [00:11<00:00, 62.03it/s]\n"
     ]
    },
    {
     "name": "stdout",
     "output_type": "stream",
     "text": [
      "Current trainning loss is:  28.157392501831055\n",
      "Epoch:  15\n"
     ]
    },
    {
     "name": "stderr",
     "output_type": "stream",
     "text": [
      "100%|██████████| 704/704 [00:11<00:00, 61.68it/s]\n"
     ]
    },
    {
     "name": "stdout",
     "output_type": "stream",
     "text": [
      "Current trainning loss is:  26.56761932373047\n",
      "Epoch:  16\n"
     ]
    },
    {
     "name": "stderr",
     "output_type": "stream",
     "text": [
      "100%|██████████| 704/704 [00:11<00:00, 62.93it/s]\n"
     ]
    },
    {
     "name": "stdout",
     "output_type": "stream",
     "text": [
      "Current trainning loss is:  26.07415008544922\n",
      "Epoch:  17\n"
     ]
    },
    {
     "name": "stderr",
     "output_type": "stream",
     "text": [
      "100%|██████████| 704/704 [00:10<00:00, 64.85it/s]\n"
     ]
    },
    {
     "name": "stdout",
     "output_type": "stream",
     "text": [
      "Current trainning loss is:  27.0412654876709\n",
      "Epoch:  18\n"
     ]
    },
    {
     "name": "stderr",
     "output_type": "stream",
     "text": [
      "100%|██████████| 704/704 [00:11<00:00, 62.10it/s]\n"
     ]
    },
    {
     "name": "stdout",
     "output_type": "stream",
     "text": [
      "Current trainning loss is:  25.961223602294922\n",
      "Epoch:  19\n"
     ]
    },
    {
     "name": "stderr",
     "output_type": "stream",
     "text": [
      "100%|██████████| 704/704 [00:11<00:00, 63.20it/s]\n"
     ]
    },
    {
     "name": "stdout",
     "output_type": "stream",
     "text": [
      "Current trainning loss is:  25.780622482299805\n",
      "Epoch:  20\n"
     ]
    },
    {
     "name": "stderr",
     "output_type": "stream",
     "text": [
      "100%|██████████| 704/704 [00:11<00:00, 62.74it/s]\n"
     ]
    },
    {
     "name": "stdout",
     "output_type": "stream",
     "text": [
      "Current trainning loss is:  25.891780853271484\n",
      "Epoch:  21\n"
     ]
    },
    {
     "name": "stderr",
     "output_type": "stream",
     "text": [
      "100%|██████████| 704/704 [00:11<00:00, 62.65it/s]\n"
     ]
    },
    {
     "name": "stdout",
     "output_type": "stream",
     "text": [
      "Current trainning loss is:  25.161046981811523\n",
      "Epoch:  22\n"
     ]
    },
    {
     "name": "stderr",
     "output_type": "stream",
     "text": [
      "100%|██████████| 704/704 [00:11<00:00, 62.46it/s]\n"
     ]
    },
    {
     "name": "stdout",
     "output_type": "stream",
     "text": [
      "Current trainning loss is:  25.231962203979492\n",
      "Epoch:  23\n"
     ]
    },
    {
     "name": "stderr",
     "output_type": "stream",
     "text": [
      "100%|██████████| 704/704 [00:11<00:00, 62.45it/s]\n"
     ]
    },
    {
     "name": "stdout",
     "output_type": "stream",
     "text": [
      "Current trainning loss is:  26.306867599487305\n",
      "Epoch:  24\n"
     ]
    },
    {
     "name": "stderr",
     "output_type": "stream",
     "text": [
      "100%|██████████| 704/704 [00:11<00:00, 62.46it/s]\n"
     ]
    },
    {
     "name": "stdout",
     "output_type": "stream",
     "text": [
      "Current trainning loss is:  24.452125549316406\n",
      "Epoch:  25\n"
     ]
    },
    {
     "name": "stderr",
     "output_type": "stream",
     "text": [
      "100%|██████████| 704/704 [00:11<00:00, 63.79it/s]\n"
     ]
    },
    {
     "name": "stdout",
     "output_type": "stream",
     "text": [
      "Current trainning loss is:  25.827672958374023\n",
      "Epoch:  26\n"
     ]
    },
    {
     "name": "stderr",
     "output_type": "stream",
     "text": [
      "100%|██████████| 704/704 [00:11<00:00, 63.20it/s]\n"
     ]
    },
    {
     "name": "stdout",
     "output_type": "stream",
     "text": [
      "Current trainning loss is:  24.832656860351562\n",
      "Epoch:  27\n"
     ]
    },
    {
     "name": "stderr",
     "output_type": "stream",
     "text": [
      "100%|██████████| 704/704 [00:10<00:00, 64.19it/s]\n"
     ]
    },
    {
     "name": "stdout",
     "output_type": "stream",
     "text": [
      "Current trainning loss is:  25.085290908813477\n",
      "Epoch:  28\n"
     ]
    },
    {
     "name": "stderr",
     "output_type": "stream",
     "text": [
      "100%|██████████| 704/704 [00:11<00:00, 63.05it/s]\n"
     ]
    },
    {
     "name": "stdout",
     "output_type": "stream",
     "text": [
      "Current trainning loss is:  24.275066375732422\n",
      "Epoch:  29\n"
     ]
    },
    {
     "name": "stderr",
     "output_type": "stream",
     "text": [
      "100%|██████████| 704/704 [00:11<00:00, 61.26it/s]\n"
     ]
    },
    {
     "name": "stdout",
     "output_type": "stream",
     "text": [
      "Current trainning loss is:  25.03688621520996\n",
      "Epoch:  30\n"
     ]
    },
    {
     "name": "stderr",
     "output_type": "stream",
     "text": [
      "100%|██████████| 704/704 [00:11<00:00, 62.52it/s]\n"
     ]
    },
    {
     "name": "stdout",
     "output_type": "stream",
     "text": [
      "Current trainning loss is:  24.185745239257812\n",
      "Epoch:  31\n"
     ]
    },
    {
     "name": "stderr",
     "output_type": "stream",
     "text": [
      "100%|██████████| 704/704 [00:11<00:00, 63.07it/s]\n"
     ]
    },
    {
     "name": "stdout",
     "output_type": "stream",
     "text": [
      "Current trainning loss is:  24.538793563842773\n",
      "Epoch:  32\n"
     ]
    },
    {
     "name": "stderr",
     "output_type": "stream",
     "text": [
      "100%|██████████| 704/704 [00:11<00:00, 63.71it/s]\n"
     ]
    },
    {
     "name": "stdout",
     "output_type": "stream",
     "text": [
      "Current trainning loss is:  25.48063087463379\n",
      "Epoch:  33\n"
     ]
    },
    {
     "name": "stderr",
     "output_type": "stream",
     "text": [
      "100%|██████████| 704/704 [00:11<00:00, 62.44it/s]\n"
     ]
    },
    {
     "name": "stdout",
     "output_type": "stream",
     "text": [
      "Current trainning loss is:  25.893756866455078\n",
      "Epoch:  34\n"
     ]
    },
    {
     "name": "stderr",
     "output_type": "stream",
     "text": [
      "100%|██████████| 704/704 [00:11<00:00, 63.51it/s]\n"
     ]
    },
    {
     "name": "stdout",
     "output_type": "stream",
     "text": [
      "Current trainning loss is:  25.1298885345459\n",
      "Epoch:  35\n"
     ]
    },
    {
     "name": "stderr",
     "output_type": "stream",
     "text": [
      "100%|██████████| 704/704 [00:11<00:00, 62.87it/s]\n"
     ]
    },
    {
     "name": "stdout",
     "output_type": "stream",
     "text": [
      "Current trainning loss is:  25.350299835205078\n",
      "Epoch:  36\n"
     ]
    },
    {
     "name": "stderr",
     "output_type": "stream",
     "text": [
      "100%|██████████| 704/704 [00:11<00:00, 63.37it/s]\n"
     ]
    },
    {
     "name": "stdout",
     "output_type": "stream",
     "text": [
      "Current trainning loss is:  24.784637451171875\n",
      "Epoch:  37\n"
     ]
    },
    {
     "name": "stderr",
     "output_type": "stream",
     "text": [
      "100%|██████████| 704/704 [00:11<00:00, 62.38it/s]\n"
     ]
    },
    {
     "name": "stdout",
     "output_type": "stream",
     "text": [
      "Current trainning loss is:  24.96316909790039\n",
      "Epoch:  38\n"
     ]
    },
    {
     "name": "stderr",
     "output_type": "stream",
     "text": [
      "100%|██████████| 704/704 [00:11<00:00, 61.84it/s]\n"
     ]
    },
    {
     "name": "stdout",
     "output_type": "stream",
     "text": [
      "Current trainning loss is:  24.274816513061523\n",
      "Epoch:  39\n"
     ]
    },
    {
     "name": "stderr",
     "output_type": "stream",
     "text": [
      "100%|██████████| 704/704 [00:10<00:00, 64.53it/s]\n"
     ]
    },
    {
     "name": "stdout",
     "output_type": "stream",
     "text": [
      "Current trainning loss is:  24.299175262451172\n",
      "Epoch:  40\n"
     ]
    },
    {
     "name": "stderr",
     "output_type": "stream",
     "text": [
      "100%|██████████| 704/704 [00:11<00:00, 63.51it/s]\n"
     ]
    },
    {
     "name": "stdout",
     "output_type": "stream",
     "text": [
      "Current trainning loss is:  24.810958862304688\n",
      "Epoch:  41\n"
     ]
    },
    {
     "name": "stderr",
     "output_type": "stream",
     "text": [
      "100%|██████████| 704/704 [00:11<00:00, 63.04it/s]\n"
     ]
    },
    {
     "name": "stdout",
     "output_type": "stream",
     "text": [
      "Current trainning loss is:  24.189571380615234\n",
      "Epoch:  42\n"
     ]
    },
    {
     "name": "stderr",
     "output_type": "stream",
     "text": [
      "100%|██████████| 704/704 [00:11<00:00, 63.81it/s]\n"
     ]
    },
    {
     "name": "stdout",
     "output_type": "stream",
     "text": [
      "Current trainning loss is:  24.071897506713867\n",
      "Epoch:  43\n"
     ]
    },
    {
     "name": "stderr",
     "output_type": "stream",
     "text": [
      "100%|██████████| 704/704 [00:11<00:00, 63.51it/s]\n"
     ]
    },
    {
     "name": "stdout",
     "output_type": "stream",
     "text": [
      "Current trainning loss is:  24.999839782714844\n",
      "Epoch:  44\n"
     ]
    },
    {
     "name": "stderr",
     "output_type": "stream",
     "text": [
      "100%|██████████| 704/704 [00:11<00:00, 62.75it/s]\n"
     ]
    },
    {
     "name": "stdout",
     "output_type": "stream",
     "text": [
      "Current trainning loss is:  25.260848999023438\n",
      "Epoch:  45\n"
     ]
    },
    {
     "name": "stderr",
     "output_type": "stream",
     "text": [
      "100%|██████████| 704/704 [00:11<00:00, 63.00it/s]\n"
     ]
    },
    {
     "name": "stdout",
     "output_type": "stream",
     "text": [
      "Current trainning loss is:  23.279396057128906\n",
      "Epoch:  46\n"
     ]
    },
    {
     "name": "stderr",
     "output_type": "stream",
     "text": [
      "100%|██████████| 704/704 [00:11<00:00, 63.01it/s]\n"
     ]
    },
    {
     "name": "stdout",
     "output_type": "stream",
     "text": [
      "Current trainning loss is:  25.23675537109375\n",
      "Epoch:  47\n"
     ]
    },
    {
     "name": "stderr",
     "output_type": "stream",
     "text": [
      "100%|██████████| 704/704 [00:11<00:00, 62.27it/s]\n"
     ]
    },
    {
     "name": "stdout",
     "output_type": "stream",
     "text": [
      "Current trainning loss is:  24.31317710876465\n",
      "Epoch:  48\n"
     ]
    },
    {
     "name": "stderr",
     "output_type": "stream",
     "text": [
      "100%|██████████| 704/704 [00:11<00:00, 62.63it/s]\n"
     ]
    },
    {
     "name": "stdout",
     "output_type": "stream",
     "text": [
      "Current trainning loss is:  26.250654220581055\n",
      "Epoch:  49\n"
     ]
    },
    {
     "name": "stderr",
     "output_type": "stream",
     "text": [
      "100%|██████████| 704/704 [00:11<00:00, 63.35it/s]\n"
     ]
    },
    {
     "name": "stdout",
     "output_type": "stream",
     "text": [
      "Current trainning loss is:  23.804811477661133\n",
      "Epoch:  50\n"
     ]
    },
    {
     "name": "stderr",
     "output_type": "stream",
     "text": [
      "100%|██████████| 704/704 [00:11<00:00, 63.68it/s]\n"
     ]
    },
    {
     "name": "stdout",
     "output_type": "stream",
     "text": [
      "Current trainning loss is:  24.127431869506836\n",
      "Epoch:  51\n"
     ]
    },
    {
     "name": "stderr",
     "output_type": "stream",
     "text": [
      "100%|██████████| 704/704 [00:11<00:00, 62.98it/s]\n"
     ]
    },
    {
     "name": "stdout",
     "output_type": "stream",
     "text": [
      "Current trainning loss is:  23.7818603515625\n",
      "Epoch:  52\n"
     ]
    },
    {
     "name": "stderr",
     "output_type": "stream",
     "text": [
      "100%|██████████| 704/704 [00:11<00:00, 62.73it/s]\n"
     ]
    },
    {
     "name": "stdout",
     "output_type": "stream",
     "text": [
      "Current trainning loss is:  24.944671630859375\n",
      "Epoch:  53\n"
     ]
    },
    {
     "name": "stderr",
     "output_type": "stream",
     "text": [
      "100%|██████████| 704/704 [00:11<00:00, 63.22it/s]\n"
     ]
    },
    {
     "name": "stdout",
     "output_type": "stream",
     "text": [
      "Current trainning loss is:  24.246871948242188\n",
      "Epoch:  54\n"
     ]
    },
    {
     "name": "stderr",
     "output_type": "stream",
     "text": [
      "100%|██████████| 704/704 [00:11<00:00, 63.04it/s]\n"
     ]
    },
    {
     "name": "stdout",
     "output_type": "stream",
     "text": [
      "Current trainning loss is:  24.357526779174805\n",
      "Epoch:  55\n"
     ]
    },
    {
     "name": "stderr",
     "output_type": "stream",
     "text": [
      "100%|██████████| 704/704 [00:11<00:00, 63.40it/s]\n"
     ]
    },
    {
     "name": "stdout",
     "output_type": "stream",
     "text": [
      "Current trainning loss is:  23.21131706237793\n",
      "Epoch:  56\n"
     ]
    },
    {
     "name": "stderr",
     "output_type": "stream",
     "text": [
      "100%|██████████| 704/704 [00:11<00:00, 63.29it/s]\n"
     ]
    },
    {
     "name": "stdout",
     "output_type": "stream",
     "text": [
      "Current trainning loss is:  24.48531723022461\n",
      "Epoch:  57\n"
     ]
    },
    {
     "name": "stderr",
     "output_type": "stream",
     "text": [
      "100%|██████████| 704/704 [00:11<00:00, 62.54it/s]\n"
     ]
    },
    {
     "name": "stdout",
     "output_type": "stream",
     "text": [
      "Current trainning loss is:  24.07038116455078\n",
      "Epoch:  58\n"
     ]
    },
    {
     "name": "stderr",
     "output_type": "stream",
     "text": [
      "100%|██████████| 704/704 [00:10<00:00, 64.15it/s]\n"
     ]
    },
    {
     "name": "stdout",
     "output_type": "stream",
     "text": [
      "Current trainning loss is:  23.862611770629883\n",
      "Epoch:  59\n"
     ]
    },
    {
     "name": "stderr",
     "output_type": "stream",
     "text": [
      "100%|██████████| 704/704 [00:11<00:00, 63.66it/s]\n"
     ]
    },
    {
     "name": "stdout",
     "output_type": "stream",
     "text": [
      "Current trainning loss is:  24.686649322509766\n",
      "Epoch:  60\n"
     ]
    },
    {
     "name": "stderr",
     "output_type": "stream",
     "text": [
      "100%|██████████| 704/704 [00:11<00:00, 63.27it/s]\n"
     ]
    },
    {
     "name": "stdout",
     "output_type": "stream",
     "text": [
      "Current trainning loss is:  25.02427101135254\n",
      "Epoch:  61\n"
     ]
    },
    {
     "name": "stderr",
     "output_type": "stream",
     "text": [
      "100%|██████████| 704/704 [00:11<00:00, 62.07it/s]\n"
     ]
    },
    {
     "name": "stdout",
     "output_type": "stream",
     "text": [
      "Current trainning loss is:  23.418811798095703\n",
      "Epoch:  62\n"
     ]
    },
    {
     "name": "stderr",
     "output_type": "stream",
     "text": [
      "100%|██████████| 704/704 [00:11<00:00, 63.18it/s]\n"
     ]
    },
    {
     "name": "stdout",
     "output_type": "stream",
     "text": [
      "Current trainning loss is:  24.052112579345703\n",
      "Epoch:  63\n"
     ]
    },
    {
     "name": "stderr",
     "output_type": "stream",
     "text": [
      "100%|██████████| 704/704 [00:11<00:00, 63.72it/s]\n"
     ]
    },
    {
     "name": "stdout",
     "output_type": "stream",
     "text": [
      "Current trainning loss is:  23.823062896728516\n",
      "Epoch:  64\n"
     ]
    },
    {
     "name": "stderr",
     "output_type": "stream",
     "text": [
      "100%|██████████| 704/704 [00:11<00:00, 62.20it/s]\n"
     ]
    },
    {
     "name": "stdout",
     "output_type": "stream",
     "text": [
      "Current trainning loss is:  22.76698112487793\n",
      "Epoch:  65\n"
     ]
    },
    {
     "name": "stderr",
     "output_type": "stream",
     "text": [
      "100%|██████████| 704/704 [00:11<00:00, 62.48it/s]\n"
     ]
    },
    {
     "name": "stdout",
     "output_type": "stream",
     "text": [
      "Current trainning loss is:  23.02724266052246\n",
      "Epoch:  66\n"
     ]
    },
    {
     "name": "stderr",
     "output_type": "stream",
     "text": [
      "100%|██████████| 704/704 [00:11<00:00, 61.44it/s]\n"
     ]
    },
    {
     "name": "stdout",
     "output_type": "stream",
     "text": [
      "Current trainning loss is:  24.133289337158203\n",
      "Epoch:  67\n"
     ]
    },
    {
     "name": "stderr",
     "output_type": "stream",
     "text": [
      " 56%|█████▌    | 393/704 [00:06<00:04, 62.40it/s]\n"
     ]
    },
    {
     "ename": "KeyboardInterrupt",
     "evalue": "",
     "output_type": "error",
     "traceback": [
      "\u001b[0;31m---------------------------------------------------------------------------\u001b[0m",
      "\u001b[0;31mKeyboardInterrupt\u001b[0m                         Traceback (most recent call last)",
      "Cell \u001b[0;32mIn [77], line 44\u001b[0m\n\u001b[1;32m     41\u001b[0m encoder\u001b[38;5;241m.\u001b[39mto(device)\n\u001b[1;32m     42\u001b[0m decoder\u001b[38;5;241m.\u001b[39mto(device)\n\u001b[0;32m---> 44\u001b[0m \u001b[43mPretrain_VAE\u001b[49m\u001b[43m(\u001b[49m\u001b[43mtrain_obs\u001b[49m\u001b[43m,\u001b[49m\u001b[43m \u001b[49m\u001b[43meval_obs\u001b[49m\u001b[43m,\u001b[49m\u001b[43m \u001b[49m\u001b[43mencoder\u001b[49m\u001b[43m,\u001b[49m\u001b[43m \u001b[49m\u001b[43mdecoder\u001b[49m\u001b[43m,\u001b[49m\u001b[43m \u001b[49m\u001b[43mobs_channel\u001b[49m\u001b[43m,\u001b[49m\u001b[43mwandb\u001b[49m\u001b[43m \u001b[49m\u001b[38;5;241;43m=\u001b[39;49m\u001b[43m \u001b[49m\u001b[43mwandb\u001b[49m\u001b[43m,\u001b[49m\u001b[43m \u001b[49m\u001b[43mlr\u001b[49m\u001b[43m \u001b[49m\u001b[38;5;241;43m=\u001b[39;49m\u001b[43m \u001b[49m\u001b[43mlr\u001b[49m\u001b[43m,\u001b[49m\u001b[43m \u001b[49m\u001b[43mepoch\u001b[49m\u001b[43m \u001b[49m\u001b[38;5;241;43m=\u001b[39;49m\u001b[43m \u001b[49m\u001b[43mepoches\u001b[49m\u001b[43m,\u001b[49m\u001b[43m \u001b[49m\u001b[43mbatch_size\u001b[49m\u001b[43m \u001b[49m\u001b[38;5;241;43m=\u001b[39;49m\u001b[43m \u001b[49m\u001b[43mbatch_size\u001b[49m\u001b[43m,\u001b[49m\u001b[43m \u001b[49m\u001b[43mbeta\u001b[49m\u001b[38;5;241;43m=\u001b[39;49m\u001b[43mbeta\u001b[49m\u001b[43m)\u001b[49m\n\u001b[1;32m     45\u001b[0m \u001b[38;5;28;01mif\u001b[39;00m wandb:\n\u001b[1;32m     46\u001b[0m     wandb\u001b[38;5;241m.\u001b[39mfinish()\n",
      "Cell \u001b[0;32mIn [76], line 26\u001b[0m, in \u001b[0;36mPretrain_VAE\u001b[0;34m(train_obs, eval_obs, encoder, decoder, obs_layer, lr, wandb, epoch, batch_size, beta)\u001b[0m\n\u001b[1;32m     23\u001b[0m decoder_optimizer\u001b[38;5;241m.\u001b[39mzero_grad()\n\u001b[1;32m     25\u001b[0m loss \u001b[38;5;241m=\u001b[39m loss_VAE(batch_hat, batch, mu, logvar, beta)\n\u001b[0;32m---> 26\u001b[0m \u001b[43mloss\u001b[49m\u001b[38;5;241;43m.\u001b[39;49m\u001b[43mbackward\u001b[49m\u001b[43m(\u001b[49m\u001b[43m)\u001b[49m\n\u001b[1;32m     28\u001b[0m encoder_optimizer\u001b[38;5;241m.\u001b[39mstep()\n\u001b[1;32m     29\u001b[0m decoder_optimizer\u001b[38;5;241m.\u001b[39mstep()\n",
      "File \u001b[0;32m/apps/Arch/software/PyTorch/1.13.1-foss-2022a-CUDA-11.7.0/lib/python3.10/site-packages/torch/_tensor.py:488\u001b[0m, in \u001b[0;36mTensor.backward\u001b[0;34m(self, gradient, retain_graph, create_graph, inputs)\u001b[0m\n\u001b[1;32m    478\u001b[0m \u001b[38;5;28;01mif\u001b[39;00m has_torch_function_unary(\u001b[38;5;28mself\u001b[39m):\n\u001b[1;32m    479\u001b[0m     \u001b[38;5;28;01mreturn\u001b[39;00m handle_torch_function(\n\u001b[1;32m    480\u001b[0m         Tensor\u001b[38;5;241m.\u001b[39mbackward,\n\u001b[1;32m    481\u001b[0m         (\u001b[38;5;28mself\u001b[39m,),\n\u001b[0;32m   (...)\u001b[0m\n\u001b[1;32m    486\u001b[0m         inputs\u001b[38;5;241m=\u001b[39minputs,\n\u001b[1;32m    487\u001b[0m     )\n\u001b[0;32m--> 488\u001b[0m \u001b[43mtorch\u001b[49m\u001b[38;5;241;43m.\u001b[39;49m\u001b[43mautograd\u001b[49m\u001b[38;5;241;43m.\u001b[39;49m\u001b[43mbackward\u001b[49m\u001b[43m(\u001b[49m\n\u001b[1;32m    489\u001b[0m \u001b[43m    \u001b[49m\u001b[38;5;28;43mself\u001b[39;49m\u001b[43m,\u001b[49m\u001b[43m \u001b[49m\u001b[43mgradient\u001b[49m\u001b[43m,\u001b[49m\u001b[43m \u001b[49m\u001b[43mretain_graph\u001b[49m\u001b[43m,\u001b[49m\u001b[43m \u001b[49m\u001b[43mcreate_graph\u001b[49m\u001b[43m,\u001b[49m\u001b[43m \u001b[49m\u001b[43minputs\u001b[49m\u001b[38;5;241;43m=\u001b[39;49m\u001b[43minputs\u001b[49m\n\u001b[1;32m    490\u001b[0m \u001b[43m\u001b[49m\u001b[43m)\u001b[49m\n",
      "File \u001b[0;32m/apps/Arch/software/PyTorch/1.13.1-foss-2022a-CUDA-11.7.0/lib/python3.10/site-packages/torch/autograd/__init__.py:197\u001b[0m, in \u001b[0;36mbackward\u001b[0;34m(tensors, grad_tensors, retain_graph, create_graph, grad_variables, inputs)\u001b[0m\n\u001b[1;32m    192\u001b[0m     retain_graph \u001b[38;5;241m=\u001b[39m create_graph\n\u001b[1;32m    194\u001b[0m \u001b[38;5;66;03m# The reason we repeat same the comment below is that\u001b[39;00m\n\u001b[1;32m    195\u001b[0m \u001b[38;5;66;03m# some Python versions print out the first line of a multi-line function\u001b[39;00m\n\u001b[1;32m    196\u001b[0m \u001b[38;5;66;03m# calls in the traceback and some print out the last line\u001b[39;00m\n\u001b[0;32m--> 197\u001b[0m \u001b[43mVariable\u001b[49m\u001b[38;5;241;43m.\u001b[39;49m\u001b[43m_execution_engine\u001b[49m\u001b[38;5;241;43m.\u001b[39;49m\u001b[43mrun_backward\u001b[49m\u001b[43m(\u001b[49m\u001b[43m  \u001b[49m\u001b[38;5;66;43;03m# Calls into the C++ engine to run the backward pass\u001b[39;49;00m\n\u001b[1;32m    198\u001b[0m \u001b[43m    \u001b[49m\u001b[43mtensors\u001b[49m\u001b[43m,\u001b[49m\u001b[43m \u001b[49m\u001b[43mgrad_tensors_\u001b[49m\u001b[43m,\u001b[49m\u001b[43m \u001b[49m\u001b[43mretain_graph\u001b[49m\u001b[43m,\u001b[49m\u001b[43m \u001b[49m\u001b[43mcreate_graph\u001b[49m\u001b[43m,\u001b[49m\u001b[43m \u001b[49m\u001b[43minputs\u001b[49m\u001b[43m,\u001b[49m\n\u001b[1;32m    199\u001b[0m \u001b[43m    \u001b[49m\u001b[43mallow_unreachable\u001b[49m\u001b[38;5;241;43m=\u001b[39;49m\u001b[38;5;28;43;01mTrue\u001b[39;49;00m\u001b[43m,\u001b[49m\u001b[43m \u001b[49m\u001b[43maccumulate_grad\u001b[49m\u001b[38;5;241;43m=\u001b[39;49m\u001b[38;5;28;43;01mTrue\u001b[39;49;00m\u001b[43m)\u001b[49m\n",
      "\u001b[0;31mKeyboardInterrupt\u001b[0m: "
     ]
    }
   ],
   "source": [
    "wandb = False\n",
    "\n",
    "Configs ={\n",
    "    \"lattent_dim\": 100,\n",
    "    \"beta\": 1,\n",
    "    \"batch_size\": 128,\n",
    "    \"epoches\": 100,\n",
    "    \"lr\": 0.0001\n",
    "}\n",
    "run_name = f\"VAE_pretrain_{time.time()}\"\n",
    "\n",
    "if wandb:\n",
    "\n",
    "    wandb.init(\n",
    "            project=\"SAC\",\n",
    "            config=Configs,\n",
    "            name=run_name,\n",
    "            save_code=False\n",
    "        )\n",
    "\n",
    "obs_channel    = envs.single_observation_space.shape[0]\n",
    "obs_shape    = envs.single_observation_space.shape\n",
    "lattent_dim    = Configs[\"lattent_dim\"]\n",
    "beta           = Configs[\"beta\"]\n",
    "batch_size     = Configs[\"batch_size\"]\n",
    "epoches        = Configs[\"epoches\"]\n",
    "lr             = Configs[\"lr\"]\n",
    "\n",
    "device = torch.device('cuda' if torch.cuda.is_available() else 'cpu')\n",
    "\n",
    "encoder = Encoder(obs_shape,lattent_dim)\n",
    "decoder = Decoder(obs_shape, lattent_dim, encoder.fc_dims).to(device)\n",
    "\n",
    "# using multiple GPUs if it's available\n",
    "if torch.cuda.device_count() > 1 and False:\n",
    "    print(f\"Using {torch.cuda.device_count()} GPUs in this trainning.\")\n",
    "    encoder = nn.DataParallel(encoder)\n",
    "    decoder = nn.DataParallel(decoder)\n",
    "    \n",
    "    \n",
    "encoder.to(device)\n",
    "decoder.to(device)\n",
    "\n",
    "Pretrain_VAE(train_obs, eval_obs, encoder, decoder, obs_channel,wandb = wandb, lr = lr, epoch = epoches, batch_size = batch_size, beta=beta)\n",
    "if wandb:\n",
    "    wandb.finish()"
   ]
  },
  {
   "cell_type": "code",
   "execution_count": 81,
   "id": "ded9497c-bb27-4a79-8228-8e2e59df4178",
   "metadata": {},
   "outputs": [
    {
     "name": "stdout",
     "output_type": "stream",
     "text": [
      "Epoch:  1\n"
     ]
    },
    {
     "name": "stderr",
     "output_type": "stream",
     "text": [
      "100%|██████████| 704/704 [00:11<00:00, 62.98it/s]\n"
     ]
    },
    {
     "name": "stdout",
     "output_type": "stream",
     "text": [
      "Current trainning loss is:  24.374435424804688\n",
      "Epoch:  2\n"
     ]
    },
    {
     "name": "stderr",
     "output_type": "stream",
     "text": [
      "100%|██████████| 704/704 [00:11<00:00, 62.37it/s]\n"
     ]
    },
    {
     "name": "stdout",
     "output_type": "stream",
     "text": [
      "Current trainning loss is:  24.68587875366211\n",
      "Epoch:  3\n"
     ]
    },
    {
     "name": "stderr",
     "output_type": "stream",
     "text": [
      "100%|██████████| 704/704 [00:11<00:00, 61.71it/s]\n"
     ]
    },
    {
     "name": "stdout",
     "output_type": "stream",
     "text": [
      "Current trainning loss is:  23.500394821166992\n",
      "Epoch:  4\n"
     ]
    },
    {
     "name": "stderr",
     "output_type": "stream",
     "text": [
      " 70%|███████   | 496/704 [00:07<00:03, 62.80it/s]\n"
     ]
    },
    {
     "ename": "KeyboardInterrupt",
     "evalue": "",
     "output_type": "error",
     "traceback": [
      "\u001b[0;31m---------------------------------------------------------------------------\u001b[0m",
      "\u001b[0;31mKeyboardInterrupt\u001b[0m                         Traceback (most recent call last)",
      "Cell \u001b[0;32mIn [81], line 1\u001b[0m\n\u001b[0;32m----> 1\u001b[0m \u001b[43mPretrain_VAE\u001b[49m\u001b[43m(\u001b[49m\u001b[43mtrain_obs\u001b[49m\u001b[43m,\u001b[49m\u001b[43m \u001b[49m\u001b[43meval_obs\u001b[49m\u001b[43m,\u001b[49m\u001b[43m \u001b[49m\u001b[43mencoder\u001b[49m\u001b[43m,\u001b[49m\u001b[43m \u001b[49m\u001b[43mdecoder\u001b[49m\u001b[43m,\u001b[49m\u001b[43m \u001b[49m\u001b[43mobs_channel\u001b[49m\u001b[43m,\u001b[49m\u001b[43m \u001b[49m\u001b[43mlr\u001b[49m\u001b[43m \u001b[49m\u001b[38;5;241;43m=\u001b[39;49m\u001b[43m \u001b[49m\u001b[43mlr\u001b[49m\u001b[43m,\u001b[49m\u001b[43m \u001b[49m\u001b[43mepoch\u001b[49m\u001b[43m \u001b[49m\u001b[38;5;241;43m=\u001b[39;49m\u001b[43m \u001b[49m\u001b[43mepoches\u001b[49m\u001b[43m,\u001b[49m\u001b[43m \u001b[49m\u001b[43mbatch_size\u001b[49m\u001b[43m \u001b[49m\u001b[38;5;241;43m=\u001b[39;49m\u001b[43m \u001b[49m\u001b[43mbatch_size\u001b[49m\u001b[43m,\u001b[49m\u001b[43m \u001b[49m\u001b[43mbeta\u001b[49m\u001b[38;5;241;43m=\u001b[39;49m\u001b[43mbeta\u001b[49m\u001b[43m)\u001b[49m\n",
      "Cell \u001b[0;32mIn [76], line 26\u001b[0m, in \u001b[0;36mPretrain_VAE\u001b[0;34m(train_obs, eval_obs, encoder, decoder, obs_layer, lr, wandb, epoch, batch_size, beta)\u001b[0m\n\u001b[1;32m     23\u001b[0m decoder_optimizer\u001b[38;5;241m.\u001b[39mzero_grad()\n\u001b[1;32m     25\u001b[0m loss \u001b[38;5;241m=\u001b[39m loss_VAE(batch_hat, batch, mu, logvar, beta)\n\u001b[0;32m---> 26\u001b[0m \u001b[43mloss\u001b[49m\u001b[38;5;241;43m.\u001b[39;49m\u001b[43mbackward\u001b[49m\u001b[43m(\u001b[49m\u001b[43m)\u001b[49m\n\u001b[1;32m     28\u001b[0m encoder_optimizer\u001b[38;5;241m.\u001b[39mstep()\n\u001b[1;32m     29\u001b[0m decoder_optimizer\u001b[38;5;241m.\u001b[39mstep()\n",
      "File \u001b[0;32m/apps/Arch/software/PyTorch/1.13.1-foss-2022a-CUDA-11.7.0/lib/python3.10/site-packages/torch/_tensor.py:488\u001b[0m, in \u001b[0;36mTensor.backward\u001b[0;34m(self, gradient, retain_graph, create_graph, inputs)\u001b[0m\n\u001b[1;32m    478\u001b[0m \u001b[38;5;28;01mif\u001b[39;00m has_torch_function_unary(\u001b[38;5;28mself\u001b[39m):\n\u001b[1;32m    479\u001b[0m     \u001b[38;5;28;01mreturn\u001b[39;00m handle_torch_function(\n\u001b[1;32m    480\u001b[0m         Tensor\u001b[38;5;241m.\u001b[39mbackward,\n\u001b[1;32m    481\u001b[0m         (\u001b[38;5;28mself\u001b[39m,),\n\u001b[0;32m   (...)\u001b[0m\n\u001b[1;32m    486\u001b[0m         inputs\u001b[38;5;241m=\u001b[39minputs,\n\u001b[1;32m    487\u001b[0m     )\n\u001b[0;32m--> 488\u001b[0m \u001b[43mtorch\u001b[49m\u001b[38;5;241;43m.\u001b[39;49m\u001b[43mautograd\u001b[49m\u001b[38;5;241;43m.\u001b[39;49m\u001b[43mbackward\u001b[49m\u001b[43m(\u001b[49m\n\u001b[1;32m    489\u001b[0m \u001b[43m    \u001b[49m\u001b[38;5;28;43mself\u001b[39;49m\u001b[43m,\u001b[49m\u001b[43m \u001b[49m\u001b[43mgradient\u001b[49m\u001b[43m,\u001b[49m\u001b[43m \u001b[49m\u001b[43mretain_graph\u001b[49m\u001b[43m,\u001b[49m\u001b[43m \u001b[49m\u001b[43mcreate_graph\u001b[49m\u001b[43m,\u001b[49m\u001b[43m \u001b[49m\u001b[43minputs\u001b[49m\u001b[38;5;241;43m=\u001b[39;49m\u001b[43minputs\u001b[49m\n\u001b[1;32m    490\u001b[0m \u001b[43m\u001b[49m\u001b[43m)\u001b[49m\n",
      "File \u001b[0;32m/apps/Arch/software/PyTorch/1.13.1-foss-2022a-CUDA-11.7.0/lib/python3.10/site-packages/torch/autograd/__init__.py:197\u001b[0m, in \u001b[0;36mbackward\u001b[0;34m(tensors, grad_tensors, retain_graph, create_graph, grad_variables, inputs)\u001b[0m\n\u001b[1;32m    192\u001b[0m     retain_graph \u001b[38;5;241m=\u001b[39m create_graph\n\u001b[1;32m    194\u001b[0m \u001b[38;5;66;03m# The reason we repeat same the comment below is that\u001b[39;00m\n\u001b[1;32m    195\u001b[0m \u001b[38;5;66;03m# some Python versions print out the first line of a multi-line function\u001b[39;00m\n\u001b[1;32m    196\u001b[0m \u001b[38;5;66;03m# calls in the traceback and some print out the last line\u001b[39;00m\n\u001b[0;32m--> 197\u001b[0m \u001b[43mVariable\u001b[49m\u001b[38;5;241;43m.\u001b[39;49m\u001b[43m_execution_engine\u001b[49m\u001b[38;5;241;43m.\u001b[39;49m\u001b[43mrun_backward\u001b[49m\u001b[43m(\u001b[49m\u001b[43m  \u001b[49m\u001b[38;5;66;43;03m# Calls into the C++ engine to run the backward pass\u001b[39;49;00m\n\u001b[1;32m    198\u001b[0m \u001b[43m    \u001b[49m\u001b[43mtensors\u001b[49m\u001b[43m,\u001b[49m\u001b[43m \u001b[49m\u001b[43mgrad_tensors_\u001b[49m\u001b[43m,\u001b[49m\u001b[43m \u001b[49m\u001b[43mretain_graph\u001b[49m\u001b[43m,\u001b[49m\u001b[43m \u001b[49m\u001b[43mcreate_graph\u001b[49m\u001b[43m,\u001b[49m\u001b[43m \u001b[49m\u001b[43minputs\u001b[49m\u001b[43m,\u001b[49m\n\u001b[1;32m    199\u001b[0m \u001b[43m    \u001b[49m\u001b[43mallow_unreachable\u001b[49m\u001b[38;5;241;43m=\u001b[39;49m\u001b[38;5;28;43;01mTrue\u001b[39;49;00m\u001b[43m,\u001b[49m\u001b[43m \u001b[49m\u001b[43maccumulate_grad\u001b[49m\u001b[38;5;241;43m=\u001b[39;49m\u001b[38;5;28;43;01mTrue\u001b[39;49;00m\u001b[43m)\u001b[49m\n",
      "\u001b[0;31mKeyboardInterrupt\u001b[0m: "
     ]
    }
   ],
   "source": [
    "Pretrain_VAE(train_obs, eval_obs, encoder, decoder, obs_channel, lr = lr, epoch = epoches, batch_size = batch_size, beta=beta)\n"
   ]
  },
  {
   "cell_type": "code",
   "execution_count": 111,
   "id": "fb36d513-429a-4016-83f6-b377ee4356da",
   "metadata": {},
   "outputs": [
    {
     "data": {
      "text/plain": [
       "<All keys matched successfully>"
      ]
     },
     "execution_count": 111,
     "metadata": {},
     "output_type": "execute_result"
    }
   ],
   "source": [
    "# load the trained encoder and decoder if necessary\n",
    "device='cuda'\n",
    "encoder = Encoder(obs_shape,latent_dims=100).to(device='cuda')\n",
    "decoder = Decoder(obs_shape, latent_dims=100, fc_dims = encoder.fc_dims).to(device='cuda')\n",
    "encoder.load_state_dict(torch.load('Models/encoder_DMC.pth'))\n",
    "decoder.load_state_dict(torch.load('Models/decoder_DMC.pth'))"
   ]
  },
  {
   "cell_type": "code",
   "execution_count": 133,
   "id": "a792d49b-2802-49aa-8bf8-46152fff0ee2",
   "metadata": {},
   "outputs": [
    {
     "name": "stdout",
     "output_type": "stream",
     "text": [
      "(12, 84, 84)\n"
     ]
    },
    {
     "data": {
      "image/png": "[encoded data removed]",
      "text/plain": [
       "<Figure size 720x1080 with 4 Axes>"
      ]
     },
     "metadata": {
      "needs_background": "light"
     },
     "output_type": "display_data"
    }
   ],
   "source": [
    "RGB = True\n",
    "random = np.random.randint(10000)\n",
    "sample = eval_obs[random]\n",
    "plot_obs(sample, 1, RGB)"
   ]
  },
  {
   "cell_type": "code",
   "execution_count": 134,
   "id": "2a664eec-138a-4909-bc2a-7187c967f153",
   "metadata": {},
   "outputs": [
    {
     "name": "stderr",
     "output_type": "stream",
     "text": [
      "Clipping input data to the valid range for imshow with RGB data ([0..1] for floats or [0..255] for integers).\n",
      "Clipping input data to the valid range for imshow with RGB data ([0..1] for floats or [0..255] for integers).\n",
      "Clipping input data to the valid range for imshow with RGB data ([0..1] for floats or [0..255] for integers).\n",
      "Clipping input data to the valid range for imshow with RGB data ([0..1] for floats or [0..255] for integers).\n"
     ]
    },
    {
     "name": "stdout",
     "output_type": "stream",
     "text": [
      "(1, 12, 84, 84)\n"
     ]
    },
    {
     "data": {
      "image/png": "[encoded data removed]",
      "text/plain": [
       "<Figure size 720x1080 with 4 Axes>"
      ]
     },
     "metadata": {
      "needs_background": "light"
     },
     "output_type": "display_data"
    }
   ],
   "source": [
    "sample = torch.FloatTensor(sample/255.0)\n",
    "sample = sample.view(-1, 12, 84, 84)\n",
    "z ,_, _ = encoder(sample.to(device))\n",
    "recons = decoder(z)\n",
    "\n",
    "\n",
    "recons = recons.detach().cpu().numpy()\n",
    "plot_obs(recons, 1, RGB)"
   ]
  },
  {
   "cell_type": "code",
   "execution_count": null,
   "id": "adb73478-eef3-457f-8dbc-495acdf588fe",
   "metadata": {},
   "outputs": [],
   "source": []
  },
  {
   "cell_type": "code",
   "execution_count": null,
   "id": "3858e80f-5d11-4f72-967e-c694a2c2ca68",
   "metadata": {},
   "outputs": [],
   "source": []
  }
 ],
 "metadata": {
  "kernelspec": {
   "display_name": "Python 3 (ipykernel)",
   "language": "python",
   "name": "python3"
  },
  "language_info": {
   "codemirror_mode": {
    "name": "ipython",
    "version": 3
   },
   "file_extension": ".py",
   "mimetype": "text/x-python",
   "name": "python",
   "nbconvert_exporter": "python",
   "pygments_lexer": "ipython3",
   "version": "3.10.4"
  }
 },
 "nbformat": 4,
 "nbformat_minor": 5
}
