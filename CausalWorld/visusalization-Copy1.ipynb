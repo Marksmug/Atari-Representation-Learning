{
 "cells": [
  {
   "cell_type": "code",
   "execution_count": 1,
   "id": "94c2e993",
   "metadata": {},
   "outputs": [],
   "source": [
    "import cv2\n",
    "import gym\n",
    "from collections import deque\n",
    "import numpy as np\n",
    "import matplotlib.pyplot as plt\n",
    "from sys import getsizeof\n",
    "import time\n",
    "import torch \n",
    "import torch.nn as nn\n",
    "import torch.nn.functional as F\n",
    "import torch.optim as optim\n",
    "from torch.distributions import Normal\n",
    "from tqdm import tqdm"
   ]
  },
  {
   "cell_type": "code",
   "execution_count": 2,
   "id": "78e7ea3a",
   "metadata": {},
   "outputs": [],
   "source": [
    "from causal_world.task_generators.task import generate_task\n",
    "from causal_world.envs.causalworld import CausalWorld\n"
   ]
  },
  {
   "cell_type": "code",
   "execution_count": 3,
   "id": "87b0fb10",
   "metadata": {},
   "outputs": [],
   "source": [
    "class FrameStack(gym.Wrapper):\n",
    "    \n",
    "    \"\"\"\n",
    "    stack multiple frames together \n",
    "    as done in the Nature paper and later work.\n",
    "    allow for single goal observation, i.e,\n",
    "    get a single frame of goal obs for each view, \n",
    "    because the consecutive frames of goal obs does not provide\n",
    "    dynamic information to the agent, i.e, goal object doesn't move\n",
    "    \n",
    "    \n",
    "\n",
    "    :param env: Environment to wrap\n",
    "    :param k: frames that stack together\n",
    "    :param single_goal_obs: flag that control how many \n",
    "     frames of goal obs to stack\n",
    "    \"\"\"\n",
    "    def __init__(self, env, k, single_goal_obs = True):\n",
    "        gym.Wrapper.__init__(self, env)\n",
    "        self._k = k\n",
    "        self.single_goal_obs = single_goal_obs\n",
    "        self._frames = deque([], maxlen=k)\n",
    "        self.shp = env.observation_space.shape\n",
    "        self.num_view = int(self.shp[0]/2)\n",
    "        # default channel is 1 (for Grayscale obs)\n",
    "        self.num_channel = 1                   \n",
    "        \n",
    "        # reshape of the obs if it's RGB and \n",
    "        # change the number of channel \n",
    "        if len(self.shp) == 4:\n",
    "            self.shp = (self.shp[0] * self.shp[-1], self.shp[1], self.shp[2])\n",
    "            self.num_channel = 3\n",
    "            \n",
    "        if self.single_goal_obs:\n",
    "            shape = ((self.num_view * self.num_channel * (k + 1),) + self.shp[1:])\n",
    "        else:\n",
    "            shape = ((self.shp[0] * k,) + self.shp[1:])\n",
    "        self.observation_space = gym.spaces.Box(\n",
    "            low=0,\n",
    "            high=1,\n",
    "            shape=shape,\n",
    "            dtype=env.observation_space.dtype\n",
    "        )\n",
    "        \n",
    "\n",
    "    def reset(self):\n",
    "        obs = self.env.reset()\n",
    "        # reshape the initial obs\n",
    "        obs = obs.reshape(self.shp)\n",
    "        for _ in range(self._k):\n",
    "            self._frames.append(obs)\n",
    "        return self._get_obs()\n",
    "\n",
    "    def step(self, action):\n",
    "        obs, reward, done, info = self.env.step(action)\n",
    "         # reshape the obs\n",
    "        obs = obs.reshape(self.shp)\n",
    "        self._frames.append(obs)\n",
    "        return self._get_obs(), reward, done, info\n",
    "\n",
    "    def _get_obs(self):\n",
    "        assert len(self._frames) == self._k\n",
    "        \n",
    "        frames_target = []\n",
    "        frames_goal = []\n",
    "        # extract the target obs and goal obs to seperate list \n",
    "        for i in range(self._k):\n",
    "            for j in range(self.shp[0]):\n",
    "                if j < self.shp[0]/2:\n",
    "                    frames_target.append(self._frames[i][j])\n",
    "                else:\n",
    "                    frames_goal.append(self._frames[i][j])\n",
    "        # merge the two target obs list and goal obs list\n",
    "        # each element in the list is multiple views of the object \n",
    "        last_frames = []\n",
    "        if self.single_goal_obs:\n",
    "            # only merge one frame from different view of goal\n",
    "            for i in range(int(len(frames_goal)/self._k)):\n",
    "                last_frames.append(frames_goal[i])\n",
    "        else:\n",
    "            last_frames = frames_goal\n",
    "        return np.concatenate((frames_target,last_frames), axis=0)"
   ]
  },
  {
   "cell_type": "code",
   "execution_count": 4,
   "id": "57e970a5-7a4d-48a6-9737-26fd7fa5030e",
   "metadata": {},
   "outputs": [],
   "source": [
    "class ResizeFrame(gym.ObservationWrapper):\n",
    "    \"\"\"\n",
    "    warp frames to 84x84 (default)\n",
    "    as done in the Nature paper and later work.\n",
    "\n",
    "    :param env: Environment to wrap\n",
    "    :param width: New frame width\n",
    "    :param height: New frame height\n",
    "    \"\"\"\n",
    "\n",
    "    def __init__(self, env: gym.Env, max_episode_length, width: int = 84, height: int = 84) -> None:\n",
    "        super().__init__(env)\n",
    "        self.width = width\n",
    "        self.height = height\n",
    "        assert isinstance(env.observation_space, gym.spaces.Box), f\"Expected Box space, got {env.observation_space}\"\n",
    "        #self._max_episode_steps = max_episode_length\n",
    "        if len(env.observation_space.shape) == 4:\n",
    "            self.observation_space = gym.spaces.Box(\n",
    "                low=0,\n",
    "                high=1,\n",
    "                shape=(env.observation_space.shape[0], self.height, self.width, env.observation_space.shape[-1]),\n",
    "                dtype=env.observation_space.dtype,  # type: ignore[arg-type]\n",
    "            )\n",
    "        if len(env.observation_space.shape) == 3:\n",
    "            self.observation_space = gym.spaces.Box(\n",
    "                low=0,\n",
    "                high=1,\n",
    "                shape=(env.observation_space.shape[0], self.height, self.width),\n",
    "                dtype=env.observation_space.dtype,  # type: ignore[arg-type]\n",
    "            )\n",
    "        \n",
    "\n",
    "    def observation(self, frame: np.ndarray) -> np.ndarray:\n",
    "        \"\"\"\n",
    "        returns the current observation from a frame\n",
    "\n",
    "        :param frame: environment frame\n",
    "        :return: the observation\n",
    "        \"\"\"\n",
    "        assert cv2 is not None, \"OpenCV is not installed, you can do `pip install opencv-python`\"\n",
    "        \n",
    "        new_frame = np.empty(self.observation_space.shape, dtype = self.observation_space.dtype)\n",
    "        for i in range(len(frame)):\n",
    "            new_frame[i] = cv2.resize(frame[i], (self.width, self.height), interpolation=cv2.INTER_AREA)\n",
    "        return new_frame"
   ]
  },
  {
   "cell_type": "code",
   "execution_count": 5,
   "id": "6524b28b-cde2-4bf1-ae5f-818467dd3059",
   "metadata": {},
   "outputs": [],
   "source": [
    "class GrayFrame(gym.ObservationWrapper):\n",
    "    \"\"\"\n",
    "    Convert frames to gray scale (default)\n",
    "    as done in the Nature paper and later work.\n",
    "\n",
    "    :param env: Environment to wrap\n",
    "    :param width: New frame width\n",
    "    :param height: New frame height\n",
    "    \"\"\"\n",
    "\n",
    "    def __init__(self, env: gym.Env, max_episode_length) -> None:\n",
    "        super().__init__(env)\n",
    "        assert isinstance(env.observation_space, gym.spaces.Box), f\"Expected Box space, got {env.observation_space}\"\n",
    "        \n",
    "        #self._max_episode_steps = max_episode_length\n",
    "        if len(env.observation_space.shape) == 3:\n",
    "            return\n",
    "        self.observation_space = gym.spaces.Box(\n",
    "            low=0,\n",
    "            high=1,\n",
    "            shape= env.observation_space.shape[:3],\n",
    "            dtype=env.observation_space.dtype,  # type: ignore[arg-type]\n",
    "        )\n",
    "        \n",
    "\n",
    "    def observation(self, frame: np.ndarray) -> np.ndarray:\n",
    "        \"\"\"\n",
    "        returns the current observation from a frame\n",
    "\n",
    "        :param frame: environment frame\n",
    "        :return: the observation\n",
    "        \"\"\"\n",
    "        assert cv2 is not None, \"OpenCV is not installed, you can do `pip install opencv-python`\"\n",
    "        \n",
    "        if self.observation_space.dtype != 'uint8':\n",
    "            frame = np.float32(frame)\n",
    "        new_frame = np.empty(self.observation_space.shape, dtype = self.observation_space.dtype)\n",
    "        for i in range(len(frame)):\n",
    "            new_frame[i] = cv2.cvtColor(frame[i], cv2.COLOR_RGB2GRAY) \n",
    "\n",
    "\n",
    "        return new_frame    "
   ]
  },
  {
   "cell_type": "code",
   "execution_count": 6,
   "id": "9d3a64f8-1f79-43e1-8b2d-d2afe52bda48",
   "metadata": {},
   "outputs": [],
   "source": [
    "# adapted from stable_baselines3/common/atari_wrappers.py\n",
    "\n",
    "class DtypeChange(gym.ObservationWrapper):\n",
    "    \"\"\"\n",
    "    Convert data type to uint8 (default)\n",
    "\n",
    "    :param env: Environment to wrap\n",
    "    :param type: data type\n",
    "\n",
    "    \"\"\"\n",
    "\n",
    "    def __init__(self, env: gym.Env, dtype = 'uint8') -> None:\n",
    "        super().__init__(env)\n",
    "        assert isinstance(env.observation_space, gym.spaces.Box), f\"Expected Box space, got {env.observation_space}\"\n",
    "        \n",
    "        if len(env.observation_space.shape) == 3:\n",
    "            return\n",
    "        self.observation_space = gym.spaces.Box(\n",
    "            low=0,\n",
    "            high=1,\n",
    "            shape= env.observation_space.shape,\n",
    "            dtype=dtype,  # type: ignore[arg-type]\n",
    "        )\n",
    "        \n",
    "\n",
    "    def observation(self, frame: np.ndarray) -> np.ndarray:\n",
    "        \"\"\"\n",
    "        returns the current observation from a frame\n",
    "\n",
    "        :param frame: environment frame\n",
    "        :return: the observation\n",
    "        \"\"\"\n",
    "        assert cv2 is not None, \"OpenCV is not installed, you can do `pip install opencv-python`\"\n",
    "        \n",
    "        frame = frame * 255\n",
    "        frame = frame.astype(np.uint8)\n",
    "\n",
    "        return frame"
   ]
  },
  {
   "cell_type": "code",
   "execution_count": 7,
   "id": "178ee886-ac80-42be-a449-cbc0cfdea516",
   "metadata": {},
   "outputs": [],
   "source": [
    "def make_env(task_name, skip_frame, seed, maximum_episode_length, observation_mode, capture_video, run_name):\n",
    "    def thunk():\n",
    "        \n",
    "        task = generate_task(task_generator_id=task_name,dense_reward_weights=np.array([2500, 2500, 0]),\n",
    "                      fractional_reward_weight=100)\n",
    "        \n",
    "        #piking task\n",
    "        #task = generate_task(task_generator_id=task_name,\n",
    "        #                  dense_reward_weights=np.array(\n",
    "        #                      [250, 0, 125, 0, 750, 0, 0, 0.005]),\n",
    "        #                  fractional_reward_weight=1,\n",
    "        #                  tool_block_mass=0.02)\n",
    "        if capture_video:\n",
    "            env = CausalWorld(task=task, skip_frame=skip_frame, seed=seed, max_episode_length = maximum_episode_length, observation_mode = observation_mode, render_mode=\"rgb_array\")\n",
    "            # record the video every 250 episode\n",
    "            env = gym.wrappers.RecordVideo(env, f\"video/{run_name}\", episode_trigger = lambda x: x % 250 == 0)\n",
    "        else:\n",
    "            env = CausalWorld(task=task, skip_frame=skip_frame, seed=seed,  max_episode_length = maximum_episode_length, observation_mode = observation_mode, camera_indicies = [0])\n",
    "        env = gym.wrappers.RecordEpisodeStatistics(env)\n",
    "        env = DtypeChange(env)\n",
    "        env = GrayFrame(env, max_episode_length=maximum_episode_length)\n",
    "        #env = ResizeFrame(env, max_episode_length=maximum_episode_length, width=84, height=84)\n",
    "        env = FrameStack(env, k=3, single_goal_obs=True)\n",
    "        \n",
    "\n",
    "        env.seed(seed)\n",
    "        # sample random action in exploration phase\n",
    "        env.action_space.seed(seed)\n",
    "        #env.observation_space.seed(seed)\n",
    "        return env\n",
    "    return thunk"
   ]
  },
  {
   "cell_type": "code",
   "execution_count": 8,
   "id": "9808c73f-46e4-461e-a67e-c49866d5ed96",
   "metadata": {},
   "outputs": [],
   "source": [
    "class replayBuffer():\n",
    "    def __init__(self, obs_space, obs_dim, act_space, act_dim, capacity, device):\n",
    "        self.device = device\n",
    "        self.capacity = capacity\n",
    "        self.obs_space = obs_space\n",
    "        self.act_space = act_space\n",
    "        self.obs_buffer = np.zeros((tuple([capacity]) + obs_dim), dtype=self.obs_space)\n",
    "        self.next_obs_buffer = np.zeros((tuple([capacity]) + obs_dim), dtype=self.obs_space)\n",
    "        self.act_buffer = np.zeros((capacity, act_dim), dtype=self.act_space)\n",
    "        self.r_buffer = np.zeros(capacity, dtype=np.float32)\n",
    "        self.done_buffer = np.zeros(capacity, dtype=np.float32)\n",
    "\n",
    "        self.ptr = 0\n",
    "        self.current_size = 0\n",
    "\n",
    "    def store(self, obs, act, r, next_obs, done):\n",
    "        \n",
    "        # flattent the observation \n",
    "        # doesn't support parallel envs\n",
    "        #obs.flatten()\n",
    "        #next_obs.flatten()\n",
    "\n",
    "        self.obs_buffer[self.ptr] = obs\n",
    "        self.act_buffer[self.ptr] = act\n",
    "        self.r_buffer[self.ptr] = r\n",
    "        self.next_obs_buffer[self.ptr] = next_obs\n",
    "        self.done_buffer[self.ptr] = done\n",
    "        self.ptr = (self.ptr + 1) % self.capacity\n",
    "        self.current_size = min(self.current_size + 1, self.capacity)\n",
    "\n",
    "    def sample(self, batch_size=32):\n",
    "        idx = np.random.randint(0, self.current_size, size=batch_size)\n",
    "        # the reward is rescaled\n",
    "        batch = dict(\n",
    "            obs = self.obs_buffer[idx],\n",
    "            act = self.act_buffer[idx],\n",
    "            r = self.r_buffer[idx],\n",
    "            next_obs = self.next_obs_buffer[idx],\n",
    "            done = self.done_buffer[idx]\n",
    "        )   \n",
    "        \n",
    "        return batch\n",
    "    \n",
    "    def shuffle(self):\n",
    "        # Generate a shuffled index array\n",
    "        idx = np.arange(self.current_size)\n",
    "        np.random.shuffle(idx)\n",
    "\n",
    "        # Reorder all buffers according to the shuffled indices\n",
    "        self.obs_buffer[:self.current_size] = self.obs_buffer[idx]\n",
    "        self.next_obs_buffer[:self.current_size] = self.next_obs_buffer[idx]\n",
    "        self.act_buffer[:self.current_size] = self.act_buffer[idx]\n",
    "        self.r_buffer[:self.current_size] = self.r_buffer[idx]\n",
    "        self.done_buffer[:self.current_size] = self.done_buffer[idx]"
   ]
  },
  {
   "cell_type": "code",
   "execution_count": 9,
   "id": "513772a4-c740-4134-b0e3-6a784493c135",
   "metadata": {},
   "outputs": [],
   "source": [
    "def plot_obs(obs, num_view, RGB=False):\n",
    "    fig = plt.figure(figsize=(10, 15)) \n",
    "    if len(obs.shape)==4:\n",
    "        obs = obs[0]\n",
    "    if RGB:\n",
    "        num_fig = int(obs.shape[0] / 3)\n",
    "        obs = obs.reshape(num_fig, 84, 84, 3)\n",
    "    else:\n",
    "        num_fig = obs.shape[0]\n",
    "    \n",
    "    rows = int(num_fig / num_view)\n",
    "    columns = num_view\n",
    "\n",
    "    for i in range(num_fig):\n",
    "        fig.add_subplot(rows, columns, i+1)\n",
    "        plt.imshow(obs[i])"
   ]
  },
  {
   "cell_type": "code",
   "execution_count": 10,
   "id": "638bba38-5f1d-4063-ab75-d1075fa41a97",
   "metadata": {},
   "outputs": [],
   "source": [
    "envs = gym.vector.SyncVectorEnv([make_env('pushing', 3, i, 600, 'pixel', False, 'dump') for i in range(1)]) "
   ]
  },
  {
   "cell_type": "code",
   "execution_count": 12,
   "id": "42dd7f92-8602-468a-b163-4cc7fd99da21",
   "metadata": {},
   "outputs": [
    {
     "data": {
      "text/plain": [
       "1"
      ]
     },
     "execution_count": 12,
     "metadata": {},
     "output_type": "execute_result"
    }
   ],
   "source": [
    "torch.cuda.device_count()"
   ]
  },
  {
   "cell_type": "markdown",
   "id": "4893ca7f-bc77-4b4c-ac0e-d52367a3457d",
   "metadata": {
    "tags": []
   },
   "source": [
    "## check the replay buffer"
   ]
  },
  {
   "cell_type": "code",
   "execution_count": 13,
   "id": "02685a32-0908-4443-b417-07cec04c604f",
   "metadata": {},
   "outputs": [
    {
     "name": "stdout",
     "output_type": "stream",
     "text": [
      "size of single observation: 65696\n"
     ]
    },
    {
     "name": "stderr",
     "output_type": "stream",
     "text": [
      "100%|██████████| 10000/10000 [07:35<00:00, 21.94it/s]"
     ]
    },
    {
     "name": "stdout",
     "output_type": "stream",
     "text": [
      "Runing time: 455.90247893333435\n",
      "observation buffer size: 13750.000305175781MB\n"
     ]
    },
    {
     "name": "stderr",
     "output_type": "stream",
     "text": [
      "\n"
     ]
    }
   ],
   "source": [
    "start = time.time()\n",
    "obs = envs.reset()\n",
    "print(f\"size of single observation: {getsizeof(obs)}\")\n",
    "\n",
    "rep_buffer = replayBuffer(envs.single_observation_space.dtype, envs.single_observation_space.shape, \n",
    "                          envs.single_action_space.dtype, envs.single_action_space.shape[0],\n",
    "                          capacity=110000, device='cpu')\n",
    "final_obs = []\n",
    "for i in tqdm(range(10000)):\n",
    "    a = np.array([envs.single_action_space.sample()])\n",
    "    next_obs, r, done,infos = envs.step(a)\n",
    "   \n",
    "    \n",
    "    #handle the terminal observation\n",
    "    real_next_obs = next_obs.copy()\n",
    "    for idx, d in enumerate(done):\n",
    "        if d:\n",
    "            real_next_obs[idx] = infos[\"final_observation\"][idx]\n",
    "            final_obs.append(real_next_obs)\n",
    "    \n",
    "    rep_buffer.store(obs, a,r, real_next_obs, done)\n",
    "            \n",
    "    obs = next_obs\n",
    "end = time.time()\n",
    "\n",
    "time_cost = end-start\n",
    "buffer_size = getsizeof(rep_buffer.obs_buffer) + getsizeof(rep_buffer.next_obs_buffer)\n",
    "print(f\"Runing time: {time_cost}\")\n",
    "print(f\"observation buffer size: {buffer_size/1024/1024}MB\")"
   ]
  },
  {
   "cell_type": "code",
   "execution_count": null,
   "id": "cadf0135-5eaf-462c-a82d-49b6dfef9ea2",
   "metadata": {},
   "outputs": [],
   "source": [
    "print(f\"buffer size: {getsizeof(rep_buffer.obs_buffer)}\")"
   ]
  },
  {
   "cell_type": "code",
   "execution_count": null,
   "id": "00634d3d-91d3-4cb0-9abb-f2a468364310",
   "metadata": {},
   "outputs": [],
   "source": [
    "print(f\"buffer size: {getsizeof(rep_buffer.obs_buffer)}\")"
   ]
  },
  {
   "cell_type": "code",
   "execution_count": null,
   "id": "a9a4c154-a7c6-4414-a8e7-437f1b6e9bf5",
   "metadata": {},
   "outputs": [],
   "source": [
    "dones = rep_buffer.done_buffer\n",
    "done_index = []\n",
    "for i in range(len(dones)):\n",
    "    if dones[i]:\n",
    "        done_index.append(i)\n",
    "\n"
   ]
  },
  {
   "cell_type": "code",
   "execution_count": null,
   "id": "58f88610-cf94-403d-a7cd-5c7c4ea81a81",
   "metadata": {},
   "outputs": [],
   "source": [
    "obs = rep_buffer.obs_buffer\n",
    "next_obs = rep_buffer.next_obs_buffer\n",
    "print(obs[2].shape)\n",
    "#plot_obs(obs[done_index[1]+1], 1)"
   ]
  },
  {
   "cell_type": "code",
   "execution_count": null,
   "id": "ca8a1ef6-35a7-40a1-a586-d04388d4c000",
   "metadata": {},
   "outputs": [],
   "source": [
    "batch = rep_buffer.sample(10)\n",
    "obs = batch['next_obs']\n",
    "print(obs.shape)\n"
   ]
  },
  {
   "cell_type": "code",
   "execution_count": null,
   "id": "6ad99c13-b05f-4230-84f7-d835dfdd13a8",
   "metadata": {},
   "outputs": [],
   "source": [
    "plot_obs(obs[5], 2)"
   ]
  },
  {
   "cell_type": "code",
   "execution_count": null,
   "id": "c3a62653-3e45-4ab2-9e1b-82aa575cbda5",
   "metadata": {},
   "outputs": [],
   "source": [
    "\n",
    "task = generate_task(task_generator_id=\"pushing\",dense_reward_weights=np.array([2500, 2500, 0]),\n",
    "                      fractional_reward_weight=100)\n",
    "\n",
    "env = CausalWorld(task=task, skip_frame=5, observation_mode = \"pixel\", camera_indicies = [0, 2])\n",
    "\n",
    "env = GrayFrame(env)\n",
    "env = WarpFrame(env)\n",
    "env = FrameStack(env, k=3, single_goal_obs = True)\n",
    "\n",
    "\n"
   ]
  },
  {
   "cell_type": "code",
   "execution_count": null,
   "id": "34a951c3-fb77-4d13-9241-da2b3f4c3ae7",
   "metadata": {},
   "outputs": [],
   "source": [
    "print(envs.single_observation_space)"
   ]
  },
  {
   "cell_type": "markdown",
   "id": "b73d495c-d4fb-4766-917c-5f7646e7a016",
   "metadata": {
    "jp-MarkdownHeadingCollapsed": true,
    "tags": []
   },
   "source": [
    "## initialize the env"
   ]
  },
  {
   "cell_type": "code",
   "execution_count": null,
   "id": "9b1fedf0-0503-42b2-8a06-8b8b80f14e26",
   "metadata": {},
   "outputs": [],
   "source": [
    "obs = envs.reset()\n",
    "print(s.shape)\n",
    "print(envs.observation_space.dtype)\n"
   ]
  },
  {
   "cell_type": "code",
   "execution_count": null,
   "id": "74fb309c-d768-422b-beb6-03e36b630101",
   "metadata": {},
   "outputs": [],
   "source": [
    "plot_obs(obs, 1, True)"
   ]
  },
  {
   "cell_type": "markdown",
   "id": "7a1a4177-8cba-4df9-b911-b083043c7b61",
   "metadata": {
    "jp-MarkdownHeadingCollapsed": true,
    "tags": []
   },
   "source": [
    "## run random policy"
   ]
  },
  {
   "cell_type": "code",
   "execution_count": null,
   "id": "c69913b3-8773-4095-acbc-0f2bbcda8a6e",
   "metadata": {},
   "outputs": [],
   "source": [
    "for i in range(100):\n",
    "    a = envs.action_space.sample()\n",
    "    obs,_,_,_ = envs.step(a)"
   ]
  },
  {
   "cell_type": "code",
   "execution_count": null,
   "id": "16ff5100-cdb8-4d50-acbb-eca8bbf58a48",
   "metadata": {},
   "outputs": [],
   "source": [
    "print(a)"
   ]
  },
  {
   "cell_type": "code",
   "execution_count": null,
   "id": "2692c3d9-d018-47a7-af09-fb74fc201c7f",
   "metadata": {},
   "outputs": [],
   "source": [
    "plot_obs(obs, 1, True)"
   ]
  },
  {
   "cell_type": "code",
   "execution_count": null,
   "id": "bd7efc5f-dcb8-411e-9f93-f7c56cfb98f2",
   "metadata": {},
   "outputs": [],
   "source": [
    "s = s.reshape(6, 128, 128, 3)\n",
    "\n",
    "fig = plt.figure(figsize=(10, 7)) \n",
    "\n",
    "rows = 3\n",
    "columns = 3\n",
    "index = 1\n",
    "for i in range(18):\n",
    "    \n",
    "    if (i+1)%6 == 1 or (i+1)%6==2 or (i+1)%6==3:\n",
    "        fig.add_subplot(rows, columns, index)\n",
    "        plt.imshow(s[i])\n",
    "        index += 1"
   ]
  },
  {
   "cell_type": "markdown",
   "id": "39481065-db95-416a-9b06-24cb8e252b14",
   "metadata": {},
   "source": [
    "## VAE"
   ]
  },
  {
   "cell_type": "code",
   "execution_count": null,
   "id": "b7c12ac0-8151-4d6b-b932-87e27ae55985",
   "metadata": {},
   "outputs": [],
   "source": [
    "start = time.time()\n",
    "obs = envs.reset()\n",
    "print(f\"size of single observation: {getsizeof(obs)}\")\n",
    "\n",
    "rep_buffer = replayBuffer(envs.single_observation_space.dtype, envs.single_observation_space.shape, \n",
    "                          envs.single_action_space.dtype, envs.single_action_space.shape[0],\n",
    "                          capacity=100000, device='cpu')\n",
    "final_obs = []\n",
    "for i in tqdm(range(100000)):\n",
    "    a = np.array([envs.single_action_space.sample()])\n",
    "    next_obs, r, done,infos = envs.step(a)\n",
    "   \n",
    "    \n",
    "    #handle the terminal observation\n",
    "    real_next_obs = next_obs.copy()\n",
    "    for idx, d in enumerate(done):\n",
    "        if d:\n",
    "            real_next_obs[idx] = infos[\"final_observation\"][idx]\n",
    "            final_obs.append(real_next_obs)\n",
    "    \n",
    "    rep_buffer.store(obs, a,r, real_next_obs, done)\n",
    "            \n",
    "    obs = next_obs\n",
    "end = time.time()\n",
    "\n",
    "time_cost = end-start\n",
    "buffer_size = getsizeof(rep_buffer.obs_buffer) + getsizeof(rep_buffer.next_obs_buffer)\n",
    "print(f\"Runing time: {time_cost}\")\n",
    "print(f\"observation buffer size: {buffer_size/1024/1024}MB\")"
   ]
  },
  {
   "cell_type": "code",
   "execution_count": 14,
   "id": "13d8d179-e88d-487e-8763-096578d632fd",
   "metadata": {},
   "outputs": [
    {
     "name": "stdout",
     "output_type": "stream",
     "text": [
      "10000\n"
     ]
    }
   ],
   "source": [
    "obs = rep_buffer.obs_buffer\n",
    "#rep_buffer.shuffle()\n",
    "#new_obs = rep_buffer.obs_buffer\n",
    "train_obs = obs[0: 10000]\n",
    "#eval_obs = obs[9000: 95000]\n",
    "print(len(train_obs))"
   ]
  },
  {
   "cell_type": "code",
   "execution_count": 43,
   "id": "8f3ed3bb-2784-4c1e-a4da-377aaac2d72b",
   "metadata": {},
   "outputs": [],
   "source": [
    "class Encoder(nn.Module):\n",
    "    def __init__(self, input_channel, lattent_dim = 64):\n",
    "        super().__init__()\n",
    "\n",
    "        self.enCNN = nn.Sequential(\n",
    "            nn.Conv2d(input_channel, 32, kernel_size = 3, stride = 2),\n",
    "            nn.ReLU(),\n",
    "            nn.Conv2d(32, 32, kernel_size = 3, stride = 1),\n",
    "            nn.ReLU(),\n",
    "            nn.Conv2d(32, 32, kernel_size = 3, stride = 1),\n",
    "            nn.ReLU(),\n",
    "            nn.Conv2d(32, 32, kernel_size = 3, stride = 1),\n",
    "            nn.ReLU(),\n",
    "            nn.Conv2d(32, 64, kernel_size = 3, stride = 1),\n",
    "            nn.ReLU(),\n",
    "            nn.Conv2d(64, 64, kernel_size = 3, stride = 1),\n",
    "            nn.Flatten(),\n",
    "            nn.ReLU()\n",
    "        )\n",
    "\n",
    "        self.fc_mu = nn.Linear(64 * 53 * 53, lattent_dim)\n",
    "        self.fc_logvar = nn.Linear(64 * 53 * 53, lattent_dim)\n",
    "\n",
    "    def reparameterize(self, mu, logvar):\n",
    "        std = torch.exp(0.5 * logvar)\n",
    "        eps = torch.rand_like(std)\n",
    "        z = mu + std * eps\n",
    "        return z\n",
    "\n",
    "    def forward(self, x):\n",
    "        x = x/255.0\n",
    "        x = self.enCNN(x)\n",
    "        mu = self.fc_mu(x)\n",
    "        logvar = self.fc_logvar(x)\n",
    "        \n",
    "        z = self.reparameterize(mu, logvar)\n",
    "        return z, mu, logvar\n",
    "\n",
    "class Decoder(nn.Module):\n",
    "    def __init__(self, output_channel, lattent_dim):\n",
    "        super().__init__()\n",
    "\n",
    "        self.fc_input = nn.Linear(lattent_dim, 64 * 53 * 53)\n",
    "        self.deCNN = nn.Sequential(\n",
    "            nn.ConvTranspose2d(64, 64, kernel_size = 3, stride = 1),\n",
    "            nn.ReLU(),\n",
    "            nn.ConvTranspose2d(64, 32, kernel_size = 3, stride = 1),\n",
    "            nn.ReLU(),\n",
    "            nn.ConvTranspose2d(32, 32, kernel_size = 3, stride = 1),\n",
    "            nn.ReLU(),\n",
    "            nn.ConvTranspose2d(32, 32, kernel_size = 3, stride = 1),\n",
    "            nn.ReLU(),\n",
    "            nn.ConvTranspose2d(32, 32, kernel_size = 3, stride = 1),\n",
    "            nn.ReLU(),\n",
    "            nn.ConvTranspose2d(32, output_channel, 3, stride = 2, output_padding = 1)\n",
    "        )\n",
    "\n",
    "    def forward(self, z):\n",
    "        z = self.fc_input(z)\n",
    "        z = torch.relu(z)\n",
    "        z = z.view(-1, 64, 53, 53)\n",
    "        x = self.deCNN(z)\n",
    "        return x\n",
    "    \n",
    "def loss_VAE(x_hat, x, mu, logvar, beta):\n",
    "    \n",
    "    recon_loss = ((x - x_hat)**2).sum()\n",
    "    kl_loss = -0.5 * torch.sum(1 + logvar - mu**2 -  logvar.exp()).sum()\n",
    "    #print(\"kl_loss: \", kl_loss)\n",
    "    #print(\"recon_loss: \", recon_loss)\n",
    "    loss = recon_loss + (beta * kl_loss)\n",
    "    \n",
    "    return loss\n"
   ]
  },
  {
   "cell_type": "code",
   "execution_count": 46,
   "id": "6a91824c-4e7a-414e-81eb-2b2a5f3391e3",
   "metadata": {},
   "outputs": [],
   "source": [
    "class Encoder(nn.Module):\n",
    "    def __init__(self, input_channel, lattent_dim = 64):\n",
    "        super().__init__()\n",
    "\n",
    "        self.enCNN = nn.Sequential(\n",
    "            nn.Conv2d(input_channel, 32, 4, stride = 2),\n",
    "            nn.ReLU(),\n",
    "            nn.Conv2d(32, 64, 4, stride = 2),\n",
    "            nn.ReLU(),\n",
    "            nn.Conv2d(64, 128, 4, stride = 2),\n",
    "            nn.ReLU(),\n",
    "            nn.Conv2d(128, 256, 4, stride = 2),\n",
    "            nn.Flatten(),\n",
    "            nn.ReLU()\n",
    "        )\n",
    "\n",
    "        self.fc_mu = nn.Linear(256 * 6 * 6, lattent_dim)\n",
    "        self.fc_logvar = nn.Linear(256 * 6 * 6, lattent_dim)\n",
    "\n",
    "    def reparameterize(self, mu, logvar):\n",
    "        std = torch.exp(0.5 * logvar)\n",
    "        eps = torch.rand_like(std)\n",
    "        z = mu + std * eps\n",
    "        return z\n",
    "\n",
    "    def forward(self, x):\n",
    "        x = x/255.0\n",
    "        x = self.enCNN(x)\n",
    "        mu = self.fc_mu(x)\n",
    "        logvar = self.fc_logvar(x)\n",
    "        \n",
    "        z = self.reparameterize(mu, logvar)\n",
    "        return z, mu, logvar\n",
    "\n",
    "class Decoder(nn.Module):\n",
    "    def __init__(self, output_channel, lattent_dim):\n",
    "        super().__init__()\n",
    "\n",
    "        self.fc_input = nn.Linear(lattent_dim, 256 * 6 * 6)\n",
    "        self.deCNN = nn.Sequential(\n",
    "            nn.ConvTranspose2d(256, 128, 4, stride = 2),\n",
    "            nn.ReLU(),\n",
    "            nn.ConvTranspose2d(128, 64, 4, stride = 2),\n",
    "            nn.ReLU(),\n",
    "            nn.ConvTranspose2d(64, 32, 4, stride = 2),\n",
    "            nn.ReLU(),\n",
    "            nn.ConvTranspose2d(32, output_channel, 6, stride = 2),\n",
    "        )\n",
    "\n",
    "    def forward(self, z):\n",
    "        z = self.fc_input(z)\n",
    "        z = torch.relu(z)\n",
    "        z = z.view(-1, 256, 6, 6)\n",
    "        x = self.deCNN(z)\n",
    "        return x\n",
    "    \n",
    "\n",
    "def loss_VAE(x_hat, x, mu, logvar, beta):\n",
    "    \n",
    "    recon_loss = ((x - x_hat)**2).sum()\n",
    "    kl_loss = -0.5 * torch.sum(1 + logvar - mu**2 -  logvar.exp()).sum()\n",
    "    #print(\"kl_loss: \", kl_loss)\n",
    "    #print(\"recon_loss: \", recon_loss)\n",
    "    loss = recon_loss + (beta * kl_loss)\n",
    "    \n",
    "    return loss"
   ]
  },
  {
   "cell_type": "code",
   "execution_count": 49,
   "id": "a465bbd2-4be6-4dbd-b909-c3526c53fa5e",
   "metadata": {},
   "outputs": [],
   "source": [
    "def Pretrain_VAE(buffer, encoder, decoder, obs_layer, epoch = 100, batch_size = 64, beta = 1):\n",
    "    encoder_optimizer = optim.Adam(encoder.parameters(), lr = 0.0001)\n",
    "    decoder_optimizer = optim.Adam(decoder.parameters(), lr = 0.0001)\n",
    "    \n",
    "    for i in range(epoch):\n",
    "        print(\"Epoch: \", i + 1)\n",
    "        np.random.shuffle(train_obs)\n",
    "        for start in tqdm(range(0, len(train_obs), batch_size)):\n",
    "            end = start + batch_size\n",
    "\n",
    "            batch = train_obs[start:end]          #with shape batchsize x 84 x 84 x 3\n",
    "\n",
    "            # normalize the batch\n",
    "            batch = torch.FloatTensor(batch).to(device) /255\n",
    "          \n",
    "            batch = batch.view(-1,obs_layer, batch.shape[-2],batch.shape[-1])           #with shape batchsize x 3 x 84 x 84\n",
    "\n",
    "\n",
    "            z, mu, logvar = encoder(batch)\n",
    "            batch_hat = decoder(z)\n",
    "            \n",
    "            encoder_optimizer.zero_grad()\n",
    "            decoder_optimizer.zero_grad()\n",
    "            \n",
    "            loss = loss_VAE(batch_hat, batch, mu, logvar, beta)\n",
    "            loss.backward()\n",
    "            \n",
    "            encoder_optimizer.step()\n",
    "            decoder_optimizer.step()\n",
    "\n",
    "\n",
    "        print(\"Current loss is: \", loss.item())\n",
    "\n",
    "        "
   ]
  },
  {
   "cell_type": "code",
   "execution_count": 56,
   "id": "288e20f1-7127-4bec-b188-8e7deeb7ecfa",
   "metadata": {},
   "outputs": [
    {
     "name": "stdout",
     "output_type": "stream",
     "text": [
      "Epoch:  1\n"
     ]
    },
    {
     "name": "stderr",
     "output_type": "stream",
     "text": [
      "100%|██████████| 157/157 [00:03<00:00, 51.60it/s]\n"
     ]
    },
    {
     "name": "stdout",
     "output_type": "stream",
     "text": [
      "Current loss is:  15641.55859375\n",
      "Epoch:  2\n"
     ]
    },
    {
     "name": "stderr",
     "output_type": "stream",
     "text": [
      "100%|██████████| 157/157 [00:03<00:00, 50.17it/s]\n"
     ]
    },
    {
     "name": "stdout",
     "output_type": "stream",
     "text": [
      "Current loss is:  7508.33154296875\n",
      "Epoch:  3\n"
     ]
    },
    {
     "name": "stderr",
     "output_type": "stream",
     "text": [
      "100%|██████████| 157/157 [00:03<00:00, 51.17it/s]\n"
     ]
    },
    {
     "name": "stdout",
     "output_type": "stream",
     "text": [
      "Current loss is:  5378.06640625\n",
      "Epoch:  4\n"
     ]
    },
    {
     "name": "stderr",
     "output_type": "stream",
     "text": [
      "100%|██████████| 157/157 [00:03<00:00, 51.02it/s]\n"
     ]
    },
    {
     "name": "stdout",
     "output_type": "stream",
     "text": [
      "Current loss is:  4931.09326171875\n",
      "Epoch:  5\n"
     ]
    },
    {
     "name": "stderr",
     "output_type": "stream",
     "text": [
      "100%|██████████| 157/157 [00:03<00:00, 50.82it/s]\n"
     ]
    },
    {
     "name": "stdout",
     "output_type": "stream",
     "text": [
      "Current loss is:  3948.047607421875\n",
      "Epoch:  6\n"
     ]
    },
    {
     "name": "stderr",
     "output_type": "stream",
     "text": [
      "100%|██████████| 157/157 [00:03<00:00, 49.56it/s]\n"
     ]
    },
    {
     "name": "stdout",
     "output_type": "stream",
     "text": [
      "Current loss is:  3611.75\n",
      "Epoch:  7\n"
     ]
    },
    {
     "name": "stderr",
     "output_type": "stream",
     "text": [
      "100%|██████████| 157/157 [00:02<00:00, 52.79it/s]\n"
     ]
    },
    {
     "name": "stdout",
     "output_type": "stream",
     "text": [
      "Current loss is:  3245.8935546875\n",
      "Epoch:  8\n"
     ]
    },
    {
     "name": "stderr",
     "output_type": "stream",
     "text": [
      "100%|██████████| 157/157 [00:03<00:00, 51.92it/s]\n"
     ]
    },
    {
     "name": "stdout",
     "output_type": "stream",
     "text": [
      "Current loss is:  3148.604248046875\n",
      "Epoch:  9\n"
     ]
    },
    {
     "name": "stderr",
     "output_type": "stream",
     "text": [
      "100%|██████████| 157/157 [00:03<00:00, 50.09it/s]\n"
     ]
    },
    {
     "name": "stdout",
     "output_type": "stream",
     "text": [
      "Current loss is:  2464.563232421875\n",
      "Epoch:  10\n"
     ]
    },
    {
     "name": "stderr",
     "output_type": "stream",
     "text": [
      "100%|██████████| 157/157 [00:03<00:00, 51.72it/s]\n"
     ]
    },
    {
     "name": "stdout",
     "output_type": "stream",
     "text": [
      "Current loss is:  3029.72314453125\n",
      "Epoch:  11\n"
     ]
    },
    {
     "name": "stderr",
     "output_type": "stream",
     "text": [
      "100%|██████████| 157/157 [00:03<00:00, 51.48it/s]\n"
     ]
    },
    {
     "name": "stdout",
     "output_type": "stream",
     "text": [
      "Current loss is:  2503.5224609375\n",
      "Epoch:  12\n"
     ]
    },
    {
     "name": "stderr",
     "output_type": "stream",
     "text": [
      "100%|██████████| 157/157 [00:03<00:00, 52.18it/s]\n"
     ]
    },
    {
     "name": "stdout",
     "output_type": "stream",
     "text": [
      "Current loss is:  2617.327880859375\n",
      "Epoch:  13\n"
     ]
    },
    {
     "name": "stderr",
     "output_type": "stream",
     "text": [
      "100%|██████████| 157/157 [00:02<00:00, 53.50it/s]\n"
     ]
    },
    {
     "name": "stdout",
     "output_type": "stream",
     "text": [
      "Current loss is:  2474.44287109375\n",
      "Epoch:  14\n"
     ]
    },
    {
     "name": "stderr",
     "output_type": "stream",
     "text": [
      "100%|██████████| 157/157 [00:03<00:00, 48.60it/s]\n"
     ]
    },
    {
     "name": "stdout",
     "output_type": "stream",
     "text": [
      "Current loss is:  2722.46728515625\n",
      "Epoch:  15\n"
     ]
    },
    {
     "name": "stderr",
     "output_type": "stream",
     "text": [
      "100%|██████████| 157/157 [00:03<00:00, 49.43it/s]\n"
     ]
    },
    {
     "name": "stdout",
     "output_type": "stream",
     "text": [
      "Current loss is:  2607.946533203125\n",
      "Epoch:  16\n"
     ]
    },
    {
     "name": "stderr",
     "output_type": "stream",
     "text": [
      "100%|██████████| 157/157 [00:03<00:00, 49.68it/s]\n"
     ]
    },
    {
     "name": "stdout",
     "output_type": "stream",
     "text": [
      "Current loss is:  2338.32666015625\n",
      "Epoch:  17\n"
     ]
    },
    {
     "name": "stderr",
     "output_type": "stream",
     "text": [
      "100%|██████████| 157/157 [00:03<00:00, 50.42it/s]\n"
     ]
    },
    {
     "name": "stdout",
     "output_type": "stream",
     "text": [
      "Current loss is:  2503.13525390625\n",
      "Epoch:  18\n"
     ]
    },
    {
     "name": "stderr",
     "output_type": "stream",
     "text": [
      "100%|██████████| 157/157 [00:03<00:00, 51.46it/s]\n"
     ]
    },
    {
     "name": "stdout",
     "output_type": "stream",
     "text": [
      "Current loss is:  2007.28125\n",
      "Epoch:  19\n"
     ]
    },
    {
     "name": "stderr",
     "output_type": "stream",
     "text": [
      "100%|██████████| 157/157 [00:02<00:00, 52.83it/s]\n"
     ]
    },
    {
     "name": "stdout",
     "output_type": "stream",
     "text": [
      "Current loss is:  2421.650390625\n",
      "Epoch:  20\n"
     ]
    },
    {
     "name": "stderr",
     "output_type": "stream",
     "text": [
      "100%|██████████| 157/157 [00:03<00:00, 50.72it/s]\n"
     ]
    },
    {
     "name": "stdout",
     "output_type": "stream",
     "text": [
      "Current loss is:  2358.517822265625\n",
      "Epoch:  21\n"
     ]
    },
    {
     "name": "stderr",
     "output_type": "stream",
     "text": [
      "100%|██████████| 157/157 [00:03<00:00, 52.00it/s]\n"
     ]
    },
    {
     "name": "stdout",
     "output_type": "stream",
     "text": [
      "Current loss is:  2054.273193359375\n",
      "Epoch:  22\n"
     ]
    },
    {
     "name": "stderr",
     "output_type": "stream",
     "text": [
      "100%|██████████| 157/157 [00:02<00:00, 54.82it/s]\n"
     ]
    },
    {
     "name": "stdout",
     "output_type": "stream",
     "text": [
      "Current loss is:  1991.3929443359375\n",
      "Epoch:  23\n"
     ]
    },
    {
     "name": "stderr",
     "output_type": "stream",
     "text": [
      "100%|██████████| 157/157 [00:03<00:00, 51.98it/s]\n"
     ]
    },
    {
     "name": "stdout",
     "output_type": "stream",
     "text": [
      "Current loss is:  1978.8619384765625\n",
      "Epoch:  24\n"
     ]
    },
    {
     "name": "stderr",
     "output_type": "stream",
     "text": [
      "100%|██████████| 157/157 [00:03<00:00, 52.09it/s]\n"
     ]
    },
    {
     "name": "stdout",
     "output_type": "stream",
     "text": [
      "Current loss is:  1994.466796875\n",
      "Epoch:  25\n"
     ]
    },
    {
     "name": "stderr",
     "output_type": "stream",
     "text": [
      "100%|██████████| 157/157 [00:03<00:00, 49.58it/s]\n"
     ]
    },
    {
     "name": "stdout",
     "output_type": "stream",
     "text": [
      "Current loss is:  2084.68798828125\n",
      "Epoch:  26\n"
     ]
    },
    {
     "name": "stderr",
     "output_type": "stream",
     "text": [
      "100%|██████████| 157/157 [00:03<00:00, 51.56it/s]\n"
     ]
    },
    {
     "name": "stdout",
     "output_type": "stream",
     "text": [
      "Current loss is:  2440.98291015625\n",
      "Epoch:  27\n"
     ]
    },
    {
     "name": "stderr",
     "output_type": "stream",
     "text": [
      "100%|██████████| 157/157 [00:03<00:00, 49.53it/s]\n"
     ]
    },
    {
     "name": "stdout",
     "output_type": "stream",
     "text": [
      "Current loss is:  2023.0643310546875\n",
      "Epoch:  28\n"
     ]
    },
    {
     "name": "stderr",
     "output_type": "stream",
     "text": [
      "100%|██████████| 157/157 [00:03<00:00, 50.05it/s]\n"
     ]
    },
    {
     "name": "stdout",
     "output_type": "stream",
     "text": [
      "Current loss is:  2344.148681640625\n",
      "Epoch:  29\n"
     ]
    },
    {
     "name": "stderr",
     "output_type": "stream",
     "text": [
      "100%|██████████| 157/157 [00:03<00:00, 52.15it/s]\n"
     ]
    },
    {
     "name": "stdout",
     "output_type": "stream",
     "text": [
      "Current loss is:  2004.0362548828125\n",
      "Epoch:  30\n"
     ]
    },
    {
     "name": "stderr",
     "output_type": "stream",
     "text": [
      "100%|██████████| 157/157 [00:03<00:00, 51.52it/s]\n"
     ]
    },
    {
     "name": "stdout",
     "output_type": "stream",
     "text": [
      "Current loss is:  1886.1597900390625\n",
      "Epoch:  31\n"
     ]
    },
    {
     "name": "stderr",
     "output_type": "stream",
     "text": [
      "100%|██████████| 157/157 [00:03<00:00, 51.23it/s]\n"
     ]
    },
    {
     "name": "stdout",
     "output_type": "stream",
     "text": [
      "Current loss is:  1770.9593505859375\n",
      "Epoch:  32\n"
     ]
    },
    {
     "name": "stderr",
     "output_type": "stream",
     "text": [
      "100%|██████████| 157/157 [00:03<00:00, 50.77it/s]\n"
     ]
    },
    {
     "name": "stdout",
     "output_type": "stream",
     "text": [
      "Current loss is:  1819.3311767578125\n",
      "Epoch:  33\n"
     ]
    },
    {
     "name": "stderr",
     "output_type": "stream",
     "text": [
      "100%|██████████| 157/157 [00:03<00:00, 51.13it/s]\n"
     ]
    },
    {
     "name": "stdout",
     "output_type": "stream",
     "text": [
      "Current loss is:  1764.3333740234375\n",
      "Epoch:  34\n"
     ]
    },
    {
     "name": "stderr",
     "output_type": "stream",
     "text": [
      "100%|██████████| 157/157 [00:03<00:00, 51.76it/s]\n"
     ]
    },
    {
     "name": "stdout",
     "output_type": "stream",
     "text": [
      "Current loss is:  1968.1104736328125\n",
      "Epoch:  35\n"
     ]
    },
    {
     "name": "stderr",
     "output_type": "stream",
     "text": [
      "100%|██████████| 157/157 [00:03<00:00, 51.72it/s]\n"
     ]
    },
    {
     "name": "stdout",
     "output_type": "stream",
     "text": [
      "Current loss is:  2055.676025390625\n",
      "Epoch:  36\n"
     ]
    },
    {
     "name": "stderr",
     "output_type": "stream",
     "text": [
      "100%|██████████| 157/157 [00:03<00:00, 50.95it/s]\n"
     ]
    },
    {
     "name": "stdout",
     "output_type": "stream",
     "text": [
      "Current loss is:  2260.658935546875\n",
      "Epoch:  37\n"
     ]
    },
    {
     "name": "stderr",
     "output_type": "stream",
     "text": [
      "100%|██████████| 157/157 [00:03<00:00, 52.26it/s]\n"
     ]
    },
    {
     "name": "stdout",
     "output_type": "stream",
     "text": [
      "Current loss is:  2084.462890625\n",
      "Epoch:  38\n"
     ]
    },
    {
     "name": "stderr",
     "output_type": "stream",
     "text": [
      "100%|██████████| 157/157 [00:03<00:00, 49.66it/s]\n"
     ]
    },
    {
     "name": "stdout",
     "output_type": "stream",
     "text": [
      "Current loss is:  1876.437255859375\n",
      "Epoch:  39\n"
     ]
    },
    {
     "name": "stderr",
     "output_type": "stream",
     "text": [
      "100%|██████████| 157/157 [00:02<00:00, 54.36it/s]\n"
     ]
    },
    {
     "name": "stdout",
     "output_type": "stream",
     "text": [
      "Current loss is:  1600.685302734375\n",
      "Epoch:  40\n"
     ]
    },
    {
     "name": "stderr",
     "output_type": "stream",
     "text": [
      "100%|██████████| 157/157 [00:03<00:00, 51.40it/s]\n"
     ]
    },
    {
     "name": "stdout",
     "output_type": "stream",
     "text": [
      "Current loss is:  1781.4693603515625\n",
      "Epoch:  41\n"
     ]
    },
    {
     "name": "stderr",
     "output_type": "stream",
     "text": [
      "100%|██████████| 157/157 [00:03<00:00, 50.95it/s]\n"
     ]
    },
    {
     "name": "stdout",
     "output_type": "stream",
     "text": [
      "Current loss is:  2113.409912109375\n",
      "Epoch:  42\n"
     ]
    },
    {
     "name": "stderr",
     "output_type": "stream",
     "text": [
      "100%|██████████| 157/157 [00:03<00:00, 49.47it/s]\n"
     ]
    },
    {
     "name": "stdout",
     "output_type": "stream",
     "text": [
      "Current loss is:  1537.925048828125\n",
      "Epoch:  43\n"
     ]
    },
    {
     "name": "stderr",
     "output_type": "stream",
     "text": [
      "100%|██████████| 157/157 [00:03<00:00, 51.92it/s]\n"
     ]
    },
    {
     "name": "stdout",
     "output_type": "stream",
     "text": [
      "Current loss is:  1864.75048828125\n",
      "Epoch:  44\n"
     ]
    },
    {
     "name": "stderr",
     "output_type": "stream",
     "text": [
      "100%|██████████| 157/157 [00:03<00:00, 47.91it/s]\n"
     ]
    },
    {
     "name": "stdout",
     "output_type": "stream",
     "text": [
      "Current loss is:  1706.4810791015625\n",
      "Epoch:  45\n"
     ]
    },
    {
     "name": "stderr",
     "output_type": "stream",
     "text": [
      "100%|██████████| 157/157 [00:03<00:00, 50.21it/s]\n"
     ]
    },
    {
     "name": "stdout",
     "output_type": "stream",
     "text": [
      "Current loss is:  1680.865478515625\n",
      "Epoch:  46\n"
     ]
    },
    {
     "name": "stderr",
     "output_type": "stream",
     "text": [
      "100%|██████████| 157/157 [00:03<00:00, 49.08it/s]\n"
     ]
    },
    {
     "name": "stdout",
     "output_type": "stream",
     "text": [
      "Current loss is:  1636.4044189453125\n",
      "Epoch:  47\n"
     ]
    },
    {
     "name": "stderr",
     "output_type": "stream",
     "text": [
      "100%|██████████| 157/157 [00:02<00:00, 53.02it/s]\n"
     ]
    },
    {
     "name": "stdout",
     "output_type": "stream",
     "text": [
      "Current loss is:  1936.286376953125\n",
      "Epoch:  48\n"
     ]
    },
    {
     "name": "stderr",
     "output_type": "stream",
     "text": [
      " 85%|████████▍ | 133/157 [00:02<00:00, 50.56it/s]\n"
     ]
    },
    {
     "ename": "KeyboardInterrupt",
     "evalue": "",
     "output_type": "error",
     "traceback": [
      "\u001b[0;31m---------------------------------------------------------------------------\u001b[0m",
      "\u001b[0;31mKeyboardInterrupt\u001b[0m                         Traceback (most recent call last)",
      "Cell \u001b[0;32mIn [56], line 9\u001b[0m\n\u001b[1;32m      6\u001b[0m encoder \u001b[38;5;241m=\u001b[39m Encoder(obs_channel,lattent_dim)\u001b[38;5;241m.\u001b[39mto(device)\n\u001b[1;32m      7\u001b[0m decoder \u001b[38;5;241m=\u001b[39m Decoder(obs_channel, lattent_dim)\u001b[38;5;241m.\u001b[39mto(device)\n\u001b[0;32m----> 9\u001b[0m \u001b[43mPretrain_VAE\u001b[49m\u001b[43m(\u001b[49m\u001b[43mtrain_obs\u001b[49m\u001b[43m,\u001b[49m\u001b[43m \u001b[49m\u001b[43mencoder\u001b[49m\u001b[43m,\u001b[49m\u001b[43m \u001b[49m\u001b[43mdecoder\u001b[49m\u001b[43m,\u001b[49m\u001b[43m \u001b[49m\u001b[43mobs_channel\u001b[49m\u001b[43m,\u001b[49m\u001b[43m \u001b[49m\u001b[43mbeta\u001b[49m\u001b[38;5;241;43m=\u001b[39;49m\u001b[43mbeta\u001b[49m\u001b[43m)\u001b[49m\n",
      "Cell \u001b[0;32mIn [49], line 22\u001b[0m, in \u001b[0;36mPretrain_VAE\u001b[0;34m(buffer, encoder, decoder, obs_layer, epoch, batch_size, beta)\u001b[0m\n\u001b[1;32m     19\u001b[0m z, mu, logvar \u001b[38;5;241m=\u001b[39m encoder(batch)\n\u001b[1;32m     20\u001b[0m batch_hat \u001b[38;5;241m=\u001b[39m decoder(z)\n\u001b[0;32m---> 22\u001b[0m \u001b[43mencoder_optimizer\u001b[49m\u001b[38;5;241;43m.\u001b[39;49m\u001b[43mzero_grad\u001b[49m\u001b[43m(\u001b[49m\u001b[43m)\u001b[49m\n\u001b[1;32m     23\u001b[0m decoder_optimizer\u001b[38;5;241m.\u001b[39mzero_grad()\n\u001b[1;32m     25\u001b[0m loss \u001b[38;5;241m=\u001b[39m loss_VAE(batch_hat, batch, mu, logvar, beta)\n",
      "File \u001b[0;32m/apps/Arch/software/PyTorch/1.13.1-foss-2022a-CUDA-11.7.0/lib/python3.10/site-packages/torch/optim/optimizer.py:277\u001b[0m, in \u001b[0;36mOptimizer.zero_grad\u001b[0;34m(self, set_to_none)\u001b[0m\n\u001b[1;32m    275\u001b[0m     p\u001b[38;5;241m.\u001b[39mgrad\u001b[38;5;241m.\u001b[39mdetach_()\n\u001b[1;32m    276\u001b[0m \u001b[38;5;28;01melse\u001b[39;00m:\n\u001b[0;32m--> 277\u001b[0m     \u001b[43mp\u001b[49m\u001b[38;5;241;43m.\u001b[39;49m\u001b[43mgrad\u001b[49m\u001b[38;5;241;43m.\u001b[39;49m\u001b[43mrequires_grad_\u001b[49m\u001b[43m(\u001b[49m\u001b[38;5;28;43;01mFalse\u001b[39;49;00m\u001b[43m)\u001b[49m\n\u001b[1;32m    278\u001b[0m \u001b[38;5;28;01mif\u001b[39;00m (\u001b[38;5;129;01mnot\u001b[39;00m foreach \u001b[38;5;129;01mor\u001b[39;00m p\u001b[38;5;241m.\u001b[39mgrad\u001b[38;5;241m.\u001b[39mis_sparse):\n\u001b[1;32m    279\u001b[0m     p\u001b[38;5;241m.\u001b[39mgrad\u001b[38;5;241m.\u001b[39mzero_()\n",
      "\u001b[0;31mKeyboardInterrupt\u001b[0m: "
     ]
    }
   ],
   "source": [
    "obs_channel = 4\n",
    "lattent_dim = 100\n",
    "beta = 1\n",
    "device = torch.device('cuda' if torch.cuda.is_available() else 'cpu')\n",
    "\n",
    "encoder = Encoder(obs_channel,lattent_dim).to(device)\n",
    "decoder = Decoder(obs_channel, lattent_dim).to(device)\n",
    "\n",
    "Pretrain_VAE(train_obs, encoder, decoder, obs_channel, beta=beta)"
   ]
  },
  {
   "cell_type": "code",
   "execution_count": 51,
   "id": "ded9497c-bb27-4a79-8228-8e2e59df4178",
   "metadata": {},
   "outputs": [
    {
     "name": "stdout",
     "output_type": "stream",
     "text": [
      "Epoch:  1\n"
     ]
    },
    {
     "name": "stderr",
     "output_type": "stream",
     "text": [
      "100%|██████████| 157/157 [00:03<00:00, 47.39it/s]\n"
     ]
    },
    {
     "name": "stdout",
     "output_type": "stream",
     "text": [
      "Current loss is:  1887.8599853515625\n",
      "Epoch:  2\n"
     ]
    },
    {
     "name": "stderr",
     "output_type": "stream",
     "text": [
      "100%|██████████| 157/157 [00:03<00:00, 47.89it/s]\n"
     ]
    },
    {
     "name": "stdout",
     "output_type": "stream",
     "text": [
      "Current loss is:  2086.5224609375\n",
      "Epoch:  3\n"
     ]
    },
    {
     "name": "stderr",
     "output_type": "stream",
     "text": [
      "100%|██████████| 157/157 [00:03<00:00, 48.95it/s]\n"
     ]
    },
    {
     "name": "stdout",
     "output_type": "stream",
     "text": [
      "Current loss is:  1580.8465576171875\n",
      "Epoch:  4\n"
     ]
    },
    {
     "name": "stderr",
     "output_type": "stream",
     "text": [
      "100%|██████████| 157/157 [00:02<00:00, 57.36it/s]\n"
     ]
    },
    {
     "name": "stdout",
     "output_type": "stream",
     "text": [
      "Current loss is:  1894.0328369140625\n",
      "Epoch:  5\n"
     ]
    },
    {
     "name": "stderr",
     "output_type": "stream",
     "text": [
      "100%|██████████| 157/157 [00:02<00:00, 60.96it/s]\n"
     ]
    },
    {
     "name": "stdout",
     "output_type": "stream",
     "text": [
      "Current loss is:  1802.6956787109375\n",
      "Epoch:  6\n"
     ]
    },
    {
     "name": "stderr",
     "output_type": "stream",
     "text": [
      "100%|██████████| 157/157 [00:02<00:00, 56.79it/s]\n"
     ]
    },
    {
     "name": "stdout",
     "output_type": "stream",
     "text": [
      "Current loss is:  2141.119873046875\n",
      "Epoch:  7\n"
     ]
    },
    {
     "name": "stderr",
     "output_type": "stream",
     "text": [
      "100%|██████████| 157/157 [00:02<00:00, 58.74it/s]\n"
     ]
    },
    {
     "name": "stdout",
     "output_type": "stream",
     "text": [
      "Current loss is:  1716.461669921875\n",
      "Epoch:  8\n"
     ]
    },
    {
     "name": "stderr",
     "output_type": "stream",
     "text": [
      "100%|██████████| 157/157 [00:02<00:00, 58.36it/s]\n"
     ]
    },
    {
     "name": "stdout",
     "output_type": "stream",
     "text": [
      "Current loss is:  1286.9478759765625\n",
      "Epoch:  9\n"
     ]
    },
    {
     "name": "stderr",
     "output_type": "stream",
     "text": [
      "100%|██████████| 157/157 [00:02<00:00, 56.58it/s]\n"
     ]
    },
    {
     "name": "stdout",
     "output_type": "stream",
     "text": [
      "Current loss is:  1107.30810546875\n",
      "Epoch:  10\n"
     ]
    },
    {
     "name": "stderr",
     "output_type": "stream",
     "text": [
      "100%|██████████| 157/157 [00:02<00:00, 57.82it/s]\n"
     ]
    },
    {
     "name": "stdout",
     "output_type": "stream",
     "text": [
      "Current loss is:  1074.7110595703125\n",
      "Epoch:  11\n"
     ]
    },
    {
     "name": "stderr",
     "output_type": "stream",
     "text": [
      "100%|██████████| 157/157 [00:02<00:00, 58.82it/s]\n"
     ]
    },
    {
     "name": "stdout",
     "output_type": "stream",
     "text": [
      "Current loss is:  1007.6470336914062\n",
      "Epoch:  12\n"
     ]
    },
    {
     "name": "stderr",
     "output_type": "stream",
     "text": [
      "100%|██████████| 157/157 [00:02<00:00, 59.06it/s]\n"
     ]
    },
    {
     "name": "stdout",
     "output_type": "stream",
     "text": [
      "Current loss is:  1053.852783203125\n",
      "Epoch:  13\n"
     ]
    },
    {
     "name": "stderr",
     "output_type": "stream",
     "text": [
      "100%|██████████| 157/157 [00:02<00:00, 58.38it/s]\n"
     ]
    },
    {
     "name": "stdout",
     "output_type": "stream",
     "text": [
      "Current loss is:  1043.308349609375\n",
      "Epoch:  14\n"
     ]
    },
    {
     "name": "stderr",
     "output_type": "stream",
     "text": [
      "100%|██████████| 157/157 [00:02<00:00, 56.70it/s]\n"
     ]
    },
    {
     "name": "stdout",
     "output_type": "stream",
     "text": [
      "Current loss is:  1004.026611328125\n",
      "Epoch:  15\n"
     ]
    },
    {
     "name": "stderr",
     "output_type": "stream",
     "text": [
      "100%|██████████| 157/157 [00:02<00:00, 58.96it/s]\n"
     ]
    },
    {
     "name": "stdout",
     "output_type": "stream",
     "text": [
      "Current loss is:  991.505859375\n",
      "Epoch:  16\n"
     ]
    },
    {
     "name": "stderr",
     "output_type": "stream",
     "text": [
      "100%|██████████| 157/157 [00:02<00:00, 58.91it/s]\n"
     ]
    },
    {
     "name": "stdout",
     "output_type": "stream",
     "text": [
      "Current loss is:  966.0142211914062\n",
      "Epoch:  17\n"
     ]
    },
    {
     "name": "stderr",
     "output_type": "stream",
     "text": [
      "100%|██████████| 157/157 [00:02<00:00, 56.89it/s]\n"
     ]
    },
    {
     "name": "stdout",
     "output_type": "stream",
     "text": [
      "Current loss is:  947.21875\n",
      "Epoch:  18\n"
     ]
    },
    {
     "name": "stderr",
     "output_type": "stream",
     "text": [
      "100%|██████████| 157/157 [00:02<00:00, 58.53it/s]\n"
     ]
    },
    {
     "name": "stdout",
     "output_type": "stream",
     "text": [
      "Current loss is:  961.2588500976562\n",
      "Epoch:  19\n"
     ]
    },
    {
     "name": "stderr",
     "output_type": "stream",
     "text": [
      "100%|██████████| 157/157 [00:02<00:00, 59.42it/s]\n"
     ]
    },
    {
     "name": "stdout",
     "output_type": "stream",
     "text": [
      "Current loss is:  1002.5028076171875\n",
      "Epoch:  20\n"
     ]
    },
    {
     "name": "stderr",
     "output_type": "stream",
     "text": [
      "100%|██████████| 157/157 [00:02<00:00, 56.74it/s]\n"
     ]
    },
    {
     "name": "stdout",
     "output_type": "stream",
     "text": [
      "Current loss is:  889.9595947265625\n",
      "Epoch:  21\n"
     ]
    },
    {
     "name": "stderr",
     "output_type": "stream",
     "text": [
      "100%|██████████| 157/157 [00:02<00:00, 59.78it/s]\n"
     ]
    },
    {
     "name": "stdout",
     "output_type": "stream",
     "text": [
      "Current loss is:  888.7135620117188\n",
      "Epoch:  22\n"
     ]
    },
    {
     "name": "stderr",
     "output_type": "stream",
     "text": [
      "100%|██████████| 157/157 [00:02<00:00, 68.49it/s]\n"
     ]
    },
    {
     "name": "stdout",
     "output_type": "stream",
     "text": [
      "Current loss is:  971.950927734375\n",
      "Epoch:  23\n"
     ]
    },
    {
     "name": "stderr",
     "output_type": "stream",
     "text": [
      "100%|██████████| 157/157 [00:01<00:00, 96.20it/s]\n"
     ]
    },
    {
     "name": "stdout",
     "output_type": "stream",
     "text": [
      "Current loss is:  855.4970092773438\n",
      "Epoch:  24\n"
     ]
    },
    {
     "name": "stderr",
     "output_type": "stream",
     "text": [
      "100%|██████████| 157/157 [00:01<00:00, 96.09it/s]\n"
     ]
    },
    {
     "name": "stdout",
     "output_type": "stream",
     "text": [
      "Current loss is:  848.3370361328125\n",
      "Epoch:  25\n"
     ]
    },
    {
     "name": "stderr",
     "output_type": "stream",
     "text": [
      "100%|██████████| 157/157 [00:01<00:00, 90.41it/s]\n"
     ]
    },
    {
     "name": "stdout",
     "output_type": "stream",
     "text": [
      "Current loss is:  816.1134033203125\n",
      "Epoch:  26\n"
     ]
    },
    {
     "name": "stderr",
     "output_type": "stream",
     "text": [
      "100%|██████████| 157/157 [00:01<00:00, 95.98it/s]\n"
     ]
    },
    {
     "name": "stdout",
     "output_type": "stream",
     "text": [
      "Current loss is:  839.0787963867188\n",
      "Epoch:  27\n"
     ]
    },
    {
     "name": "stderr",
     "output_type": "stream",
     "text": [
      "100%|██████████| 157/157 [00:01<00:00, 95.18it/s]\n"
     ]
    },
    {
     "name": "stdout",
     "output_type": "stream",
     "text": [
      "Current loss is:  856.0355224609375\n",
      "Epoch:  28\n"
     ]
    },
    {
     "name": "stderr",
     "output_type": "stream",
     "text": [
      "100%|██████████| 157/157 [00:01<00:00, 90.67it/s]\n"
     ]
    },
    {
     "name": "stdout",
     "output_type": "stream",
     "text": [
      "Current loss is:  899.1029052734375\n",
      "Epoch:  29\n"
     ]
    },
    {
     "name": "stderr",
     "output_type": "stream",
     "text": [
      "100%|██████████| 157/157 [00:01<00:00, 93.66it/s]\n"
     ]
    },
    {
     "name": "stdout",
     "output_type": "stream",
     "text": [
      "Current loss is:  900.0741577148438\n",
      "Epoch:  30\n"
     ]
    },
    {
     "name": "stderr",
     "output_type": "stream",
     "text": [
      "100%|██████████| 157/157 [00:01<00:00, 92.17it/s]\n"
     ]
    },
    {
     "name": "stdout",
     "output_type": "stream",
     "text": [
      "Current loss is:  887.4459228515625\n",
      "Epoch:  31\n"
     ]
    },
    {
     "name": "stderr",
     "output_type": "stream",
     "text": [
      "100%|██████████| 157/157 [00:01<00:00, 96.01it/s]\n"
     ]
    },
    {
     "name": "stdout",
     "output_type": "stream",
     "text": [
      "Current loss is:  842.2373046875\n",
      "Epoch:  32\n"
     ]
    },
    {
     "name": "stderr",
     "output_type": "stream",
     "text": [
      "100%|██████████| 157/157 [00:01<00:00, 98.06it/s]\n"
     ]
    },
    {
     "name": "stdout",
     "output_type": "stream",
     "text": [
      "Current loss is:  731.5630493164062\n",
      "Epoch:  33\n"
     ]
    },
    {
     "name": "stderr",
     "output_type": "stream",
     "text": [
      "100%|██████████| 157/157 [00:01<00:00, 97.48it/s] \n"
     ]
    },
    {
     "name": "stdout",
     "output_type": "stream",
     "text": [
      "Current loss is:  848.4541015625\n",
      "Epoch:  34\n"
     ]
    },
    {
     "name": "stderr",
     "output_type": "stream",
     "text": [
      "100%|██████████| 157/157 [00:01<00:00, 96.35it/s] \n"
     ]
    },
    {
     "name": "stdout",
     "output_type": "stream",
     "text": [
      "Current loss is:  704.732177734375\n",
      "Epoch:  35\n"
     ]
    },
    {
     "name": "stderr",
     "output_type": "stream",
     "text": [
      "100%|██████████| 157/157 [00:01<00:00, 99.01it/s] \n"
     ]
    },
    {
     "name": "stdout",
     "output_type": "stream",
     "text": [
      "Current loss is:  744.1953125\n",
      "Epoch:  36\n"
     ]
    },
    {
     "name": "stderr",
     "output_type": "stream",
     "text": [
      "100%|██████████| 157/157 [00:01<00:00, 96.97it/s]\n"
     ]
    },
    {
     "name": "stdout",
     "output_type": "stream",
     "text": [
      "Current loss is:  732.7301635742188\n",
      "Epoch:  37\n"
     ]
    },
    {
     "name": "stderr",
     "output_type": "stream",
     "text": [
      "100%|██████████| 157/157 [00:01<00:00, 96.04it/s]\n"
     ]
    },
    {
     "name": "stdout",
     "output_type": "stream",
     "text": [
      "Current loss is:  825.6981201171875\n",
      "Epoch:  38\n"
     ]
    },
    {
     "name": "stderr",
     "output_type": "stream",
     "text": [
      "100%|██████████| 157/157 [00:01<00:00, 98.00it/s]\n"
     ]
    },
    {
     "name": "stdout",
     "output_type": "stream",
     "text": [
      "Current loss is:  817.851806640625\n",
      "Epoch:  39\n"
     ]
    },
    {
     "name": "stderr",
     "output_type": "stream",
     "text": [
      "100%|██████████| 157/157 [00:01<00:00, 99.08it/s] \n"
     ]
    },
    {
     "name": "stdout",
     "output_type": "stream",
     "text": [
      "Current loss is:  840.62451171875\n",
      "Epoch:  40\n"
     ]
    },
    {
     "name": "stderr",
     "output_type": "stream",
     "text": [
      "100%|██████████| 157/157 [00:01<00:00, 98.38it/s] \n"
     ]
    },
    {
     "name": "stdout",
     "output_type": "stream",
     "text": [
      "Current loss is:  840.4710693359375\n",
      "Epoch:  41\n"
     ]
    },
    {
     "name": "stderr",
     "output_type": "stream",
     "text": [
      "100%|██████████| 157/157 [00:01<00:00, 96.60it/s]\n"
     ]
    },
    {
     "name": "stdout",
     "output_type": "stream",
     "text": [
      "Current loss is:  798.8173828125\n",
      "Epoch:  42\n"
     ]
    },
    {
     "name": "stderr",
     "output_type": "stream",
     "text": [
      "100%|██████████| 157/157 [00:01<00:00, 96.54it/s]\n"
     ]
    },
    {
     "name": "stdout",
     "output_type": "stream",
     "text": [
      "Current loss is:  739.4198608398438\n",
      "Epoch:  43\n"
     ]
    },
    {
     "name": "stderr",
     "output_type": "stream",
     "text": [
      "100%|██████████| 157/157 [00:01<00:00, 99.74it/s] \n"
     ]
    },
    {
     "name": "stdout",
     "output_type": "stream",
     "text": [
      "Current loss is:  788.42529296875\n",
      "Epoch:  44\n"
     ]
    },
    {
     "name": "stderr",
     "output_type": "stream",
     "text": [
      "100%|██████████| 157/157 [00:01<00:00, 96.35it/s]\n"
     ]
    },
    {
     "name": "stdout",
     "output_type": "stream",
     "text": [
      "Current loss is:  748.5098876953125\n",
      "Epoch:  45\n"
     ]
    },
    {
     "name": "stderr",
     "output_type": "stream",
     "text": [
      "100%|██████████| 157/157 [00:01<00:00, 94.37it/s]\n"
     ]
    },
    {
     "name": "stdout",
     "output_type": "stream",
     "text": [
      "Current loss is:  769.8206176757812\n",
      "Epoch:  46\n"
     ]
    },
    {
     "name": "stderr",
     "output_type": "stream",
     "text": [
      "100%|██████████| 157/157 [00:01<00:00, 95.71it/s]\n"
     ]
    },
    {
     "name": "stdout",
     "output_type": "stream",
     "text": [
      "Current loss is:  767.2572021484375\n",
      "Epoch:  47\n"
     ]
    },
    {
     "name": "stderr",
     "output_type": "stream",
     "text": [
      "100%|██████████| 157/157 [00:01<00:00, 93.27it/s]\n"
     ]
    },
    {
     "name": "stdout",
     "output_type": "stream",
     "text": [
      "Current loss is:  741.877197265625\n",
      "Epoch:  48\n"
     ]
    },
    {
     "name": "stderr",
     "output_type": "stream",
     "text": [
      "100%|██████████| 157/157 [00:01<00:00, 96.87it/s]\n"
     ]
    },
    {
     "name": "stdout",
     "output_type": "stream",
     "text": [
      "Current loss is:  696.8267822265625\n",
      "Epoch:  49\n"
     ]
    },
    {
     "name": "stderr",
     "output_type": "stream",
     "text": [
      "100%|██████████| 157/157 [00:01<00:00, 96.31it/s]\n"
     ]
    },
    {
     "name": "stdout",
     "output_type": "stream",
     "text": [
      "Current loss is:  725.2646484375\n",
      "Epoch:  50\n"
     ]
    },
    {
     "name": "stderr",
     "output_type": "stream",
     "text": [
      "100%|██████████| 157/157 [00:01<00:00, 96.70it/s]\n"
     ]
    },
    {
     "name": "stdout",
     "output_type": "stream",
     "text": [
      "Current loss is:  707.8544921875\n",
      "Epoch:  51\n"
     ]
    },
    {
     "name": "stderr",
     "output_type": "stream",
     "text": [
      "100%|██████████| 157/157 [00:01<00:00, 95.11it/s]\n"
     ]
    },
    {
     "name": "stdout",
     "output_type": "stream",
     "text": [
      "Current loss is:  723.8956298828125\n",
      "Epoch:  52\n"
     ]
    },
    {
     "name": "stderr",
     "output_type": "stream",
     "text": [
      "100%|██████████| 157/157 [00:01<00:00, 98.87it/s] \n"
     ]
    },
    {
     "name": "stdout",
     "output_type": "stream",
     "text": [
      "Current loss is:  697.508056640625\n",
      "Epoch:  53\n"
     ]
    },
    {
     "name": "stderr",
     "output_type": "stream",
     "text": [
      "100%|██████████| 157/157 [00:01<00:00, 99.29it/s] \n"
     ]
    },
    {
     "name": "stdout",
     "output_type": "stream",
     "text": [
      "Current loss is:  729.276611328125\n",
      "Epoch:  54\n"
     ]
    },
    {
     "name": "stderr",
     "output_type": "stream",
     "text": [
      "100%|██████████| 157/157 [00:01<00:00, 96.82it/s]\n"
     ]
    },
    {
     "name": "stdout",
     "output_type": "stream",
     "text": [
      "Current loss is:  688.5809326171875\n",
      "Epoch:  55\n"
     ]
    },
    {
     "name": "stderr",
     "output_type": "stream",
     "text": [
      "100%|██████████| 157/157 [00:01<00:00, 96.09it/s]\n"
     ]
    },
    {
     "name": "stdout",
     "output_type": "stream",
     "text": [
      "Current loss is:  798.56396484375\n",
      "Epoch:  56\n"
     ]
    },
    {
     "name": "stderr",
     "output_type": "stream",
     "text": [
      "100%|██████████| 157/157 [00:01<00:00, 94.30it/s]\n"
     ]
    },
    {
     "name": "stdout",
     "output_type": "stream",
     "text": [
      "Current loss is:  715.9679565429688\n",
      "Epoch:  57\n"
     ]
    },
    {
     "name": "stderr",
     "output_type": "stream",
     "text": [
      "100%|██████████| 157/157 [00:01<00:00, 97.23it/s]\n"
     ]
    },
    {
     "name": "stdout",
     "output_type": "stream",
     "text": [
      "Current loss is:  717.2698364257812\n",
      "Epoch:  58\n"
     ]
    },
    {
     "name": "stderr",
     "output_type": "stream",
     "text": [
      "100%|██████████| 157/157 [00:01<00:00, 96.32it/s]\n"
     ]
    },
    {
     "name": "stdout",
     "output_type": "stream",
     "text": [
      "Current loss is:  725.613037109375\n",
      "Epoch:  59\n"
     ]
    },
    {
     "name": "stderr",
     "output_type": "stream",
     "text": [
      "100%|██████████| 157/157 [00:01<00:00, 96.30it/s]\n"
     ]
    },
    {
     "name": "stdout",
     "output_type": "stream",
     "text": [
      "Current loss is:  697.0919189453125\n",
      "Epoch:  60\n"
     ]
    },
    {
     "name": "stderr",
     "output_type": "stream",
     "text": [
      "100%|██████████| 157/157 [00:01<00:00, 96.26it/s]\n"
     ]
    },
    {
     "name": "stdout",
     "output_type": "stream",
     "text": [
      "Current loss is:  677.637939453125\n",
      "Epoch:  61\n"
     ]
    },
    {
     "name": "stderr",
     "output_type": "stream",
     "text": [
      "100%|██████████| 157/157 [00:01<00:00, 96.39it/s]\n"
     ]
    },
    {
     "name": "stdout",
     "output_type": "stream",
     "text": [
      "Current loss is:  693.9920654296875\n",
      "Epoch:  62\n"
     ]
    },
    {
     "name": "stderr",
     "output_type": "stream",
     "text": [
      "100%|██████████| 157/157 [00:01<00:00, 97.19it/s]\n"
     ]
    },
    {
     "name": "stdout",
     "output_type": "stream",
     "text": [
      "Current loss is:  724.3563842773438\n",
      "Epoch:  63\n"
     ]
    },
    {
     "name": "stderr",
     "output_type": "stream",
     "text": [
      "100%|██████████| 157/157 [00:01<00:00, 94.76it/s]\n"
     ]
    },
    {
     "name": "stdout",
     "output_type": "stream",
     "text": [
      "Current loss is:  769.6248168945312\n",
      "Epoch:  64\n"
     ]
    },
    {
     "name": "stderr",
     "output_type": "stream",
     "text": [
      "100%|██████████| 157/157 [00:01<00:00, 97.96it/s]\n"
     ]
    },
    {
     "name": "stdout",
     "output_type": "stream",
     "text": [
      "Current loss is:  746.1474609375\n",
      "Epoch:  65\n"
     ]
    },
    {
     "name": "stderr",
     "output_type": "stream",
     "text": [
      "100%|██████████| 157/157 [00:01<00:00, 95.52it/s]\n"
     ]
    },
    {
     "name": "stdout",
     "output_type": "stream",
     "text": [
      "Current loss is:  695.146484375\n",
      "Epoch:  66\n"
     ]
    },
    {
     "name": "stderr",
     "output_type": "stream",
     "text": [
      "100%|██████████| 157/157 [00:02<00:00, 69.08it/s]\n"
     ]
    },
    {
     "name": "stdout",
     "output_type": "stream",
     "text": [
      "Current loss is:  762.4674072265625\n",
      "Epoch:  67\n"
     ]
    },
    {
     "name": "stderr",
     "output_type": "stream",
     "text": [
      "100%|██████████| 157/157 [00:02<00:00, 59.36it/s]\n"
     ]
    },
    {
     "name": "stdout",
     "output_type": "stream",
     "text": [
      "Current loss is:  712.1183471679688\n",
      "Epoch:  68\n"
     ]
    },
    {
     "name": "stderr",
     "output_type": "stream",
     "text": [
      "100%|██████████| 157/157 [00:02<00:00, 56.23it/s]\n"
     ]
    },
    {
     "name": "stdout",
     "output_type": "stream",
     "text": [
      "Current loss is:  710.3511962890625\n",
      "Epoch:  69\n"
     ]
    },
    {
     "name": "stderr",
     "output_type": "stream",
     "text": [
      "100%|██████████| 157/157 [00:02<00:00, 58.44it/s]\n"
     ]
    },
    {
     "name": "stdout",
     "output_type": "stream",
     "text": [
      "Current loss is:  687.6925048828125\n",
      "Epoch:  70\n"
     ]
    },
    {
     "name": "stderr",
     "output_type": "stream",
     "text": [
      "100%|██████████| 157/157 [00:02<00:00, 57.51it/s]\n"
     ]
    },
    {
     "name": "stdout",
     "output_type": "stream",
     "text": [
      "Current loss is:  757.9984130859375\n",
      "Epoch:  71\n"
     ]
    },
    {
     "name": "stderr",
     "output_type": "stream",
     "text": [
      "100%|██████████| 157/157 [00:02<00:00, 59.77it/s]\n"
     ]
    },
    {
     "name": "stdout",
     "output_type": "stream",
     "text": [
      "Current loss is:  665.370849609375\n",
      "Epoch:  72\n"
     ]
    },
    {
     "name": "stderr",
     "output_type": "stream",
     "text": [
      "100%|██████████| 157/157 [00:02<00:00, 58.81it/s]\n"
     ]
    },
    {
     "name": "stdout",
     "output_type": "stream",
     "text": [
      "Current loss is:  694.6681518554688\n",
      "Epoch:  73\n"
     ]
    },
    {
     "name": "stderr",
     "output_type": "stream",
     "text": [
      "100%|██████████| 157/157 [00:02<00:00, 59.54it/s]\n"
     ]
    },
    {
     "name": "stdout",
     "output_type": "stream",
     "text": [
      "Current loss is:  667.2000732421875\n",
      "Epoch:  74\n"
     ]
    },
    {
     "name": "stderr",
     "output_type": "stream",
     "text": [
      "100%|██████████| 157/157 [00:02<00:00, 57.86it/s]\n"
     ]
    },
    {
     "name": "stdout",
     "output_type": "stream",
     "text": [
      "Current loss is:  628.4876098632812\n",
      "Epoch:  75\n"
     ]
    },
    {
     "name": "stderr",
     "output_type": "stream",
     "text": [
      "100%|██████████| 157/157 [00:02<00:00, 58.22it/s]\n"
     ]
    },
    {
     "name": "stdout",
     "output_type": "stream",
     "text": [
      "Current loss is:  687.96337890625\n",
      "Epoch:  76\n"
     ]
    },
    {
     "name": "stderr",
     "output_type": "stream",
     "text": [
      "100%|██████████| 157/157 [00:02<00:00, 55.22it/s]\n"
     ]
    },
    {
     "name": "stdout",
     "output_type": "stream",
     "text": [
      "Current loss is:  654.0567016601562\n",
      "Epoch:  77\n"
     ]
    },
    {
     "name": "stderr",
     "output_type": "stream",
     "text": [
      "100%|██████████| 157/157 [00:02<00:00, 56.30it/s]\n"
     ]
    },
    {
     "name": "stdout",
     "output_type": "stream",
     "text": [
      "Current loss is:  675.7462768554688\n",
      "Epoch:  78\n"
     ]
    },
    {
     "name": "stderr",
     "output_type": "stream",
     "text": [
      "100%|██████████| 157/157 [00:02<00:00, 56.56it/s]\n"
     ]
    },
    {
     "name": "stdout",
     "output_type": "stream",
     "text": [
      "Current loss is:  644.8107299804688\n",
      "Epoch:  79\n"
     ]
    },
    {
     "name": "stderr",
     "output_type": "stream",
     "text": [
      "100%|██████████| 157/157 [00:02<00:00, 58.02it/s]\n"
     ]
    },
    {
     "name": "stdout",
     "output_type": "stream",
     "text": [
      "Current loss is:  630.855712890625\n",
      "Epoch:  80\n"
     ]
    },
    {
     "name": "stderr",
     "output_type": "stream",
     "text": [
      "100%|██████████| 157/157 [00:02<00:00, 57.86it/s]\n"
     ]
    },
    {
     "name": "stdout",
     "output_type": "stream",
     "text": [
      "Current loss is:  628.9815063476562\n",
      "Epoch:  81\n"
     ]
    },
    {
     "name": "stderr",
     "output_type": "stream",
     "text": [
      "100%|██████████| 157/157 [00:02<00:00, 58.70it/s]\n"
     ]
    },
    {
     "name": "stdout",
     "output_type": "stream",
     "text": [
      "Current loss is:  640.4315185546875\n",
      "Epoch:  82\n"
     ]
    },
    {
     "name": "stderr",
     "output_type": "stream",
     "text": [
      "100%|██████████| 157/157 [00:02<00:00, 64.34it/s]\n"
     ]
    },
    {
     "name": "stdout",
     "output_type": "stream",
     "text": [
      "Current loss is:  660.1434936523438\n",
      "Epoch:  83\n"
     ]
    },
    {
     "name": "stderr",
     "output_type": "stream",
     "text": [
      "100%|██████████| 157/157 [00:01<00:00, 93.79it/s]\n"
     ]
    },
    {
     "name": "stdout",
     "output_type": "stream",
     "text": [
      "Current loss is:  716.6370849609375\n",
      "Epoch:  84\n"
     ]
    },
    {
     "name": "stderr",
     "output_type": "stream",
     "text": [
      "100%|██████████| 157/157 [00:01<00:00, 96.81it/s]\n"
     ]
    },
    {
     "name": "stdout",
     "output_type": "stream",
     "text": [
      "Current loss is:  616.294921875\n",
      "Epoch:  85\n"
     ]
    },
    {
     "name": "stderr",
     "output_type": "stream",
     "text": [
      "100%|██████████| 157/157 [00:01<00:00, 96.13it/s]\n"
     ]
    },
    {
     "name": "stdout",
     "output_type": "stream",
     "text": [
      "Current loss is:  623.643798828125\n",
      "Epoch:  86\n"
     ]
    },
    {
     "name": "stderr",
     "output_type": "stream",
     "text": [
      "100%|██████████| 157/157 [00:01<00:00, 98.81it/s] \n"
     ]
    },
    {
     "name": "stdout",
     "output_type": "stream",
     "text": [
      "Current loss is:  671.0151977539062\n",
      "Epoch:  87\n"
     ]
    },
    {
     "name": "stderr",
     "output_type": "stream",
     "text": [
      "100%|██████████| 157/157 [00:01<00:00, 97.70it/s]\n"
     ]
    },
    {
     "name": "stdout",
     "output_type": "stream",
     "text": [
      "Current loss is:  707.40185546875\n",
      "Epoch:  88\n"
     ]
    },
    {
     "name": "stderr",
     "output_type": "stream",
     "text": [
      "100%|██████████| 157/157 [00:01<00:00, 94.08it/s]\n"
     ]
    },
    {
     "name": "stdout",
     "output_type": "stream",
     "text": [
      "Current loss is:  615.4835815429688\n",
      "Epoch:  89\n"
     ]
    },
    {
     "name": "stderr",
     "output_type": "stream",
     "text": [
      "100%|██████████| 157/157 [00:01<00:00, 96.80it/s]\n"
     ]
    },
    {
     "name": "stdout",
     "output_type": "stream",
     "text": [
      "Current loss is:  656.57421875\n",
      "Epoch:  90\n"
     ]
    },
    {
     "name": "stderr",
     "output_type": "stream",
     "text": [
      "100%|██████████| 157/157 [00:01<00:00, 97.62it/s] \n"
     ]
    },
    {
     "name": "stdout",
     "output_type": "stream",
     "text": [
      "Current loss is:  550.0068359375\n",
      "Epoch:  91\n"
     ]
    },
    {
     "name": "stderr",
     "output_type": "stream",
     "text": [
      "100%|██████████| 157/157 [00:01<00:00, 96.74it/s]\n"
     ]
    },
    {
     "name": "stdout",
     "output_type": "stream",
     "text": [
      "Current loss is:  641.2825317382812\n",
      "Epoch:  92\n"
     ]
    },
    {
     "name": "stderr",
     "output_type": "stream",
     "text": [
      "100%|██████████| 157/157 [00:01<00:00, 95.76it/s]\n"
     ]
    },
    {
     "name": "stdout",
     "output_type": "stream",
     "text": [
      "Current loss is:  654.3657836914062\n",
      "Epoch:  93\n"
     ]
    },
    {
     "name": "stderr",
     "output_type": "stream",
     "text": [
      "100%|██████████| 157/157 [00:01<00:00, 96.46it/s]\n"
     ]
    },
    {
     "name": "stdout",
     "output_type": "stream",
     "text": [
      "Current loss is:  676.4857177734375\n",
      "Epoch:  94\n"
     ]
    },
    {
     "name": "stderr",
     "output_type": "stream",
     "text": [
      "100%|██████████| 157/157 [00:02<00:00, 74.42it/s]\n"
     ]
    },
    {
     "name": "stdout",
     "output_type": "stream",
     "text": [
      "Current loss is:  684.6140747070312\n",
      "Epoch:  95\n"
     ]
    },
    {
     "name": "stderr",
     "output_type": "stream",
     "text": [
      "100%|██████████| 157/157 [00:03<00:00, 51.26it/s]\n"
     ]
    },
    {
     "name": "stdout",
     "output_type": "stream",
     "text": [
      "Current loss is:  640.1181030273438\n",
      "Epoch:  96\n"
     ]
    },
    {
     "name": "stderr",
     "output_type": "stream",
     "text": [
      "100%|██████████| 157/157 [00:03<00:00, 51.58it/s]\n"
     ]
    },
    {
     "name": "stdout",
     "output_type": "stream",
     "text": [
      "Current loss is:  653.6797485351562\n",
      "Epoch:  97\n"
     ]
    },
    {
     "name": "stderr",
     "output_type": "stream",
     "text": [
      "100%|██████████| 157/157 [00:03<00:00, 51.59it/s]\n"
     ]
    },
    {
     "name": "stdout",
     "output_type": "stream",
     "text": [
      "Current loss is:  687.355224609375\n",
      "Epoch:  98\n"
     ]
    },
    {
     "name": "stderr",
     "output_type": "stream",
     "text": [
      "100%|██████████| 157/157 [00:02<00:00, 52.51it/s]\n"
     ]
    },
    {
     "name": "stdout",
     "output_type": "stream",
     "text": [
      "Current loss is:  650.63232421875\n",
      "Epoch:  99\n"
     ]
    },
    {
     "name": "stderr",
     "output_type": "stream",
     "text": [
      "100%|██████████| 157/157 [00:03<00:00, 48.88it/s]\n"
     ]
    },
    {
     "name": "stdout",
     "output_type": "stream",
     "text": [
      "Current loss is:  642.1296997070312\n",
      "Epoch:  100\n"
     ]
    },
    {
     "name": "stderr",
     "output_type": "stream",
     "text": [
      "100%|██████████| 157/157 [00:03<00:00, 47.87it/s]"
     ]
    },
    {
     "name": "stdout",
     "output_type": "stream",
     "text": [
      "Current loss is:  633.5084228515625\n"
     ]
    },
    {
     "name": "stderr",
     "output_type": "stream",
     "text": [
      "\n"
     ]
    }
   ],
   "source": [
    "Pretrain_VAE(rep_buffer, encoder, decoder, obs_channel, beta=beta)"
   ]
  },
  {
   "cell_type": "code",
   "execution_count": 54,
   "id": "a792d49b-2802-49aa-8bf8-46152fff0ee2",
   "metadata": {},
   "outputs": [
    {
     "data": {
      "image/png": "[encoded data removed]",
      "text/plain": [
       "<Figure size 720x1080 with 4 Axes>"
      ]
     },
     "metadata": {
      "needs_background": "light"
     },
     "output_type": "display_data"
    }
   ],
   "source": [
    "\n",
    "sample = obs[106]\n",
    "plot_obs(sample, 1)"
   ]
  },
  {
   "cell_type": "code",
   "execution_count": 55,
   "id": "2a664eec-138a-4909-bc2a-7187c967f153",
   "metadata": {},
   "outputs": [
    {
     "data": {
      "image/png": "[encoded data removed]",
      "text/plain": [
       "<Figure size 720x1080 with 4 Axes>"
      ]
     },
     "metadata": {
      "needs_background": "light"
     },
     "output_type": "display_data"
    }
   ],
   "source": [
    "sample = torch.FloatTensor(sample) / 255.0\n",
    "sample = sample.view(-1, 4, 128, 128)\n",
    "z ,_, _ = encoder(sample.to(device))\n",
    "recons = decoder(z)\n",
    "recons = recons.detach().cpu().numpy()\n",
    "\n",
    "plot_obs(recons, 1)"
   ]
  },
  {
   "cell_type": "code",
   "execution_count": null,
   "id": "adb73478-eef3-457f-8dbc-495acdf588fe",
   "metadata": {},
   "outputs": [],
   "source": []
  }
 ],
 "metadata": {
  "kernelspec": {
   "display_name": "Python 3 (ipykernel)",
   "language": "python",
   "name": "python3"
  },
  "language_info": {
   "codemirror_mode": {
    "name": "ipython",
    "version": 3
   },
   "file_extension": ".py",
   "mimetype": "text/x-python",
   "name": "python",
   "nbconvert_exporter": "python",
   "pygments_lexer": "ipython3",
   "version": "3.10.4"
  }
 },
 "nbformat": 4,
 "nbformat_minor": 5
}
