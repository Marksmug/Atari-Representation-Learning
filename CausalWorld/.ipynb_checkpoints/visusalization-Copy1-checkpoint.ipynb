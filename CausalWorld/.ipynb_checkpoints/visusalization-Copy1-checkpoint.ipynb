{
 "cells": [
  {
   "cell_type": "code",
   "execution_count": null,
   "id": "94c2e993",
   "metadata": {},
   "outputs": [],
   "source": [
    "import cv2\n",
    "import gym\n",
    "from collections import deque\n",
    "import numpy as np\n",
    "import matplotlib.pyplot as plt\n",
    "from sys import getsizeof\n",
    "import time\n",
    "import torch \n",
    "import torch.nn as nn\n",
    "import torch.nn.functional as F\n",
    "import torch.optim as optim\n",
    "from torch.distributions import Normal\n",
    "from tqdm import tqdm"
   ]
  },
  {
   "cell_type": "code",
   "execution_count": null,
   "id": "78e7ea3a",
   "metadata": {},
   "outputs": [],
   "source": [
    "from causal_world.task_generators.task import generate_task\n",
    "from causal_world.envs.causalworld import CausalWorld\n"
   ]
  },
  {
   "cell_type": "code",
   "execution_count": null,
   "id": "87b0fb10",
   "metadata": {},
   "outputs": [],
   "source": [
    "class FrameStack(gym.Wrapper):\n",
    "    \n",
    "    \"\"\"\n",
    "    stack multiple frames together \n",
    "    as done in the Nature paper and later work.\n",
    "    allow for single goal observation, i.e,\n",
    "    get a single frame of goal obs for each view, \n",
    "    because the consecutive frames of goal obs does not provide\n",
    "    dynamic information to the agent, i.e, goal object doesn't move\n",
    "    \n",
    "    \n",
    "\n",
    "    :param env: Environment to wrap\n",
    "    :param k: frames that stack together\n",
    "    :param single_goal_obs: flag that control how many \n",
    "     frames of goal obs to stack\n",
    "    \"\"\"\n",
    "    def __init__(self, env, k, single_goal_obs = True):\n",
    "        gym.Wrapper.__init__(self, env)\n",
    "        self._k = k\n",
    "        self.single_goal_obs = single_goal_obs\n",
    "        self._frames = deque([], maxlen=k)\n",
    "        self.shp = env.observation_space.shape\n",
    "        self.num_view = int(self.shp[0]/2)\n",
    "        # default channel is 1 (for Grayscale obs)\n",
    "        self.num_channel = 1                   \n",
    "        \n",
    "        # reshape of the obs if it's RGB and \n",
    "        # change the number of channel \n",
    "        if len(self.shp) == 4:\n",
    "            self.shp = (self.shp[0] * self.shp[-1], self.shp[1], self.shp[2])\n",
    "            self.num_channel = 3\n",
    "            \n",
    "        if self.single_goal_obs:\n",
    "            shape = ((self.num_view * self.num_channel * (k + 1),) + self.shp[1:])\n",
    "        else:\n",
    "            shape = ((self.shp[0] * k,) + self.shp[1:])\n",
    "        self.observation_space = gym.spaces.Box(\n",
    "            low=0,\n",
    "            high=1,\n",
    "            shape=shape,\n",
    "            dtype=env.observation_space.dtype\n",
    "        )\n",
    "        \n",
    "\n",
    "    def reset(self):\n",
    "        obs = self.env.reset()\n",
    "        # reshape the initial obs\n",
    "        obs = obs.reshape(self.shp)\n",
    "        for _ in range(self._k):\n",
    "            self._frames.append(obs)\n",
    "        return self._get_obs()\n",
    "\n",
    "    def step(self, action):\n",
    "        obs, reward, done, info = self.env.step(action)\n",
    "         # reshape the obs\n",
    "        obs = obs.reshape(self.shp)\n",
    "        self._frames.append(obs)\n",
    "        return self._get_obs(), reward, done, info\n",
    "\n",
    "    def _get_obs(self):\n",
    "        assert len(self._frames) == self._k\n",
    "        \n",
    "        frames_target = []\n",
    "        frames_goal = []\n",
    "        # extract the target obs and goal obs to seperate list \n",
    "        for i in range(self._k):\n",
    "            for j in range(self.shp[0]):\n",
    "                if j < self.shp[0]/2:\n",
    "                    frames_target.append(self._frames[i][j])\n",
    "                else:\n",
    "                    frames_goal.append(self._frames[i][j])\n",
    "        # merge the two target obs list and goal obs list\n",
    "        # each element in the list is multiple views of the object \n",
    "        last_frames = []\n",
    "        if self.single_goal_obs:\n",
    "            # only merge one frame from different view of goal\n",
    "            for i in range(int(len(frames_goal)/self._k)):\n",
    "                last_frames.append(frames_goal[i])\n",
    "        else:\n",
    "            last_frames = frames_goal\n",
    "        return np.concatenate((frames_target,last_frames), axis=0)"
   ]
  },
  {
   "cell_type": "code",
   "execution_count": null,
   "id": "57e970a5-7a4d-48a6-9737-26fd7fa5030e",
   "metadata": {},
   "outputs": [],
   "source": [
    "class ResizeFrame(gym.ObservationWrapper):\n",
    "    \"\"\"\n",
    "    warp frames to 84x84 (default)\n",
    "    as done in the Nature paper and later work.\n",
    "\n",
    "    :param env: Environment to wrap\n",
    "    :param width: New frame width\n",
    "    :param height: New frame height\n",
    "    \"\"\"\n",
    "\n",
    "    def __init__(self, env: gym.Env, max_episode_length, width: int = 84, height: int = 84) -> None:\n",
    "        super().__init__(env)\n",
    "        self.width = width\n",
    "        self.height = height\n",
    "        assert isinstance(env.observation_space, gym.spaces.Box), f\"Expected Box space, got {env.observation_space}\"\n",
    "        #self._max_episode_steps = max_episode_length\n",
    "        if len(env.observation_space.shape) == 4:\n",
    "            self.observation_space = gym.spaces.Box(\n",
    "                low=0,\n",
    "                high=1,\n",
    "                shape=(env.observation_space.shape[0], self.height, self.width, env.observation_space.shape[-1]),\n",
    "                dtype=env.observation_space.dtype,  # type: ignore[arg-type]\n",
    "            )\n",
    "        if len(env.observation_space.shape) == 3:\n",
    "            self.observation_space = gym.spaces.Box(\n",
    "                low=0,\n",
    "                high=1,\n",
    "                shape=(env.observation_space.shape[0], self.height, self.width),\n",
    "                dtype=env.observation_space.dtype,  # type: ignore[arg-type]\n",
    "            )\n",
    "        \n",
    "\n",
    "    def observation(self, frame: np.ndarray) -> np.ndarray:\n",
    "        \"\"\"\n",
    "        returns the current observation from a frame\n",
    "\n",
    "        :param frame: environment frame\n",
    "        :return: the observation\n",
    "        \"\"\"\n",
    "        assert cv2 is not None, \"OpenCV is not installed, you can do `pip install opencv-python`\"\n",
    "        \n",
    "        new_frame = np.empty(self.observation_space.shape, dtype = self.observation_space.dtype)\n",
    "        for i in range(len(frame)):\n",
    "            new_frame[i] = cv2.resize(frame[i], (self.width, self.height), interpolation=cv2.INTER_AREA)\n",
    "        return new_frame"
   ]
  },
  {
   "cell_type": "code",
   "execution_count": null,
   "id": "6524b28b-cde2-4bf1-ae5f-818467dd3059",
   "metadata": {},
   "outputs": [],
   "source": [
    "class GrayFrame(gym.ObservationWrapper):\n",
    "    \"\"\"\n",
    "    Convert frames to gray scale (default)\n",
    "    as done in the Nature paper and later work.\n",
    "\n",
    "    :param env: Environment to wrap\n",
    "    :param width: New frame width\n",
    "    :param height: New frame height\n",
    "    \"\"\"\n",
    "\n",
    "    def __init__(self, env: gym.Env, max_episode_length) -> None:\n",
    "        super().__init__(env)\n",
    "        assert isinstance(env.observation_space, gym.spaces.Box), f\"Expected Box space, got {env.observation_space}\"\n",
    "        \n",
    "        #self._max_episode_steps = max_episode_length\n",
    "        if len(env.observation_space.shape) == 3:\n",
    "            return\n",
    "        self.observation_space = gym.spaces.Box(\n",
    "            low=0,\n",
    "            high=1,\n",
    "            shape= env.observation_space.shape[:3],\n",
    "            dtype=env.observation_space.dtype,  # type: ignore[arg-type]\n",
    "        )\n",
    "        \n",
    "\n",
    "    def observation(self, frame: np.ndarray) -> np.ndarray:\n",
    "        \"\"\"\n",
    "        returns the current observation from a frame\n",
    "\n",
    "        :param frame: environment frame\n",
    "        :return: the observation\n",
    "        \"\"\"\n",
    "        assert cv2 is not None, \"OpenCV is not installed, you can do `pip install opencv-python`\"\n",
    "        \n",
    "        if self.observation_space.dtype != 'uint8':\n",
    "            frame = np.float32(frame)\n",
    "        new_frame = np.empty(self.observation_space.shape, dtype = self.observation_space.dtype)\n",
    "        for i in range(len(frame)):\n",
    "            new_frame[i] = cv2.cvtColor(frame[i], cv2.COLOR_RGB2GRAY) \n",
    "\n",
    "\n",
    "        return new_frame    "
   ]
  },
  {
   "cell_type": "code",
   "execution_count": null,
   "id": "9d3a64f8-1f79-43e1-8b2d-d2afe52bda48",
   "metadata": {},
   "outputs": [],
   "source": [
    "# adapted from stable_baselines3/common/atari_wrappers.py\n",
    "\n",
    "class DtypeChange(gym.ObservationWrapper):\n",
    "    \"\"\"\n",
    "    Convert data type to uint8 (default)\n",
    "\n",
    "    :param env: Environment to wrap\n",
    "    :param type: data type\n",
    "\n",
    "    \"\"\"\n",
    "\n",
    "    def __init__(self, env: gym.Env, dtype = 'uint8') -> None:\n",
    "        super().__init__(env)\n",
    "        assert isinstance(env.observation_space, gym.spaces.Box), f\"Expected Box space, got {env.observation_space}\"\n",
    "        \n",
    "        if len(env.observation_space.shape) == 3:\n",
    "            return\n",
    "        self.observation_space = gym.spaces.Box(\n",
    "            low=0,\n",
    "            high=1,\n",
    "            shape= env.observation_space.shape,\n",
    "            dtype=dtype,  # type: ignore[arg-type]\n",
    "        )\n",
    "        \n",
    "\n",
    "    def observation(self, frame: np.ndarray) -> np.ndarray:\n",
    "        \"\"\"\n",
    "        returns the current observation from a frame\n",
    "\n",
    "        :param frame: environment frame\n",
    "        :return: the observation\n",
    "        \"\"\"\n",
    "        assert cv2 is not None, \"OpenCV is not installed, you can do `pip install opencv-python`\"\n",
    "        \n",
    "        frame = frame * 255\n",
    "        frame = frame.astype(np.uint8)\n",
    "\n",
    "        return frame"
   ]
  },
  {
   "cell_type": "code",
   "execution_count": null,
   "id": "178ee886-ac80-42be-a449-cbc0cfdea516",
   "metadata": {},
   "outputs": [],
   "source": [
    "def make_env(task_name, skip_frame, seed, maximum_episode_length, observation_mode, capture_video, run_name):\n",
    "    def thunk():\n",
    "        \n",
    "        task = generate_task(task_generator_id=task_name,dense_reward_weights=np.array([2500, 2500, 0]),\n",
    "                      fractional_reward_weight=100)\n",
    "        \n",
    "        #piking task\n",
    "        #task = generate_task(task_generator_id=task_name,\n",
    "        #                  dense_reward_weights=np.array(\n",
    "        #                      [250, 0, 125, 0, 750, 0, 0, 0.005]),\n",
    "        #                  fractional_reward_weight=1,\n",
    "        #                  tool_block_mass=0.02)\n",
    "        if capture_video:\n",
    "            env = CausalWorld(task=task, skip_frame=skip_frame, seed=seed, max_episode_length = maximum_episode_length, observation_mode = observation_mode, render_mode=\"rgb_array\")\n",
    "            # record the video every 250 episode\n",
    "            env = gym.wrappers.RecordVideo(env, f\"video/{run_name}\", episode_trigger = lambda x: x % 250 == 0)\n",
    "        else:\n",
    "            env = CausalWorld(task=task, skip_frame=skip_frame, seed=seed,  max_episode_length = maximum_episode_length, observation_mode = observation_mode, camera_indicies = [0])\n",
    "        env = gym.wrappers.RecordEpisodeStatistics(env)\n",
    "        env = DtypeChange(env)\n",
    "        env = GrayFrame(env, max_episode_length=maximum_episode_length)\n",
    "        #env = ResizeFrame(env, max_episode_length=maximum_episode_length, width=84, height=84)\n",
    "        env = FrameStack(env, k=3, single_goal_obs=True)\n",
    "        \n",
    "\n",
    "        env.seed(seed)\n",
    "        # sample random action in exploration phase\n",
    "        env.action_space.seed(seed)\n",
    "        #env.observation_space.seed(seed)\n",
    "        return env\n",
    "    return thunk"
   ]
  },
  {
   "cell_type": "code",
   "execution_count": null,
   "id": "9808c73f-46e4-461e-a67e-c49866d5ed96",
   "metadata": {},
   "outputs": [],
   "source": [
    "class replayBuffer():\n",
    "    def __init__(self, obs_space, obs_dim, act_space, act_dim, capacity, device):\n",
    "        self.device = device\n",
    "        self.capacity = capacity\n",
    "        self.obs_space = obs_space\n",
    "        self.act_space = act_space\n",
    "        self.obs_buffer = np.zeros((tuple([capacity]) + obs_dim), dtype=self.obs_space)\n",
    "        self.next_obs_buffer = np.zeros((tuple([capacity]) + obs_dim), dtype=self.obs_space)\n",
    "        self.act_buffer = np.zeros((capacity, act_dim), dtype=self.act_space)\n",
    "        self.r_buffer = np.zeros(capacity, dtype=np.float32)\n",
    "        self.done_buffer = np.zeros(capacity, dtype=np.float32)\n",
    "\n",
    "        self.ptr = 0\n",
    "        self.current_size = 0\n",
    "\n",
    "    def store(self, obs, act, r, next_obs, done):\n",
    "        \n",
    "        # flattent the observation \n",
    "        # doesn't support parallel envs\n",
    "        #obs.flatten()\n",
    "        #next_obs.flatten()\n",
    "\n",
    "        self.obs_buffer[self.ptr] = obs\n",
    "        self.act_buffer[self.ptr] = act\n",
    "        self.r_buffer[self.ptr] = r\n",
    "        self.next_obs_buffer[self.ptr] = next_obs\n",
    "        self.done_buffer[self.ptr] = done\n",
    "        self.ptr = (self.ptr + 1) % self.capacity\n",
    "        self.current_size = min(self.current_size + 1, self.capacity)\n",
    "\n",
    "    def sample(self, batch_size=32):\n",
    "        idx = np.random.randint(0, self.current_size, size=batch_size)\n",
    "        # the reward is rescaled\n",
    "        batch = dict(\n",
    "            obs = self.obs_buffer[idx],\n",
    "            act = self.act_buffer[idx],\n",
    "            r = self.r_buffer[idx],\n",
    "            next_obs = self.next_obs_buffer[idx],\n",
    "            done = self.done_buffer[idx]\n",
    "        )   \n",
    "        \n",
    "        return batch\n",
    "    \n",
    "    def shuffle(self):\n",
    "        # Generate a shuffled index array\n",
    "        idx = np.arange(self.current_size)\n",
    "        np.random.shuffle(idx)\n",
    "\n",
    "        # Reorder all buffers according to the shuffled indices\n",
    "        self.obs_buffer[:self.current_size] = self.obs_buffer[idx]\n",
    "        self.next_obs_buffer[:self.current_size] = self.next_obs_buffer[idx]\n",
    "        self.act_buffer[:self.current_size] = self.act_buffer[idx]\n",
    "        self.r_buffer[:self.current_size] = self.r_buffer[idx]\n",
    "        self.done_buffer[:self.current_size] = self.done_buffer[idx]"
   ]
  },
  {
   "cell_type": "code",
   "execution_count": null,
   "id": "513772a4-c740-4134-b0e3-6a784493c135",
   "metadata": {},
   "outputs": [],
   "source": [
    "def plot_obs(obs, num_view, RGB=False):\n",
    "    fig = plt.figure(figsize=(10, 15)) \n",
    "    if len(obs.shape)==4:\n",
    "        obs = obs[0]\n",
    "    if RGB:\n",
    "        num_fig = int(obs.shape[0] / 3)\n",
    "        obs = obs.reshape(num_fig, 84, 84, 3)\n",
    "    else:\n",
    "        num_fig = obs.shape[0]\n",
    "    \n",
    "    rows = int(num_fig / num_view)\n",
    "    columns = num_view\n",
    "\n",
    "    for i in range(num_fig):\n",
    "        fig.add_subplot(rows, columns, i+1)\n",
    "        plt.imshow(obs[i])"
   ]
  },
  {
   "cell_type": "code",
   "execution_count": null,
   "id": "638bba38-5f1d-4063-ab75-d1075fa41a97",
   "metadata": {},
   "outputs": [],
   "source": [
    "envs = gym.vector.SyncVectorEnv([make_env('pushing', 3, i, 600, 'pixel', False, 'dump') for i in range(1)]) "
   ]
  },
  {
   "cell_type": "code",
   "execution_count": null,
   "id": "42dd7f92-8602-468a-b163-4cc7fd99da21",
   "metadata": {},
   "outputs": [],
   "source": [
    "envs.observation_space"
   ]
  },
  {
   "cell_type": "markdown",
   "id": "4893ca7f-bc77-4b4c-ac0e-d52367a3457d",
   "metadata": {
    "jp-MarkdownHeadingCollapsed": true,
    "tags": []
   },
   "source": [
    "## check the replay buffer"
   ]
  },
  {
   "cell_type": "code",
   "execution_count": null,
   "id": "02685a32-0908-4443-b417-07cec04c604f",
   "metadata": {},
   "outputs": [],
   "source": [
    "start = time.time()\n",
    "obs = envs.reset()\n",
    "print(f\"size of single observation: {getsizeof(obs)}\")\n",
    "\n",
    "rep_buffer = replayBuffer(envs.single_observation_space.dtype, envs.single_observation_space.shape, \n",
    "                          envs.single_action_space.dtype, envs.single_action_space.shape[0],\n",
    "                          capacity=1000, device='cpu')\n",
    "final_obs = []\n",
    "for i in range(100):\n",
    "    a = np.array([envs.single_action_space.sample()])\n",
    "    next_obs, r, done,infos = envs.step(a)\n",
    "   \n",
    "    \n",
    "    #handle the terminal observation\n",
    "    real_next_obs = next_obs.copy()\n",
    "    for idx, d in enumerate(done):\n",
    "        if d:\n",
    "            real_next_obs[idx] = infos[\"final_observation\"][idx]\n",
    "            final_obs.append(real_next_obs)\n",
    "    \n",
    "    rep_buffer.store(obs, a,r, real_next_obs, done)\n",
    "            \n",
    "    obs = next_obs\n",
    "end = time.time()\n",
    "\n",
    "time_cost = end-start\n",
    "buffer_size = getsizeof(rep_buffer.obs_buffer) + getsizeof(rep_buffer.next_obs_buffer)\n",
    "print(f\"Runing time: {time_cost}\")\n",
    "print(f\"observation buffer size: {buffer_size/1024/1024}MB\")"
   ]
  },
  {
   "cell_type": "code",
   "execution_count": null,
   "id": "cadf0135-5eaf-462c-a82d-49b6dfef9ea2",
   "metadata": {},
   "outputs": [],
   "source": [
    "print(f\"buffer size: {getsizeof(rep_buffer.obs_buffer)}\")"
   ]
  },
  {
   "cell_type": "code",
   "execution_count": null,
   "id": "00634d3d-91d3-4cb0-9abb-f2a468364310",
   "metadata": {},
   "outputs": [],
   "source": [
    "print(f\"buffer size: {getsizeof(rep_buffer.obs_buffer)}\")"
   ]
  },
  {
   "cell_type": "code",
   "execution_count": null,
   "id": "a9a4c154-a7c6-4414-a8e7-437f1b6e9bf5",
   "metadata": {},
   "outputs": [],
   "source": [
    "dones = rep_buffer.done_buffer\n",
    "done_index = []\n",
    "for i in range(len(dones)):\n",
    "    if dones[i]:\n",
    "        done_index.append(i)\n",
    "\n"
   ]
  },
  {
   "cell_type": "code",
   "execution_count": null,
   "id": "58f88610-cf94-403d-a7cd-5c7c4ea81a81",
   "metadata": {},
   "outputs": [],
   "source": [
    "obs = rep_buffer.obs_buffer\n",
    "next_obs = rep_buffer.next_obs_buffer\n",
    "print(obs[2].shape)\n",
    "#plot_obs(obs[done_index[1]+1], 1)"
   ]
  },
  {
   "cell_type": "code",
   "execution_count": null,
   "id": "ca8a1ef6-35a7-40a1-a586-d04388d4c000",
   "metadata": {},
   "outputs": [],
   "source": [
    "batch = rep_buffer.sample(10)\n",
    "obs = batch['next_obs']\n",
    "print(obs.shape)\n"
   ]
  },
  {
   "cell_type": "code",
   "execution_count": null,
   "id": "6ad99c13-b05f-4230-84f7-d835dfdd13a8",
   "metadata": {},
   "outputs": [],
   "source": [
    "plot_obs(obs[5], 2)"
   ]
  },
  {
   "cell_type": "code",
   "execution_count": null,
   "id": "c3a62653-3e45-4ab2-9e1b-82aa575cbda5",
   "metadata": {},
   "outputs": [],
   "source": [
    "\n",
    "task = generate_task(task_generator_id=\"pushing\",dense_reward_weights=np.array([2500, 2500, 0]),\n",
    "                      fractional_reward_weight=100)\n",
    "\n",
    "env = CausalWorld(task=task, skip_frame=5, observation_mode = \"pixel\", camera_indicies = [0, 2])\n",
    "\n",
    "env = GrayFrame(env)\n",
    "env = WarpFrame(env)\n",
    "env = FrameStack(env, k=3, single_goal_obs = True)\n",
    "\n",
    "\n"
   ]
  },
  {
   "cell_type": "code",
   "execution_count": null,
   "id": "34a951c3-fb77-4d13-9241-da2b3f4c3ae7",
   "metadata": {},
   "outputs": [],
   "source": [
    "print(envs.single_observation_space)"
   ]
  },
  {
   "cell_type": "markdown",
   "id": "b73d495c-d4fb-4766-917c-5f7646e7a016",
   "metadata": {
    "jp-MarkdownHeadingCollapsed": true,
    "tags": []
   },
   "source": [
    "## initialize the env"
   ]
  },
  {
   "cell_type": "code",
   "execution_count": null,
   "id": "9b1fedf0-0503-42b2-8a06-8b8b80f14e26",
   "metadata": {},
   "outputs": [],
   "source": [
    "obs = envs.reset()\n",
    "print(s.shape)\n",
    "print(envs.observation_space.dtype)\n"
   ]
  },
  {
   "cell_type": "code",
   "execution_count": null,
   "id": "74fb309c-d768-422b-beb6-03e36b630101",
   "metadata": {},
   "outputs": [],
   "source": [
    "plot_obs(obs, 1, True)"
   ]
  },
  {
   "cell_type": "markdown",
   "id": "7a1a4177-8cba-4df9-b911-b083043c7b61",
   "metadata": {
    "jp-MarkdownHeadingCollapsed": true,
    "tags": []
   },
   "source": [
    "## run random policy"
   ]
  },
  {
   "cell_type": "code",
   "execution_count": null,
   "id": "c69913b3-8773-4095-acbc-0f2bbcda8a6e",
   "metadata": {},
   "outputs": [],
   "source": [
    "for i in range(100):\n",
    "    a = envs.action_space.sample()\n",
    "    obs,_,_,_ = envs.step(a)"
   ]
  },
  {
   "cell_type": "code",
   "execution_count": null,
   "id": "16ff5100-cdb8-4d50-acbb-eca8bbf58a48",
   "metadata": {},
   "outputs": [],
   "source": [
    "print(a)"
   ]
  },
  {
   "cell_type": "code",
   "execution_count": null,
   "id": "2692c3d9-d018-47a7-af09-fb74fc201c7f",
   "metadata": {},
   "outputs": [],
   "source": [
    "plot_obs(obs, 1, True)"
   ]
  },
  {
   "cell_type": "code",
   "execution_count": null,
   "id": "bd7efc5f-dcb8-411e-9f93-f7c56cfb98f2",
   "metadata": {},
   "outputs": [],
   "source": [
    "s = s.reshape(6, 128, 128, 3)\n",
    "\n",
    "fig = plt.figure(figsize=(10, 7)) \n",
    "\n",
    "rows = 3\n",
    "columns = 3\n",
    "index = 1\n",
    "for i in range(18):\n",
    "    \n",
    "    if (i+1)%6 == 1 or (i+1)%6==2 or (i+1)%6==3:\n",
    "        fig.add_subplot(rows, columns, index)\n",
    "        plt.imshow(s[i])\n",
    "        index += 1"
   ]
  },
  {
   "cell_type": "markdown",
   "id": "39481065-db95-416a-9b06-24cb8e252b14",
   "metadata": {},
   "source": [
    "## VAE"
   ]
  },
  {
   "cell_type": "code",
   "execution_count": null,
   "id": "b7c12ac0-8151-4d6b-b932-87e27ae55985",
   "metadata": {},
   "outputs": [],
   "source": [
    "start = time.time()\n",
    "obs = envs.reset()\n",
    "print(f\"size of single observation: {getsizeof(obs)}\")\n",
    "\n",
    "rep_buffer = replayBuffer(envs.single_observation_space.dtype, envs.single_observation_space.shape, \n",
    "                          envs.single_action_space.dtype, envs.single_action_space.shape[0],\n",
    "                          capacity=100000, device='cpu')\n",
    "final_obs = []\n",
    "for i in tqdm(range(100000)):\n",
    "    a = np.array([envs.single_action_space.sample()])\n",
    "    next_obs, r, done,infos = envs.step(a)\n",
    "   \n",
    "    \n",
    "    #handle the terminal observation\n",
    "    real_next_obs = next_obs.copy()\n",
    "    for idx, d in enumerate(done):\n",
    "        if d:\n",
    "            real_next_obs[idx] = infos[\"final_observation\"][idx]\n",
    "            final_obs.append(real_next_obs)\n",
    "    \n",
    "    rep_buffer.store(obs, a,r, real_next_obs, done)\n",
    "            \n",
    "    obs = next_obs\n",
    "end = time.time()\n",
    "\n",
    "time_cost = end-start\n",
    "buffer_size = getsizeof(rep_buffer.obs_buffer) + getsizeof(rep_buffer.next_obs_buffer)\n",
    "print(f\"Runing time: {time_cost}\")\n",
    "print(f\"observation buffer size: {buffer_size/1024/1024}MB\")"
   ]
  },
  {
   "cell_type": "code",
   "execution_count": null,
   "id": "13d8d179-e88d-487e-8763-096578d632fd",
   "metadata": {},
   "outputs": [],
   "source": [
    "obs = rep_buffer.obs_buffer\n",
    "#rep_buffer.shuffle()\n",
    "#new_obs = rep_buffer.obs_buffer\n",
    "plot_obs(obs[2], 1)"
   ]
  },
  {
   "cell_type": "code",
   "execution_count": 43,
   "id": "8f3ed3bb-2784-4c1e-a4da-377aaac2d72b",
   "metadata": {},
   "outputs": [],
   "source": [
    "class Encoder(nn.Module):\n",
    "    def __init__(self, input_channel, lattent_dim = 64):\n",
    "        super().__init__()\n",
    "\n",
    "        self.enCNN = nn.Sequential(\n",
    "            nn.Conv2d(input_channel, 32, kernel_size = 3, stride = 2),\n",
    "            nn.ReLU(),\n",
    "            nn.Conv2d(32, 32, kernel_size = 3, stride = 1),\n",
    "            nn.ReLU(),\n",
    "            nn.Conv2d(32, 32, kernel_size = 3, stride = 1),\n",
    "            nn.ReLU(),\n",
    "            nn.Conv2d(32, 32, kernel_size = 3, stride = 1),\n",
    "            nn.ReLU(),\n",
    "            nn.Conv2d(32, 64, kernel_size = 3, stride = 1),\n",
    "            nn.ReLU(),\n",
    "            nn.Conv2d(64, 64, kernel_size = 3, stride = 1),\n",
    "            nn.Flatten(),\n",
    "            nn.ReLU()\n",
    "        )\n",
    "\n",
    "        self.fc_mu = nn.Linear(64 * 53 * 53, lattent_dim)\n",
    "        self.fc_logvar = nn.Linear(64 * 53 * 53, lattent_dim)\n",
    "\n",
    "    def reparameterize(self, mu, logvar):\n",
    "        std = torch.exp(0.5 * logvar)\n",
    "        eps = torch.rand_like(std)\n",
    "        z = mu + std * eps\n",
    "        return z\n",
    "\n",
    "    def forward(self, x):\n",
    "        x = x/255.0\n",
    "        x = self.enCNN(x)\n",
    "        mu = self.fc_mu(x)\n",
    "        logvar = self.fc_logvar(x)\n",
    "        \n",
    "        z = self.reparameterize(mu, logvar)\n",
    "        return z, mu, logvar\n",
    "\n",
    "class Decoder(nn.Module):\n",
    "    def __init__(self, output_channel, lattent_dim):\n",
    "        super().__init__()\n",
    "\n",
    "        self.fc_input = nn.Linear(lattent_dim, 64 * 53 * 53)\n",
    "        self.deCNN = nn.Sequential(\n",
    "            nn.ConvTranspose2d(64, 64, kernel_size = 3, stride = 1),\n",
    "            nn.ReLU(),\n",
    "            nn.ConvTranspose2d(64, 32, kernel_size = 3, stride = 1),\n",
    "            nn.ReLU(),\n",
    "            nn.ConvTranspose2d(32, 32, kernel_size = 3, stride = 1),\n",
    "            nn.ReLU(),\n",
    "            nn.ConvTranspose2d(32, 32, kernel_size = 3, stride = 1),\n",
    "            nn.ReLU(),\n",
    "            nn.ConvTranspose2d(32, 32, kernel_size = 3, stride = 1),\n",
    "            nn.ReLU(),\n",
    "            nn.ConvTranspose2d(32, output_channel, 3, stride = 2, output_padding = 1)\n",
    "        )\n",
    "\n",
    "    def forward(self, z):\n",
    "        z = self.fc_input(z)\n",
    "        z = torch.relu(z)\n",
    "        z = z.view(-1, 64, 53, 53)\n",
    "        x = self.deCNN(z)\n",
    "        return x\n",
    "    \n",
    "def loss_VAE(x_hat, x, mu, logvar, beta):\n",
    "    \n",
    "    recon_loss = ((x - x_hat)**2).sum()\n",
    "    kl_loss = -0.5 * torch.sum(1 + logvar - mu**2 -  logvar.exp()).sum()\n",
    "    #print(\"kl_loss: \", kl_loss)\n",
    "    #print(\"recon_loss: \", recon_loss)\n",
    "    loss = recon_loss + (beta * kl_loss)\n",
    "    \n",
    "    return loss\n"
   ]
  },
  {
   "cell_type": "code",
   "execution_count": 37,
   "id": "6a91824c-4e7a-414e-81eb-2b2a5f3391e3",
   "metadata": {},
   "outputs": [],
   "source": [
    "class Encoder(nn.Module):\n",
    "    def __init__(self, input_channel, lattent_dim = 64):\n",
    "        super().__init__()\n",
    "\n",
    "        self.enCNN = nn.Sequential(\n",
    "            nn.Conv2d(input_channel, 32, 4, stride = 2),\n",
    "            nn.ReLU(),\n",
    "            nn.Conv2d(32, 64, 4, stride = 2),\n",
    "            nn.ReLU(),\n",
    "            nn.Conv2d(64, 128, 4, stride = 2),\n",
    "            nn.ReLU(),\n",
    "            nn.Conv2d(128, 256, 4, stride = 2),\n",
    "            nn.ReLU(),\n",
    "            nn.Conv2d(256, 256, 4, stride = 2),\n",
    "            nn.Flatten(),\n",
    "            nn.ReLU()\n",
    "        )\n",
    "\n",
    "        self.fc_mu = nn.Linear(256 * 2 * 2, lattent_dim)\n",
    "        self.fc_logvar = nn.Linear(256 * 2 * 2, lattent_dim)\n",
    "\n",
    "    def reparameterize(self, mu, logvar):\n",
    "        std = torch.exp(0.5 * logvar)\n",
    "        eps = torch.rand_like(std)\n",
    "        z = mu + std * eps\n",
    "        return z\n",
    "\n",
    "    def forward(self, x):\n",
    "        x = x/255.0\n",
    "        x = self.enCNN(x)\n",
    "        mu = self.fc_mu(x)\n",
    "        logvar = self.fc_logvar(x)\n",
    "        \n",
    "        z = self.reparameterize(mu, logvar)\n",
    "        return z, mu, logvar\n",
    "\n",
    "class Decoder(nn.Module):\n",
    "    def __init__(self, output_channel, lattent_dim):\n",
    "        super().__init__()\n",
    "\n",
    "        self.fc_input = nn.Linear(lattent_dim, 256 * 2 * 2)\n",
    "        self.deCNN = nn.Sequential(\n",
    "            nn.ConvTranspose2d(256, 256, 4, stride = 2),\n",
    "            nn.ReLU(),\n",
    "            nn.ConvTranspose2d(256, 128, 4, stride = 2),\n",
    "            nn.ReLU(),\n",
    "            nn.ConvTranspose2d(128, 64, 4, stride = 2),\n",
    "            nn.ReLU(),\n",
    "            nn.ConvTranspose2d(64, 32, 4, stride = 2),\n",
    "            nn.ReLU(),\n",
    "            nn.ConvTranspose2d(32, output_channel, 6, stride = 2),\n",
    "        )\n",
    "\n",
    "    def forward(self, z):\n",
    "        z = self.fc_input(z)\n",
    "        z = torch.relu(z)\n",
    "        z = z.view(-1, 256, 2, 2)\n",
    "        x = self.deCNN(z)\n",
    "        return x\n",
    "    \n",
    "def loss_VAE(x_hat, x, mu, logvar, beta):\n",
    "    \n",
    "    recon_loss = ((x - x_hat)**2).mean()\n",
    "    kl_loss = -0.5 * torch.sum(1 + logvar - mu**2 -  logvar.exp()).mean()\n",
    "    #print(\"kl_loss: \", kl_loss)\n",
    "    #print(\"recon_loss: \", recon_loss)\n",
    "    loss = recon_loss + (beta * kl_loss)\n",
    "    \n",
    "    return loss\n"
   ]
  },
  {
   "cell_type": "code",
   "execution_count": 44,
   "id": "a465bbd2-4be6-4dbd-b909-c3526c53fa5e",
   "metadata": {},
   "outputs": [],
   "source": [
    "def Pretrain_VAE(buffer, encoder, decoder, obs_layer, epoch = 100, batch_size = 64, beta = 1):\n",
    "    encoder_optimizer = optim.Adam(encoder.parameters(), lr = 0.00008)\n",
    "    decoder_optimizer = optim.Adam(decoder.parameters(), lr = 0.00008)\n",
    "    \n",
    "    for i in range(epoch):\n",
    "        print(\"Epoch: \", i + 1)\n",
    "        buffer.shuffle()\n",
    "        for start in tqdm(range(0, buffer.current_size, batch_size)):\n",
    "            end = start + batch_size\n",
    "\n",
    "            batch = buffer.obs_buffer[start:end]          #with shape batchsize x 84 x 84 x 3\n",
    "\n",
    "            # normalize the batch\n",
    "            batch = torch.FloatTensor(batch).to(device) /255\n",
    "          \n",
    "            batch = batch.view(-1,obs_layer, 128,128)           #with shape batchsize x 3 x 84 x 84\n",
    "\n",
    "\n",
    "            z, mu, logstd = encoder(batch)\n",
    "            batch_hat = decoder(z)\n",
    "            \n",
    "            encoder_optimizer.zero_grad()\n",
    "            decoder_optimizer.zero_grad()\n",
    "            \n",
    "            loss = loss_VAE(batch_hat, batch, mu, logstd, beta)\n",
    "            loss.backward()\n",
    "            \n",
    "            encoder_optimizer.step()\n",
    "            decoder_optimizer.step()\n",
    "\n",
    "\n",
    "        print(\"Current loss is: \", loss.item())\n",
    "\n",
    "        "
   ]
  },
  {
   "cell_type": "code",
   "execution_count": null,
   "id": "288e20f1-7127-4bec-b188-8e7deeb7ecfa",
   "metadata": {},
   "outputs": [
    {
     "name": "stdout",
     "output_type": "stream",
     "text": [
      "Epoch:  1\n"
     ]
    },
    {
     "name": "stderr",
     "output_type": "stream",
     "text": [
      "100%|██████████| 1563/1563 [00:58<00:00, 26.75it/s]\n"
     ]
    },
    {
     "name": "stdout",
     "output_type": "stream",
     "text": [
      "Current loss is:  12040.7333984375\n",
      "Epoch:  2\n"
     ]
    },
    {
     "name": "stderr",
     "output_type": "stream",
     "text": [
      "100%|██████████| 1563/1563 [00:58<00:00, 26.73it/s]\n"
     ]
    },
    {
     "name": "stdout",
     "output_type": "stream",
     "text": [
      "Current loss is:  9449.71484375\n",
      "Epoch:  3\n"
     ]
    },
    {
     "name": "stderr",
     "output_type": "stream",
     "text": [
      "100%|██████████| 1563/1563 [00:58<00:00, 26.69it/s]\n"
     ]
    },
    {
     "name": "stdout",
     "output_type": "stream",
     "text": [
      "Current loss is:  7941.59912109375\n",
      "Epoch:  4\n"
     ]
    },
    {
     "name": "stderr",
     "output_type": "stream",
     "text": [
      "100%|██████████| 1563/1563 [00:58<00:00, 26.64it/s]\n"
     ]
    },
    {
     "name": "stdout",
     "output_type": "stream",
     "text": [
      "Current loss is:  6696.73779296875\n",
      "Epoch:  5\n"
     ]
    },
    {
     "name": "stderr",
     "output_type": "stream",
     "text": [
      "100%|██████████| 1563/1563 [00:58<00:00, 26.69it/s]\n"
     ]
    },
    {
     "name": "stdout",
     "output_type": "stream",
     "text": [
      "Current loss is:  6190.091796875\n",
      "Epoch:  6\n"
     ]
    },
    {
     "name": "stderr",
     "output_type": "stream",
     "text": [
      "100%|██████████| 1563/1563 [00:57<00:00, 27.15it/s]\n"
     ]
    },
    {
     "name": "stdout",
     "output_type": "stream",
     "text": [
      "Current loss is:  5996.65576171875\n",
      "Epoch:  7\n"
     ]
    },
    {
     "name": "stderr",
     "output_type": "stream",
     "text": [
      "  5%|▍         | 77/1563 [00:02<00:56, 26.45it/s]"
     ]
    }
   ],
   "source": [
    "obs_channel = 4\n",
    "lattent_dim = 100\n",
    "beta = 1\n",
    "device = torch.device('cuda' if torch.cuda.is_available() else 'cpu')\n",
    "\n",
    "encoder = Encoder(obs_channel,lattent_dim).to(device)\n",
    "decoder = Decoder(obs_channel, lattent_dim).to(device)\n",
    "\n",
    "Pretrain_VAE(rep_buffer, encoder, decoder, obs_channel, beta=beta)"
   ]
  },
  {
   "cell_type": "code",
   "execution_count": null,
   "id": "ded9497c-bb27-4a79-8228-8e2e59df4178",
   "metadata": {},
   "outputs": [],
   "source": [
    "Pretrain_VAE(rep_buffer, encoder, decoder, obs_channel, beta=beta)"
   ]
  },
  {
   "cell_type": "code",
   "execution_count": 40,
   "id": "a792d49b-2802-49aa-8bf8-46152fff0ee2",
   "metadata": {},
   "outputs": [
    {
     "data": {
      "image/png": "[encoded data removed]",
      "text/plain": [
       "<Figure size 720x1080 with 4 Axes>"
      ]
     },
     "metadata": {
      "needs_background": "light"
     },
     "output_type": "display_data"
    }
   ],
   "source": [
    "obs = rep_buffer.obs_buffer\n",
    "sample = obs[101]\n",
    "plot_obs(sample, 1)"
   ]
  },
  {
   "cell_type": "code",
   "execution_count": 41,
   "id": "2a664eec-138a-4909-bc2a-7187c967f153",
   "metadata": {},
   "outputs": [
    {
     "data": {
      "image/png": "[encoded data removed]",
      "text/plain": [
       "<Figure size 720x1080 with 4 Axes>"
      ]
     },
     "metadata": {
      "needs_background": "light"
     },
     "output_type": "display_data"
    }
   ],
   "source": [
    "sample = torch.FloatTensor(sample) / 255.0\n",
    "sample = sample.view(-1, 4, 128, 128)\n",
    "z ,_, _ = encoder(sample.to(device))\n",
    "recons = decoder(z)\n",
    "recons = recons.detach().cpu().numpy()\n",
    "plot_obs(recons, 1)"
   ]
  },
  {
   "cell_type": "code",
   "execution_count": null,
   "id": "adb73478-eef3-457f-8dbc-495acdf588fe",
   "metadata": {},
   "outputs": [],
   "source": []
  }
 ],
 "metadata": {
  "kernelspec": {
   "display_name": "Python 3 (ipykernel)",
   "language": "python",
   "name": "python3"
  },
  "language_info": {
   "codemirror_mode": {
    "name": "ipython",
    "version": 3
   },
   "file_extension": ".py",
   "mimetype": "text/x-python",
   "name": "python",
   "nbconvert_exporter": "python",
   "pygments_lexer": "ipython3",
   "version": "3.10.4"
  }
 },
 "nbformat": 4,
 "nbformat_minor": 5
}
